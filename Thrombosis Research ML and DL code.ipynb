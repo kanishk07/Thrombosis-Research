{
  "cells": [
    {
      "cell_type": "code",
      "execution_count": null,
      "metadata": {
        "colab": {
          "base_uri": "https://localhost:8080/"
        },
        "id": "y0DB_KwL2GE2",
        "outputId": "02a41472-acdd-4204-96c7-44a4d17f8cef"
      },
      "outputs": [
        {
          "output_type": "stream",
          "name": "stdout",
          "text": [
            "Mounted at /content/drive\n"
          ]
        }
      ],
      "source": [
        "from google.colab import drive\n",
        "drive.mount('/content/drive')"
      ],
      "id": "y0DB_KwL2GE2"
    },
    {
      "cell_type": "code",
      "execution_count": null,
      "metadata": {
        "id": "ee0b040f"
      },
      "outputs": [],
      "source": [
        "import matplotlib.pyplot as plt\n",
        "import pandas as pd\n",
        "import numpy as np\n"
      ],
      "id": "ee0b040f"
    },
    {
      "cell_type": "code",
      "execution_count": null,
      "metadata": {
        "id": "0a5c7adf"
      },
      "outputs": [],
      "source": [
        "import tensorflow as tf"
      ],
      "id": "0a5c7adf"
    },
    {
      "cell_type": "code",
      "execution_count": null,
      "metadata": {
        "id": "bce0d04c"
      },
      "outputs": [],
      "source": [
        "newMat = pd.read_csv('/content/drive/MyDrive/Documents/UTEP/3rd Sem/Graduate research new_code/newMat_CSV.csv')"
      ],
      "id": "bce0d04c"
    },
    {
      "cell_type": "code",
      "execution_count": null,
      "metadata": {
        "colab": {
          "base_uri": "https://localhost:8080/",
          "height": 424
        },
        "id": "FbUnI7HL3FXA",
        "outputId": "554c4514-449f-4279-8bdc-d6faa1e2fa31"
      },
      "outputs": [
        {
          "output_type": "execute_result",
          "data": {
            "text/plain": [
              "           dp        dx        k2            k3        k4        k5        k6  \\\n",
              "0     703.355  0.220495  0.000012  2.370500e-07  0.000482  0.000020  0.000004   \n",
              "1     715.103  0.227286  0.000010  2.277300e-07  0.000464  0.000019  0.000004   \n",
              "2     628.882  0.257888  0.000010  2.628810e-07  0.000522  0.000017  0.000004   \n",
              "3     542.294  0.139077  0.000011  2.490990e-07  0.000436  0.000017  0.000004   \n",
              "4     310.933  0.148333  0.000010  2.400490e-07  0.000514  0.000019  0.000004   \n",
              "...       ...       ...       ...           ...       ...       ...       ...   \n",
              "3547  319.908  0.286154  0.000011  2.494290e-07  0.000466  0.000017  0.000004   \n",
              "3548  288.369  0.367184  0.000012  2.271410e-07  0.000438  0.000019  0.000004   \n",
              "3549  260.578  0.151167  0.000010  2.295580e-07  0.000459  0.000018  0.000004   \n",
              "3550  676.764  0.334048  0.000010  2.404450e-07  0.000517  0.000018  0.000004   \n",
              "3551  392.361  0.112797  0.000011  2.669170e-07  0.000489  0.000020  0.000004   \n",
              "\n",
              "                k7            k8        k9      PP0       B0    sumClot  \\\n",
              "0     1.181680e-10  3.692580e-10  0.020202  1385.25  134.310    4440.68   \n",
              "1     1.311100e-10  4.344110e-10  0.021096  1450.93  133.434    3365.83   \n",
              "2     1.240010e-10  4.065420e-10  0.021132  1376.71  136.873    5599.67   \n",
              "3     1.168780e-10  4.194810e-10  0.021173  1442.96  126.789    3355.50   \n",
              "4     1.172680e-10  4.038340e-10  0.022095  1370.79  126.351  165721.00   \n",
              "...            ...           ...       ...      ...      ...        ...   \n",
              "3547  1.355490e-10  3.676460e-10  0.018645  1327.53  126.362  309529.00   \n",
              "3548  1.397520e-10  4.390840e-10  0.019049  1538.97  138.498  520793.00   \n",
              "3549  1.184200e-10  3.892140e-10  0.019481  1332.73  123.871  251406.00   \n",
              "3550  1.371150e-10  4.025380e-10  0.019543  1400.80  127.467    6758.98   \n",
              "3551  1.411930e-10  3.921320e-10  0.019923  1330.18  139.420   61497.00   \n",
              "\n",
              "      maxHeight      LagT          ETP       Cmax       Tmax  clot_size  \n",
              "0           0.0  2.325000   854.167038  50.543897  24.350000          0  \n",
              "1           0.0  2.391667   735.767126  42.519202  26.641667          0  \n",
              "2           0.0  2.658333   553.294675  32.737451  29.775000          0  \n",
              "3           0.0  2.708333   593.556719  35.569647  29.466667          0  \n",
              "4           5.0  2.616667   535.849464  30.728191  29.275000          1  \n",
              "...         ...       ...          ...        ...        ...        ...  \n",
              "3547        6.0  2.683333   653.734867  39.278895  28.875000          1  \n",
              "3548        7.0  2.075000  1190.098502  87.923754  20.941667          1  \n",
              "3549        6.0  2.683333   591.656365  35.119884  29.525000          1  \n",
              "3550        0.0  2.558333   673.807792  40.078959  28.516667          0  \n",
              "3551        3.0  2.350000   796.615311  46.971231  25.441667          1  \n",
              "\n",
              "[3552 rows x 19 columns]"
            ],
            "text/html": [
              "\n",
              "  <div id=\"df-c8c69fc7-2fea-44c2-8d6a-4d1bfb54a266\" class=\"colab-df-container\">\n",
              "    <div>\n",
              "<style scoped>\n",
              "    .dataframe tbody tr th:only-of-type {\n",
              "        vertical-align: middle;\n",
              "    }\n",
              "\n",
              "    .dataframe tbody tr th {\n",
              "        vertical-align: top;\n",
              "    }\n",
              "\n",
              "    .dataframe thead th {\n",
              "        text-align: right;\n",
              "    }\n",
              "</style>\n",
              "<table border=\"1\" class=\"dataframe\">\n",
              "  <thead>\n",
              "    <tr style=\"text-align: right;\">\n",
              "      <th></th>\n",
              "      <th>dp</th>\n",
              "      <th>dx</th>\n",
              "      <th>k2</th>\n",
              "      <th>k3</th>\n",
              "      <th>k4</th>\n",
              "      <th>k5</th>\n",
              "      <th>k6</th>\n",
              "      <th>k7</th>\n",
              "      <th>k8</th>\n",
              "      <th>k9</th>\n",
              "      <th>PP0</th>\n",
              "      <th>B0</th>\n",
              "      <th>sumClot</th>\n",
              "      <th>maxHeight</th>\n",
              "      <th>LagT</th>\n",
              "      <th>ETP</th>\n",
              "      <th>Cmax</th>\n",
              "      <th>Tmax</th>\n",
              "      <th>clot_size</th>\n",
              "    </tr>\n",
              "  </thead>\n",
              "  <tbody>\n",
              "    <tr>\n",
              "      <th>0</th>\n",
              "      <td>703.355</td>\n",
              "      <td>0.220495</td>\n",
              "      <td>0.000012</td>\n",
              "      <td>2.370500e-07</td>\n",
              "      <td>0.000482</td>\n",
              "      <td>0.000020</td>\n",
              "      <td>0.000004</td>\n",
              "      <td>1.181680e-10</td>\n",
              "      <td>3.692580e-10</td>\n",
              "      <td>0.020202</td>\n",
              "      <td>1385.25</td>\n",
              "      <td>134.310</td>\n",
              "      <td>4440.68</td>\n",
              "      <td>0.0</td>\n",
              "      <td>2.325000</td>\n",
              "      <td>854.167038</td>\n",
              "      <td>50.543897</td>\n",
              "      <td>24.350000</td>\n",
              "      <td>0</td>\n",
              "    </tr>\n",
              "    <tr>\n",
              "      <th>1</th>\n",
              "      <td>715.103</td>\n",
              "      <td>0.227286</td>\n",
              "      <td>0.000010</td>\n",
              "      <td>2.277300e-07</td>\n",
              "      <td>0.000464</td>\n",
              "      <td>0.000019</td>\n",
              "      <td>0.000004</td>\n",
              "      <td>1.311100e-10</td>\n",
              "      <td>4.344110e-10</td>\n",
              "      <td>0.021096</td>\n",
              "      <td>1450.93</td>\n",
              "      <td>133.434</td>\n",
              "      <td>3365.83</td>\n",
              "      <td>0.0</td>\n",
              "      <td>2.391667</td>\n",
              "      <td>735.767126</td>\n",
              "      <td>42.519202</td>\n",
              "      <td>26.641667</td>\n",
              "      <td>0</td>\n",
              "    </tr>\n",
              "    <tr>\n",
              "      <th>2</th>\n",
              "      <td>628.882</td>\n",
              "      <td>0.257888</td>\n",
              "      <td>0.000010</td>\n",
              "      <td>2.628810e-07</td>\n",
              "      <td>0.000522</td>\n",
              "      <td>0.000017</td>\n",
              "      <td>0.000004</td>\n",
              "      <td>1.240010e-10</td>\n",
              "      <td>4.065420e-10</td>\n",
              "      <td>0.021132</td>\n",
              "      <td>1376.71</td>\n",
              "      <td>136.873</td>\n",
              "      <td>5599.67</td>\n",
              "      <td>0.0</td>\n",
              "      <td>2.658333</td>\n",
              "      <td>553.294675</td>\n",
              "      <td>32.737451</td>\n",
              "      <td>29.775000</td>\n",
              "      <td>0</td>\n",
              "    </tr>\n",
              "    <tr>\n",
              "      <th>3</th>\n",
              "      <td>542.294</td>\n",
              "      <td>0.139077</td>\n",
              "      <td>0.000011</td>\n",
              "      <td>2.490990e-07</td>\n",
              "      <td>0.000436</td>\n",
              "      <td>0.000017</td>\n",
              "      <td>0.000004</td>\n",
              "      <td>1.168780e-10</td>\n",
              "      <td>4.194810e-10</td>\n",
              "      <td>0.021173</td>\n",
              "      <td>1442.96</td>\n",
              "      <td>126.789</td>\n",
              "      <td>3355.50</td>\n",
              "      <td>0.0</td>\n",
              "      <td>2.708333</td>\n",
              "      <td>593.556719</td>\n",
              "      <td>35.569647</td>\n",
              "      <td>29.466667</td>\n",
              "      <td>0</td>\n",
              "    </tr>\n",
              "    <tr>\n",
              "      <th>4</th>\n",
              "      <td>310.933</td>\n",
              "      <td>0.148333</td>\n",
              "      <td>0.000010</td>\n",
              "      <td>2.400490e-07</td>\n",
              "      <td>0.000514</td>\n",
              "      <td>0.000019</td>\n",
              "      <td>0.000004</td>\n",
              "      <td>1.172680e-10</td>\n",
              "      <td>4.038340e-10</td>\n",
              "      <td>0.022095</td>\n",
              "      <td>1370.79</td>\n",
              "      <td>126.351</td>\n",
              "      <td>165721.00</td>\n",
              "      <td>5.0</td>\n",
              "      <td>2.616667</td>\n",
              "      <td>535.849464</td>\n",
              "      <td>30.728191</td>\n",
              "      <td>29.275000</td>\n",
              "      <td>1</td>\n",
              "    </tr>\n",
              "    <tr>\n",
              "      <th>...</th>\n",
              "      <td>...</td>\n",
              "      <td>...</td>\n",
              "      <td>...</td>\n",
              "      <td>...</td>\n",
              "      <td>...</td>\n",
              "      <td>...</td>\n",
              "      <td>...</td>\n",
              "      <td>...</td>\n",
              "      <td>...</td>\n",
              "      <td>...</td>\n",
              "      <td>...</td>\n",
              "      <td>...</td>\n",
              "      <td>...</td>\n",
              "      <td>...</td>\n",
              "      <td>...</td>\n",
              "      <td>...</td>\n",
              "      <td>...</td>\n",
              "      <td>...</td>\n",
              "      <td>...</td>\n",
              "    </tr>\n",
              "    <tr>\n",
              "      <th>3547</th>\n",
              "      <td>319.908</td>\n",
              "      <td>0.286154</td>\n",
              "      <td>0.000011</td>\n",
              "      <td>2.494290e-07</td>\n",
              "      <td>0.000466</td>\n",
              "      <td>0.000017</td>\n",
              "      <td>0.000004</td>\n",
              "      <td>1.355490e-10</td>\n",
              "      <td>3.676460e-10</td>\n",
              "      <td>0.018645</td>\n",
              "      <td>1327.53</td>\n",
              "      <td>126.362</td>\n",
              "      <td>309529.00</td>\n",
              "      <td>6.0</td>\n",
              "      <td>2.683333</td>\n",
              "      <td>653.734867</td>\n",
              "      <td>39.278895</td>\n",
              "      <td>28.875000</td>\n",
              "      <td>1</td>\n",
              "    </tr>\n",
              "    <tr>\n",
              "      <th>3548</th>\n",
              "      <td>288.369</td>\n",
              "      <td>0.367184</td>\n",
              "      <td>0.000012</td>\n",
              "      <td>2.271410e-07</td>\n",
              "      <td>0.000438</td>\n",
              "      <td>0.000019</td>\n",
              "      <td>0.000004</td>\n",
              "      <td>1.397520e-10</td>\n",
              "      <td>4.390840e-10</td>\n",
              "      <td>0.019049</td>\n",
              "      <td>1538.97</td>\n",
              "      <td>138.498</td>\n",
              "      <td>520793.00</td>\n",
              "      <td>7.0</td>\n",
              "      <td>2.075000</td>\n",
              "      <td>1190.098502</td>\n",
              "      <td>87.923754</td>\n",
              "      <td>20.941667</td>\n",
              "      <td>1</td>\n",
              "    </tr>\n",
              "    <tr>\n",
              "      <th>3549</th>\n",
              "      <td>260.578</td>\n",
              "      <td>0.151167</td>\n",
              "      <td>0.000010</td>\n",
              "      <td>2.295580e-07</td>\n",
              "      <td>0.000459</td>\n",
              "      <td>0.000018</td>\n",
              "      <td>0.000004</td>\n",
              "      <td>1.184200e-10</td>\n",
              "      <td>3.892140e-10</td>\n",
              "      <td>0.019481</td>\n",
              "      <td>1332.73</td>\n",
              "      <td>123.871</td>\n",
              "      <td>251406.00</td>\n",
              "      <td>6.0</td>\n",
              "      <td>2.683333</td>\n",
              "      <td>591.656365</td>\n",
              "      <td>35.119884</td>\n",
              "      <td>29.525000</td>\n",
              "      <td>1</td>\n",
              "    </tr>\n",
              "    <tr>\n",
              "      <th>3550</th>\n",
              "      <td>676.764</td>\n",
              "      <td>0.334048</td>\n",
              "      <td>0.000010</td>\n",
              "      <td>2.404450e-07</td>\n",
              "      <td>0.000517</td>\n",
              "      <td>0.000018</td>\n",
              "      <td>0.000004</td>\n",
              "      <td>1.371150e-10</td>\n",
              "      <td>4.025380e-10</td>\n",
              "      <td>0.019543</td>\n",
              "      <td>1400.80</td>\n",
              "      <td>127.467</td>\n",
              "      <td>6758.98</td>\n",
              "      <td>0.0</td>\n",
              "      <td>2.558333</td>\n",
              "      <td>673.807792</td>\n",
              "      <td>40.078959</td>\n",
              "      <td>28.516667</td>\n",
              "      <td>0</td>\n",
              "    </tr>\n",
              "    <tr>\n",
              "      <th>3551</th>\n",
              "      <td>392.361</td>\n",
              "      <td>0.112797</td>\n",
              "      <td>0.000011</td>\n",
              "      <td>2.669170e-07</td>\n",
              "      <td>0.000489</td>\n",
              "      <td>0.000020</td>\n",
              "      <td>0.000004</td>\n",
              "      <td>1.411930e-10</td>\n",
              "      <td>3.921320e-10</td>\n",
              "      <td>0.019923</td>\n",
              "      <td>1330.18</td>\n",
              "      <td>139.420</td>\n",
              "      <td>61497.00</td>\n",
              "      <td>3.0</td>\n",
              "      <td>2.350000</td>\n",
              "      <td>796.615311</td>\n",
              "      <td>46.971231</td>\n",
              "      <td>25.441667</td>\n",
              "      <td>1</td>\n",
              "    </tr>\n",
              "  </tbody>\n",
              "</table>\n",
              "<p>3552 rows × 19 columns</p>\n",
              "</div>\n",
              "    <div class=\"colab-df-buttons\">\n",
              "\n",
              "  <div class=\"colab-df-container\">\n",
              "    <button class=\"colab-df-convert\" onclick=\"convertToInteractive('df-c8c69fc7-2fea-44c2-8d6a-4d1bfb54a266')\"\n",
              "            title=\"Convert this dataframe to an interactive table.\"\n",
              "            style=\"display:none;\">\n",
              "\n",
              "  <svg xmlns=\"http://www.w3.org/2000/svg\" height=\"24px\" viewBox=\"0 -960 960 960\">\n",
              "    <path d=\"M120-120v-720h720v720H120Zm60-500h600v-160H180v160Zm220 220h160v-160H400v160Zm0 220h160v-160H400v160ZM180-400h160v-160H180v160Zm440 0h160v-160H620v160ZM180-180h160v-160H180v160Zm440 0h160v-160H620v160Z\"/>\n",
              "  </svg>\n",
              "    </button>\n",
              "\n",
              "  <style>\n",
              "    .colab-df-container {\n",
              "      display:flex;\n",
              "      gap: 12px;\n",
              "    }\n",
              "\n",
              "    .colab-df-convert {\n",
              "      background-color: #E8F0FE;\n",
              "      border: none;\n",
              "      border-radius: 50%;\n",
              "      cursor: pointer;\n",
              "      display: none;\n",
              "      fill: #1967D2;\n",
              "      height: 32px;\n",
              "      padding: 0 0 0 0;\n",
              "      width: 32px;\n",
              "    }\n",
              "\n",
              "    .colab-df-convert:hover {\n",
              "      background-color: #E2EBFA;\n",
              "      box-shadow: 0px 1px 2px rgba(60, 64, 67, 0.3), 0px 1px 3px 1px rgba(60, 64, 67, 0.15);\n",
              "      fill: #174EA6;\n",
              "    }\n",
              "\n",
              "    .colab-df-buttons div {\n",
              "      margin-bottom: 4px;\n",
              "    }\n",
              "\n",
              "    [theme=dark] .colab-df-convert {\n",
              "      background-color: #3B4455;\n",
              "      fill: #D2E3FC;\n",
              "    }\n",
              "\n",
              "    [theme=dark] .colab-df-convert:hover {\n",
              "      background-color: #434B5C;\n",
              "      box-shadow: 0px 1px 3px 1px rgba(0, 0, 0, 0.15);\n",
              "      filter: drop-shadow(0px 1px 2px rgba(0, 0, 0, 0.3));\n",
              "      fill: #FFFFFF;\n",
              "    }\n",
              "  </style>\n",
              "\n",
              "    <script>\n",
              "      const buttonEl =\n",
              "        document.querySelector('#df-c8c69fc7-2fea-44c2-8d6a-4d1bfb54a266 button.colab-df-convert');\n",
              "      buttonEl.style.display =\n",
              "        google.colab.kernel.accessAllowed ? 'block' : 'none';\n",
              "\n",
              "      async function convertToInteractive(key) {\n",
              "        const element = document.querySelector('#df-c8c69fc7-2fea-44c2-8d6a-4d1bfb54a266');\n",
              "        const dataTable =\n",
              "          await google.colab.kernel.invokeFunction('convertToInteractive',\n",
              "                                                    [key], {});\n",
              "        if (!dataTable) return;\n",
              "\n",
              "        const docLinkHtml = 'Like what you see? Visit the ' +\n",
              "          '<a target=\"_blank\" href=https://colab.research.google.com/notebooks/data_table.ipynb>data table notebook</a>'\n",
              "          + ' to learn more about interactive tables.';\n",
              "        element.innerHTML = '';\n",
              "        dataTable['output_type'] = 'display_data';\n",
              "        await google.colab.output.renderOutput(dataTable, element);\n",
              "        const docLink = document.createElement('div');\n",
              "        docLink.innerHTML = docLinkHtml;\n",
              "        element.appendChild(docLink);\n",
              "      }\n",
              "    </script>\n",
              "  </div>\n",
              "\n",
              "\n",
              "<div id=\"df-bf51a970-daf6-4c9c-82e8-85348ae403cb\">\n",
              "  <button class=\"colab-df-quickchart\" onclick=\"quickchart('df-bf51a970-daf6-4c9c-82e8-85348ae403cb')\"\n",
              "            title=\"Suggest charts.\"\n",
              "            style=\"display:none;\">\n",
              "\n",
              "<svg xmlns=\"http://www.w3.org/2000/svg\" height=\"24px\"viewBox=\"0 0 24 24\"\n",
              "     width=\"24px\">\n",
              "    <g>\n",
              "        <path d=\"M19 3H5c-1.1 0-2 .9-2 2v14c0 1.1.9 2 2 2h14c1.1 0 2-.9 2-2V5c0-1.1-.9-2-2-2zM9 17H7v-7h2v7zm4 0h-2V7h2v10zm4 0h-2v-4h2v4z\"/>\n",
              "    </g>\n",
              "</svg>\n",
              "  </button>\n",
              "\n",
              "<style>\n",
              "  .colab-df-quickchart {\n",
              "      --bg-color: #E8F0FE;\n",
              "      --fill-color: #1967D2;\n",
              "      --hover-bg-color: #E2EBFA;\n",
              "      --hover-fill-color: #174EA6;\n",
              "      --disabled-fill-color: #AAA;\n",
              "      --disabled-bg-color: #DDD;\n",
              "  }\n",
              "\n",
              "  [theme=dark] .colab-df-quickchart {\n",
              "      --bg-color: #3B4455;\n",
              "      --fill-color: #D2E3FC;\n",
              "      --hover-bg-color: #434B5C;\n",
              "      --hover-fill-color: #FFFFFF;\n",
              "      --disabled-bg-color: #3B4455;\n",
              "      --disabled-fill-color: #666;\n",
              "  }\n",
              "\n",
              "  .colab-df-quickchart {\n",
              "    background-color: var(--bg-color);\n",
              "    border: none;\n",
              "    border-radius: 50%;\n",
              "    cursor: pointer;\n",
              "    display: none;\n",
              "    fill: var(--fill-color);\n",
              "    height: 32px;\n",
              "    padding: 0;\n",
              "    width: 32px;\n",
              "  }\n",
              "\n",
              "  .colab-df-quickchart:hover {\n",
              "    background-color: var(--hover-bg-color);\n",
              "    box-shadow: 0 1px 2px rgba(60, 64, 67, 0.3), 0 1px 3px 1px rgba(60, 64, 67, 0.15);\n",
              "    fill: var(--button-hover-fill-color);\n",
              "  }\n",
              "\n",
              "  .colab-df-quickchart-complete:disabled,\n",
              "  .colab-df-quickchart-complete:disabled:hover {\n",
              "    background-color: var(--disabled-bg-color);\n",
              "    fill: var(--disabled-fill-color);\n",
              "    box-shadow: none;\n",
              "  }\n",
              "\n",
              "  .colab-df-spinner {\n",
              "    border: 2px solid var(--fill-color);\n",
              "    border-color: transparent;\n",
              "    border-bottom-color: var(--fill-color);\n",
              "    animation:\n",
              "      spin 1s steps(1) infinite;\n",
              "  }\n",
              "\n",
              "  @keyframes spin {\n",
              "    0% {\n",
              "      border-color: transparent;\n",
              "      border-bottom-color: var(--fill-color);\n",
              "      border-left-color: var(--fill-color);\n",
              "    }\n",
              "    20% {\n",
              "      border-color: transparent;\n",
              "      border-left-color: var(--fill-color);\n",
              "      border-top-color: var(--fill-color);\n",
              "    }\n",
              "    30% {\n",
              "      border-color: transparent;\n",
              "      border-left-color: var(--fill-color);\n",
              "      border-top-color: var(--fill-color);\n",
              "      border-right-color: var(--fill-color);\n",
              "    }\n",
              "    40% {\n",
              "      border-color: transparent;\n",
              "      border-right-color: var(--fill-color);\n",
              "      border-top-color: var(--fill-color);\n",
              "    }\n",
              "    60% {\n",
              "      border-color: transparent;\n",
              "      border-right-color: var(--fill-color);\n",
              "    }\n",
              "    80% {\n",
              "      border-color: transparent;\n",
              "      border-right-color: var(--fill-color);\n",
              "      border-bottom-color: var(--fill-color);\n",
              "    }\n",
              "    90% {\n",
              "      border-color: transparent;\n",
              "      border-bottom-color: var(--fill-color);\n",
              "    }\n",
              "  }\n",
              "</style>\n",
              "\n",
              "  <script>\n",
              "    async function quickchart(key) {\n",
              "      const quickchartButtonEl =\n",
              "        document.querySelector('#' + key + ' button');\n",
              "      quickchartButtonEl.disabled = true;  // To prevent multiple clicks.\n",
              "      quickchartButtonEl.classList.add('colab-df-spinner');\n",
              "      try {\n",
              "        const charts = await google.colab.kernel.invokeFunction(\n",
              "            'suggestCharts', [key], {});\n",
              "      } catch (error) {\n",
              "        console.error('Error during call to suggestCharts:', error);\n",
              "      }\n",
              "      quickchartButtonEl.classList.remove('colab-df-spinner');\n",
              "      quickchartButtonEl.classList.add('colab-df-quickchart-complete');\n",
              "    }\n",
              "    (() => {\n",
              "      let quickchartButtonEl =\n",
              "        document.querySelector('#df-bf51a970-daf6-4c9c-82e8-85348ae403cb button');\n",
              "      quickchartButtonEl.style.display =\n",
              "        google.colab.kernel.accessAllowed ? 'block' : 'none';\n",
              "    })();\n",
              "  </script>\n",
              "</div>\n",
              "    </div>\n",
              "  </div>\n"
            ]
          },
          "metadata": {},
          "execution_count": 6
        }
      ],
      "source": [
        "newMat"
      ],
      "id": "FbUnI7HL3FXA"
    },
    {
      "cell_type": "code",
      "execution_count": null,
      "metadata": {
        "id": "371af856",
        "colab": {
          "base_uri": "https://localhost:8080/"
        },
        "outputId": "e30e3076-d26b-42b8-9aee-e148a82be1d3"
      },
      "outputs": [
        {
          "output_type": "stream",
          "name": "stderr",
          "text": [
            "WARNING:tensorflow:From <ipython-input-6-49c19464031c>:2: categorical_column_with_vocabulary_list (from tensorflow.python.feature_column.feature_column_v2) is deprecated and will be removed in a future version.\n",
            "Instructions for updating:\n",
            "Use Keras preprocessing layers instead, either directly or via the `tf.keras.utils.FeatureSpace` utility. Each of `tf.feature_column.*` has a functional equivalent in `tf.keras.layers` for feature preprocessing when training a Keras model.\n"
          ]
        }
      ],
      "source": [
        "from sklearn.metrics import accuracy_score\n",
        "res = tf.feature_column.categorical_column_with_vocabulary_list(\"clot_size\", [0, 1])"
      ],
      "id": "371af856"
    },
    {
      "cell_type": "code",
      "execution_count": null,
      "metadata": {
        "id": "e1397d32",
        "colab": {
          "base_uri": "https://localhost:8080/"
        },
        "outputId": "5dae7590-b21c-4042-906f-e249210cd12d"
      },
      "outputs": [
        {
          "output_type": "stream",
          "name": "stderr",
          "text": [
            "WARNING:tensorflow:From <ipython-input-7-1b052ed1c6a9>:1: numeric_column (from tensorflow.python.feature_column.feature_column_v2) is deprecated and will be removed in a future version.\n",
            "Instructions for updating:\n",
            "Use Keras preprocessing layers instead, either directly or via the `tf.keras.utils.FeatureSpace` utility. Each of `tf.feature_column.*` has a functional equivalent in `tf.keras.layers` for feature preprocessing when training a Keras model.\n"
          ]
        }
      ],
      "source": [
        "dp = tf.feature_column.numeric_column(\"dp\")\n",
        "dx = tf.feature_column.numeric_column(\"dx\")\n",
        "LagT = tf.feature_column.numeric_column(\"LagT\")\n",
        "ETP = tf.feature_column.numeric_column(\"ETP\")\n",
        "Cmax = tf.feature_column.numeric_column(\"Cmax\")\n",
        "Tmax = tf.feature_column.numeric_column(\"Tmax\")"
      ],
      "id": "e1397d32"
    },
    {
      "cell_type": "code",
      "execution_count": null,
      "metadata": {
        "id": "e7cdd650"
      },
      "outputs": [],
      "source": [
        "from sklearn.model_selection import train_test_split\n",
        "x_data = newMat[[\"dp\", \"dx\", \"LagT\", \"ETP\", \"Cmax\", \"Tmax\"]]\n",
        "y_labels = newMat['clot_size']\n",
        "X_train, X_test, y_train, y_test = train_test_split(x_data,y_labels,test_size=0.3,random_state=101)\n",
        "X_train, X_test, y_train, y_test = train_test_split(x_data,y_labels,test_size=0.3,random_state=101)"
      ],
      "id": "e7cdd650"
    },
    {
      "cell_type": "code",
      "execution_count": null,
      "metadata": {
        "id": "be0a7cef"
      },
      "outputs": [],
      "source": [
        "y_train = pd.to_numeric(y_train, downcast='integer')\n",
        "y_test = pd.to_numeric(y_test, downcast = 'integer')\n",
        "y_train = y_train.astype(int)\n",
        "y_test = y_test.astype(int)"
      ],
      "id": "be0a7cef"
    },
    {
      "cell_type": "code",
      "execution_count": null,
      "metadata": {
        "id": "6fdaa7a0"
      },
      "outputs": [],
      "source": [
        "feat_cols = [dp, dx, LagT, ETP, Cmax, Tmax]"
      ],
      "id": "6fdaa7a0"
    },
    {
      "cell_type": "markdown",
      "source": [
        "# DNN\n",
        "## (500, 250, 100)"
      ],
      "metadata": {
        "id": "bvpQqNqolbrG"
      },
      "id": "bvpQqNqolbrG"
    },
    {
      "cell_type": "code",
      "execution_count": null,
      "metadata": {
        "id": "204966a6",
        "colab": {
          "base_uri": "https://localhost:8080/"
        },
        "outputId": "553d0d56-7af1-4acd-dff6-264f119e24dc"
      },
      "outputs": [
        {
          "output_type": "stream",
          "name": "stderr",
          "text": [
            "WARNING:tensorflow:From /usr/local/lib/python3.10/dist-packages/tensorflow/python/util/lazy_loader.py:59: The name tf.estimator.inputs is deprecated. Please use tf.compat.v1.estimator.inputs instead.\n",
            "\n",
            "WARNING:tensorflow:From <ipython-input-11-e4156dbcdad8>:1: pandas_input_fn (from tensorflow_estimator.python.estimator.inputs.pandas_io) is deprecated and will be removed in a future version.\n",
            "Instructions for updating:\n",
            "Use tf.keras instead.\n"
          ]
        }
      ],
      "source": [
        "input_func=tf.compat.v1.estimator.inputs.pandas_input_fn(x=X_train,\n",
        "                                               y=y_train,\n",
        "                                               batch_size=200,\n",
        "                                               num_epochs=None,\n",
        "                                               shuffle=True)"
      ],
      "id": "204966a6"
    },
    {
      "cell_type": "code",
      "execution_count": null,
      "metadata": {
        "id": "a910fd37"
      },
      "outputs": [],
      "source": [
        "from sklearn import svm, datasets, metrics\n"
      ],
      "id": "a910fd37"
    },
    {
      "cell_type": "code",
      "execution_count": null,
      "metadata": {
        "colab": {
          "base_uri": "https://localhost:8080/"
        },
        "id": "2222613b",
        "outputId": "f459c014-7193-480d-fd50-0537aa9ea5d2"
      },
      "outputs": [
        {
          "output_type": "stream",
          "name": "stderr",
          "text": [
            "WARNING:tensorflow:From <ipython-input-13-4969c2b8f946>:1: LinearClassifierV2.__init__ (from tensorflow_estimator.python.estimator.canned.linear) is deprecated and will be removed in a future version.\n",
            "Instructions for updating:\n",
            "Use tf.keras instead.\n",
            "WARNING:tensorflow:From /usr/local/lib/python3.10/dist-packages/tensorflow_estimator/python/estimator/head/head_utils.py:54: BinaryClassHead.__init__ (from tensorflow_estimator.python.estimator.head.binary_class_head) is deprecated and will be removed in a future version.\n",
            "Instructions for updating:\n",
            "Use tf.keras instead.\n",
            "WARNING:tensorflow:From /usr/local/lib/python3.10/dist-packages/tensorflow_estimator/python/estimator/canned/linear.py:944: Estimator.__init__ (from tensorflow_estimator.python.estimator.estimator) is deprecated and will be removed in a future version.\n",
            "Instructions for updating:\n",
            "Use tf.keras instead.\n",
            "WARNING:tensorflow:From /usr/local/lib/python3.10/dist-packages/tensorflow_estimator/python/estimator/estimator.py:1842: RunConfig.__init__ (from tensorflow_estimator.python.estimator.run_config) is deprecated and will be removed in a future version.\n",
            "Instructions for updating:\n",
            "Use tf.keras instead.\n",
            "WARNING:tensorflow:Using temporary folder as model directory: /tmp/tmpt9xni5nw\n"
          ]
        }
      ],
      "source": [
        "model = tf.estimator.LinearClassifier(feature_columns=feat_cols, n_classes=2)"
      ],
      "id": "2222613b"
    },
    {
      "cell_type": "code",
      "execution_count": null,
      "metadata": {
        "colab": {
          "base_uri": "https://localhost:8080/"
        },
        "id": "4ed91f65",
        "outputId": "3345c990-0ac7-4f1e-8ca1-642a467fc70f"
      },
      "outputs": [
        {
          "output_type": "stream",
          "name": "stderr",
          "text": [
            "WARNING:tensorflow:From <ipython-input-14-d2cff3aaa4c5>:3: DNNClassifierV2.__init__ (from tensorflow_estimator.python.estimator.canned.dnn) is deprecated and will be removed in a future version.\n",
            "Instructions for updating:\n",
            "Use tf.keras instead.\n",
            "WARNING:tensorflow:Using temporary folder as model directory: /tmp/tmp54qad88h\n"
          ]
        }
      ],
      "source": [
        "from tensorflow.keras.optimizers import legacy\n",
        "\n",
        "model = tf.estimator.DNNClassifier(feature_columns=feat_cols, optimizer = legacy.Adam,\n",
        "                                          hidden_units=[500, 250, 100],\n",
        "                                          #dropout=0.025,\n",
        "                                          #activation_fn = tf.nn.softmax,\n",
        "                                          #optimizer='Adagrad',\n",
        "                                          n_classes=2)"
      ],
      "id": "4ed91f65"
    },
    {
      "cell_type": "code",
      "execution_count": null,
      "metadata": {
        "id": "6bcecef4"
      },
      "outputs": [],
      "source": [
        "y_test_n = y_test.to_numpy()"
      ],
      "id": "6bcecef4"
    },
    {
      "cell_type": "code",
      "execution_count": null,
      "metadata": {
        "id": "f629e86d",
        "colab": {
          "base_uri": "https://localhost:8080/"
        },
        "outputId": "8ad56daa-06a0-409e-d8e2-2b49bbe9269e"
      },
      "outputs": [
        {
          "output_type": "stream",
          "name": "stderr",
          "text": [
            "WARNING:tensorflow:From /usr/local/lib/python3.10/dist-packages/tensorflow_estimator/python/estimator/estimator.py:385: StopAtStepHook.__init__ (from tensorflow.python.training.basic_session_run_hooks) is deprecated and will be removed in a future version.\n",
            "Instructions for updating:\n",
            "Use tf.keras instead.\n",
            "WARNING:tensorflow:From /usr/local/lib/python3.10/dist-packages/tensorflow/python/training/training_util.py:396: Variable.initialized_value (from tensorflow.python.ops.variables) is deprecated and will be removed in a future version.\n",
            "Instructions for updating:\n",
            "Use Variable.read_value. Variables in 2.X are initialized automatically both in eager and graph (inside tf.defun) contexts.\n",
            "WARNING:tensorflow:From /usr/local/lib/python3.10/dist-packages/tensorflow_estimator/python/estimator/inputs/queues/feeding_queue_runner.py:60: QueueRunner.__init__ (from tensorflow.python.training.queue_runner_impl) is deprecated and will be removed in a future version.\n",
            "Instructions for updating:\n",
            "To construct input pipelines, use the `tf.data` module.\n",
            "WARNING:tensorflow:From /usr/local/lib/python3.10/dist-packages/tensorflow_estimator/python/estimator/inputs/queues/feeding_functions.py:491: add_queue_runner (from tensorflow.python.training.queue_runner_impl) is deprecated and will be removed in a future version.\n",
            "Instructions for updating:\n",
            "To construct input pipelines, use the `tf.data` module.\n"
          ]
        },
        {
          "output_type": "stream",
          "name": "stdout",
          "text": [
            "Training model...\n",
            "LogLoss error (on validation data):\n"
          ]
        },
        {
          "output_type": "stream",
          "name": "stderr",
          "text": [
            "WARNING:tensorflow:From /usr/local/lib/python3.10/dist-packages/tensorflow_estimator/python/estimator/model_fn.py:250: EstimatorSpec.__new__ (from tensorflow_estimator.python.estimator.model_fn) is deprecated and will be removed in a future version.\n",
            "Instructions for updating:\n",
            "Use tf.keras instead.\n",
            "WARNING:tensorflow:From /usr/local/lib/python3.10/dist-packages/tensorflow_estimator/python/estimator/estimator.py:1414: NanTensorHook.__init__ (from tensorflow.python.training.basic_session_run_hooks) is deprecated and will be removed in a future version.\n",
            "Instructions for updating:\n",
            "Use tf.keras instead.\n",
            "WARNING:tensorflow:From /usr/local/lib/python3.10/dist-packages/tensorflow_estimator/python/estimator/estimator.py:1417: LoggingTensorHook.__init__ (from tensorflow.python.training.basic_session_run_hooks) is deprecated and will be removed in a future version.\n",
            "Instructions for updating:\n",
            "Use tf.keras instead.\n",
            "WARNING:tensorflow:From /usr/local/lib/python3.10/dist-packages/tensorflow/python/training/basic_session_run_hooks.py:232: SecondOrStepTimer.__init__ (from tensorflow.python.training.basic_session_run_hooks) is deprecated and will be removed in a future version.\n",
            "Instructions for updating:\n",
            "Use tf.keras instead.\n",
            "WARNING:tensorflow:From /usr/local/lib/python3.10/dist-packages/tensorflow_estimator/python/estimator/estimator.py:1454: CheckpointSaverHook.__init__ (from tensorflow.python.training.basic_session_run_hooks) is deprecated and will be removed in a future version.\n",
            "Instructions for updating:\n",
            "Use tf.keras instead.\n",
            "WARNING:tensorflow:From /usr/local/lib/python3.10/dist-packages/tensorflow/python/training/monitored_session.py:579: StepCounterHook.__init__ (from tensorflow.python.training.basic_session_run_hooks) is deprecated and will be removed in a future version.\n",
            "Instructions for updating:\n",
            "Use tf.keras instead.\n",
            "WARNING:tensorflow:From /usr/local/lib/python3.10/dist-packages/tensorflow/python/training/monitored_session.py:586: SummarySaverHook.__init__ (from tensorflow.python.training.basic_session_run_hooks) is deprecated and will be removed in a future version.\n",
            "Instructions for updating:\n",
            "Use tf.keras instead.\n",
            "WARNING:tensorflow:From /usr/local/lib/python3.10/dist-packages/tensorflow/python/training/monitored_session.py:910: start_queue_runners (from tensorflow.python.training.queue_runner_impl) is deprecated and will be removed in a future version.\n",
            "Instructions for updating:\n",
            "To construct input pipelines, use the `tf.data` module.\n",
            "WARNING:tensorflow:From /usr/local/lib/python3.10/dist-packages/tensorflow/python/training/monitored_session.py:1455: SessionRunArgs.__new__ (from tensorflow.python.training.session_run_hook) is deprecated and will be removed in a future version.\n",
            "Instructions for updating:\n",
            "Use tf.keras instead.\n",
            "WARNING:tensorflow:From /usr/local/lib/python3.10/dist-packages/tensorflow/python/training/monitored_session.py:1454: SessionRunContext.__init__ (from tensorflow.python.training.session_run_hook) is deprecated and will be removed in a future version.\n",
            "Instructions for updating:\n",
            "Use tf.keras instead.\n",
            "WARNING:tensorflow:From /usr/local/lib/python3.10/dist-packages/tensorflow/python/training/monitored_session.py:1474: SessionRunValues.__new__ (from tensorflow.python.training.session_run_hook) is deprecated and will be removed in a future version.\n",
            "Instructions for updating:\n",
            "Use tf.keras instead.\n",
            "WARNING:tensorflow:From /usr/local/lib/python3.10/dist-packages/tensorflow_estimator/python/estimator/head/base_head.py:786: ClassificationOutput.__init__ (from tensorflow.python.saved_model.model_utils.export_output) is deprecated and will be removed in a future version.\n",
            "Instructions for updating:\n",
            "Use tf.keras instead.\n",
            "WARNING:tensorflow:From /usr/local/lib/python3.10/dist-packages/tensorflow_estimator/python/estimator/head/binary_class_head.py:561: RegressionOutput.__init__ (from tensorflow.python.saved_model.model_utils.export_output) is deprecated and will be removed in a future version.\n",
            "Instructions for updating:\n",
            "Use tf.keras instead.\n",
            "WARNING:tensorflow:From /usr/local/lib/python3.10/dist-packages/tensorflow_estimator/python/estimator/head/binary_class_head.py:563: PredictOutput.__init__ (from tensorflow.python.saved_model.model_utils.export_output) is deprecated and will be removed in a future version.\n",
            "Instructions for updating:\n",
            "Use tf.keras instead.\n"
          ]
        },
        {
          "output_type": "stream",
          "name": "stdout",
          "text": [
            " period 00 : 3.44\n"
          ]
        },
        {
          "output_type": "stream",
          "name": "stderr",
          "text": [
            "WARNING:tensorflow:From /usr/local/lib/python3.10/dist-packages/tensorflow/python/training/saver.py:1176: get_checkpoint_mtimes (from tensorflow.python.checkpoint.checkpoint_management) is deprecated and will be removed in a future version.\n",
            "Instructions for updating:\n",
            "Use standard file utilities to get mtimes.\n"
          ]
        },
        {
          "output_type": "stream",
          "name": "stdout",
          "text": [
            " period 01 : 2.51\n",
            " period 02 : 3.04\n",
            " period 03 : 2.36\n"
          ]
        },
        {
          "output_type": "stream",
          "name": "stderr",
          "text": [
            "WARNING:tensorflow:From /usr/local/lib/python3.10/dist-packages/tensorflow/python/training/saver.py:1067: remove_checkpoint (from tensorflow.python.checkpoint.checkpoint_management) is deprecated and will be removed in a future version.\n",
            "Instructions for updating:\n",
            "Use standard file APIs to delete files with this prefix.\n"
          ]
        },
        {
          "output_type": "stream",
          "name": "stdout",
          "text": [
            " period 04 : 2.69\n",
            " period 05 : 2.39\n",
            " period 06 : 2.45\n",
            " period 07 : 2.29\n",
            " period 08 : 2.02\n",
            " period 09 : 2.17\n",
            " period 10 : 1.72\n",
            " period 11 : 1.30\n",
            " period 12 : 1.50\n",
            " period 13 : 1.50\n",
            " period 14 : 1.81\n",
            " period 15 : 1.50\n",
            " period 16 : 1.54\n",
            " period 17 : 1.73\n",
            " period 18 : 1.06\n",
            " period 19 : 1.08\n",
            " period 20 : 1.76\n",
            " period 21 : 1.15\n",
            " period 22 : 1.06\n",
            " period 23 : 1.63\n",
            " period 24 : 1.12\n",
            " period 25 : 1.27\n",
            " period 26 : 1.17\n",
            " period 27 : 1.21\n",
            " period 28 : 1.12\n",
            " period 29 : 1.02\n",
            " period 30 : 2.24\n",
            " period 31 : 1.29\n",
            " period 32 : 1.12\n",
            " period 33 : 1.27\n",
            " period 34 : 1.44\n",
            " period 35 : 1.14\n",
            " period 36 : 1.42\n",
            " period 37 : 0.91\n",
            " period 38 : 0.99\n",
            " period 39 : 1.02\n",
            " period 40 : 1.00\n",
            " period 41 : 1.75\n",
            " period 42 : 1.27\n",
            " period 43 : 1.35\n",
            " period 44 : 0.87\n",
            " period 45 : 1.44\n",
            " period 46 : 1.05\n",
            " period 47 : 1.27\n",
            " period 48 : 1.05\n",
            " period 49 : 1.02\n",
            " period 50 : 0.97\n",
            " period 51 : 1.41\n",
            " period 52 : 0.94\n",
            " period 53 : 1.14\n",
            " period 54 : 1.42\n",
            " period 55 : 1.03\n",
            " period 56 : 0.94\n",
            " period 57 : 0.94\n",
            " period 58 : 1.24\n",
            " period 59 : 1.57\n",
            " period 60 : 1.11\n",
            " period 61 : 0.91\n",
            " period 62 : 1.39\n",
            " period 63 : 1.00\n",
            " period 64 : 1.54\n",
            " period 65 : 1.09\n",
            " period 66 : 1.26\n",
            " period 67 : 0.94\n",
            " period 68 : 1.14\n",
            " period 69 : 0.99\n",
            " period 70 : 0.96\n",
            " period 71 : 1.20\n",
            " period 72 : 1.05\n",
            " period 73 : 1.29\n",
            " period 74 : 1.00\n",
            " period 75 : 0.99\n",
            " period 76 : 1.27\n",
            " period 77 : 1.09\n",
            " period 78 : 1.02\n",
            " period 79 : 1.00\n",
            " period 80 : 0.88\n",
            " period 81 : 1.21\n",
            " period 82 : 1.06\n",
            " period 83 : 0.99\n",
            " period 84 : 0.87\n",
            " period 85 : 0.91\n",
            " period 86 : 1.32\n",
            " period 87 : 1.00\n",
            " period 88 : 1.08\n",
            " period 89 : 1.11\n",
            " period 90 : 1.18\n",
            " period 91 : 0.88\n",
            " period 92 : 0.87\n",
            " period 93 : 1.03\n",
            " period 94 : 0.99\n",
            " period 95 : 1.18\n",
            " period 96 : 0.90\n",
            " period 97 : 1.21\n",
            " period 98 : 0.90\n",
            " period 99 : 0.93\n",
            " period 100 : 1.00\n",
            " period 101 : 1.00\n",
            " period 102 : 1.32\n",
            " period 103 : 0.85\n",
            " period 104 : 1.08\n",
            " period 105 : 0.97\n",
            " period 106 : 0.99\n",
            " period 107 : 0.93\n",
            " period 108 : 0.97\n",
            " period 109 : 1.29\n",
            " period 110 : 1.33\n",
            " period 111 : 0.97\n",
            " period 112 : 1.06\n",
            " period 113 : 1.60\n",
            " period 114 : 0.97\n",
            " period 115 : 1.20\n",
            " period 116 : 1.11\n",
            " period 117 : 0.90\n",
            " period 118 : 0.99\n",
            " period 119 : 0.97\n",
            " period 120 : 0.96\n",
            " period 121 : 0.99\n",
            " period 122 : 0.96\n",
            " period 123 : 1.17\n",
            " period 124 : 1.09\n",
            " period 125 : 1.20\n",
            " period 126 : 1.15\n",
            " period 127 : 0.96\n",
            " period 128 : 1.20\n",
            " period 129 : 1.15\n",
            " period 130 : 0.97\n",
            " period 131 : 1.05\n",
            " period 132 : 1.21\n",
            " period 133 : 0.93\n",
            " period 134 : 1.03\n",
            " period 135 : 0.97\n",
            " period 136 : 0.97\n",
            " period 137 : 0.93\n",
            " period 138 : 0.91\n",
            " period 139 : 1.00\n",
            " period 140 : 1.02\n",
            " period 141 : 1.27\n",
            " period 142 : 1.15\n",
            " period 143 : 1.00\n",
            " period 144 : 1.24\n",
            " period 145 : 1.24\n",
            " period 146 : 0.91\n",
            " period 147 : 1.39\n",
            " period 148 : 1.20\n",
            " period 149 : 1.03\n",
            " period 150 : 1.12\n",
            " period 151 : 1.06\n",
            " period 152 : 1.39\n",
            " period 153 : 1.00\n",
            " period 154 : 1.33\n",
            " period 155 : 1.18\n",
            " period 156 : 1.36\n",
            " period 157 : 1.45\n",
            " period 158 : 1.08\n",
            " period 159 : 1.12\n",
            " period 160 : 1.20\n",
            " period 161 : 1.44\n",
            " period 162 : 1.09\n",
            " period 163 : 1.09\n",
            " period 164 : 1.03\n",
            " period 165 : 1.03\n",
            " period 166 : 1.32\n",
            " period 167 : 1.14\n",
            " period 168 : 1.00\n",
            " period 169 : 0.96\n",
            " period 170 : 1.36\n",
            " period 171 : 1.51\n",
            " period 172 : 1.12\n",
            " period 173 : 1.11\n",
            " period 174 : 1.12\n",
            " period 175 : 1.06\n",
            " period 176 : 1.06\n",
            " period 177 : 1.23\n",
            " period 178 : 1.14\n",
            " period 179 : 1.27\n",
            " period 180 : 1.11\n",
            " period 181 : 1.14\n",
            " period 182 : 1.00\n",
            " period 183 : 1.06\n",
            " period 184 : 0.97\n",
            " period 185 : 1.02\n",
            " period 186 : 1.11\n",
            " period 187 : 0.96\n",
            " period 188 : 1.15\n",
            " period 189 : 1.09\n",
            " period 190 : 1.00\n",
            " period 191 : 1.20\n",
            " period 192 : 1.47\n",
            " period 193 : 1.18\n",
            " period 194 : 1.03\n",
            " period 195 : 1.06\n",
            " period 196 : 1.08\n",
            " period 197 : 1.03\n",
            " period 198 : 1.15\n",
            " period 199 : 1.14\n"
          ]
        }
      ],
      "source": [
        "print(\"Training model...\")\n",
        "print(\"LogLoss error (on validation data):\")\n",
        "validation_errors = []\n",
        "for period in range (0, 200):\n",
        "# Train the model, starting from the prior state.\n",
        "    model.train(\n",
        "    input_fn=input_func,\n",
        "    steps=500\n",
        "    )\n",
        "    pred_fn = tf.compat.v1.estimator.inputs.pandas_input_fn(x=X_test,batch_size=len(X_test),shuffle=False)\n",
        "    y_fn = tf.compat.v1.estimator.inputs.pandas_input_fn(x=y_test,batch_size=len(y_test),shuffle=False)\n",
        "\n",
        "    validation_predictions = list(model.predict(input_fn=pred_fn))\n",
        "    validation_probabilities = np.array([item['probabilities'] for item in validation_predictions])\n",
        "    validation_pred_class_id = np.array([item['class_ids'][0] for item in validation_predictions])\n",
        "    validation_pred_one_hot = tf.keras.utils.to_categorical(validation_pred_class_id,0)\n",
        "    validation_log_loss = metrics.log_loss(y_test_n, validation_pred_one_hot)\n",
        "    print(\" period %02d : %0.2f\" % (period, validation_log_loss))\n",
        "    validation_errors.append(validation_log_loss)\n"
      ],
      "id": "f629e86d"
    },
    {
      "cell_type": "code",
      "execution_count": null,
      "metadata": {
        "id": "f1241d8f"
      },
      "outputs": [],
      "source": [
        "final_predictions = model.predict(input_fn=pred_fn)\n",
        "final_predictions = np.array([item['class_ids'][0] for item in final_predictions])\n"
      ],
      "id": "f1241d8f"
    },
    {
      "cell_type": "code",
      "execution_count": null,
      "metadata": {
        "id": "9405f275",
        "colab": {
          "base_uri": "https://localhost:8080/",
          "height": 912
        },
        "outputId": "c926ecdd-ca24-4d5c-ebbf-ea76d4759fab"
      },
      "outputs": [
        {
          "output_type": "stream",
          "name": "stdout",
          "text": [
            "Final accuracy (on validation data): 0.93\n"
          ]
        },
        {
          "output_type": "display_data",
          "data": {
            "text/plain": [
              "<Figure size 1200x1000 with 1 Axes>"
            ],
            "image/png": "[encoded data removed]"
          },
          "metadata": {}
        }
      ],
      "source": [
        "accuracy = metrics.accuracy_score(y_test_n, final_predictions)\n",
        "print(\"Final accuracy (on validation data): %0.2f\" % accuracy)\n",
        "plt.rcParams[\"figure.figsize\"] = (12,10)\n",
        "# Output a graph of loss metrics over periods.\n",
        "plt.ylabel(\"LogLoss\", fontsize = 20)\n",
        "plt.xlabel(\"Periods\", fontsize = 20)\n",
        "plt.title(\"LogLoss vs. Periods (validation)\", fontsize = 20)\n",
        "plt.plot(validation_errors, 'k', linewidth = 2)\n",
        "#plt.legend()\n",
        "plt.show()"
      ],
      "id": "9405f275"
    },
    {
      "cell_type": "code",
      "execution_count": null,
      "metadata": {
        "id": "e1c8c07b",
        "colab": {
          "base_uri": "https://localhost:8080/",
          "height": 868
        },
        "outputId": "669d9c66-1cad-4fcb-a92b-e3512cce4c40"
      },
      "outputs": [
        {
          "output_type": "display_data",
          "data": {
            "text/plain": [
              "<Figure size 1200x1000 with 2 Axes>"
            ],
            "image/png": "[encoded data removed]"
          },
          "metadata": {}
        }
      ],
      "source": [
        "import seaborn as sns\n",
        "plt.rcParams[\"figure.figsize\"] = (12,10)\n",
        "\n",
        "cm = metrics.confusion_matrix(y_test_n, final_predictions)\n",
        "# Normalize the confusion matrix by row (i.e by the number of samples\n",
        "# in each class).\n",
        "cm_normalized = cm.astype(\"float\") / cm.sum(axis=1)[:, np.newaxis]\n",
        "\n",
        "ax = sns.heatmap(cm_normalized, cmap=\"bone_r\")\n",
        "ax.set_aspect(1)\n",
        "plt.title(\"Confusion matrix\", fontsize = 20)\n",
        "plt.ylabel(\"True label\", fontsize = 20)\n",
        "plt.xlabel(\"Predicted label\", fontsize = 20)\n",
        "plt.show()"
      ],
      "id": "e1c8c07b"
    },
    {
      "cell_type": "code",
      "execution_count": null,
      "metadata": {
        "id": "0bd90ca1",
        "colab": {
          "base_uri": "https://localhost:8080/"
        },
        "outputId": "80a9795d-11e1-4aa6-dd68-42e326a67a71"
      },
      "outputs": [
        {
          "output_type": "stream",
          "name": "stdout",
          "text": [
            "Classification report for classifier <tensorflow_estimator.python.estimator.canned.dnn.DNNClassifierV2 object at 0x7f77069f60e0>:\n",
            "              precision    recall  f1-score   support\n",
            "\n",
            "           0       0.92      0.93      0.92       494\n",
            "           1       0.94      0.93      0.93       572\n",
            "\n",
            "    accuracy                           0.93      1066\n",
            "   macro avg       0.93      0.93      0.93      1066\n",
            "weighted avg       0.93      0.93      0.93      1066\n",
            "\n",
            "\n"
          ]
        }
      ],
      "source": [
        "print(\"Classification report for classifier %s:\\n%s\\n\"\n",
        "      % (model, metrics.classification_report(y_test_n, final_predictions, labels=[0, 1])))"
      ],
      "id": "0bd90ca1"
    },
    {
      "cell_type": "code",
      "execution_count": null,
      "metadata": {
        "id": "5-eRzJlCCKPm",
        "colab": {
          "base_uri": "https://localhost:8080/"
        },
        "outputId": "85b3829d-961e-407a-a770-e34d469f23ac"
      },
      "outputs": [
        {
          "output_type": "stream",
          "name": "stdout",
          "text": [
            "Accuracy: 92.87%\n"
          ]
        }
      ],
      "source": [
        "accuracy = accuracy_score(y_test_n, final_predictions)\n",
        "DNN_A = accuracy\n",
        "print('Accuracy: {:.2f}%'.format(DNN_A * 100))"
      ],
      "id": "5-eRzJlCCKPm"
    },
    {
      "cell_type": "markdown",
      "source": [
        "# DNN\n",
        "## (200x100x50)"
      ],
      "metadata": {
        "id": "wcI2LOKCnCn9"
      },
      "id": "wcI2LOKCnCn9"
    },
    {
      "cell_type": "code",
      "source": [
        "model_1 = tf.estimator.LinearClassifier(feature_columns=feat_cols, n_classes=2)\n",
        "\n",
        "model_1 = tf.estimator.DNNClassifier(feature_columns=feat_cols, optimizer = legacy.Adam,\n",
        "                                          hidden_units=[250, 100, 50],\n",
        "                                          #dropout=0.025,\n",
        "                                          #activation_fn = tf.nn.softmax,\n",
        "                                          #optimizer='Adagrad',\n",
        "                                          n_classes=2)\n",
        "\n",
        "print(\"Training model_1...\")\n",
        "print(\"LogLoss error (on validation data):\")\n",
        "validation_errors = []\n",
        "for period in range (0, 200):\n",
        "# Train the model_1, starting from the prior state.\n",
        "    model_1.train(\n",
        "    input_fn=input_func,\n",
        "    steps=500\n",
        "    )\n",
        "    pred_fn = tf.compat.v1.estimator.inputs.pandas_input_fn(x=X_test,batch_size=len(X_test),shuffle=False)\n",
        "    y_fn = tf.compat.v1.estimator.inputs.pandas_input_fn(x=y_test,batch_size=len(y_test),shuffle=False)\n",
        "\n",
        "    validation_predictions = list(model_1.predict(input_fn=pred_fn))\n",
        "    validation_probabilities = np.array([item['probabilities'] for item in validation_predictions])\n",
        "    validation_pred_class_id = np.array([item['class_ids'][0] for item in validation_predictions])\n",
        "    validation_pred_one_hot = tf.keras.utils.to_categorical(validation_pred_class_id,0)\n",
        "    validation_log_loss = metrics.log_loss(y_test_n, validation_pred_one_hot)\n",
        "    print(\" period %02d : %0.2f\" % (period, validation_log_loss))\n",
        "    validation_errors.append(validation_log_loss)"
      ],
      "metadata": {
        "colab": {
          "base_uri": "https://localhost:8080/"
        },
        "id": "04c1LqH1nSNl",
        "outputId": "46682cb2-4a59-415f-f9fa-d9bdddc139f3"
      },
      "id": "04c1LqH1nSNl",
      "execution_count": null,
      "outputs": [
        {
          "output_type": "stream",
          "name": "stderr",
          "text": [
            "WARNING:tensorflow:Using temporary folder as model directory: /tmp/tmpvbxywjsk\n",
            "WARNING:tensorflow:Using temporary folder as model directory: /tmp/tmp_p2bxeve\n"
          ]
        },
        {
          "output_type": "stream",
          "name": "stdout",
          "text": [
            "Training model_1...\n",
            "LogLoss error (on validation data):\n",
            " period 00 : 2.65\n"
          ]
        },
        {
          "output_type": "stream",
          "name": "stderr",
          "text": [
            "WARNING:tensorflow:It seems that global step (tf.train.get_global_step) has not been increased. Current value (could be stable): 848 vs previous value: 848. You could increase the global step by passing tf.train.get_global_step() to Optimizer.apply_gradients or Optimizer.minimize.\n"
          ]
        },
        {
          "output_type": "stream",
          "name": "stdout",
          "text": [
            " period 01 : 2.60\n",
            " period 02 : 2.89\n",
            " period 03 : 2.42\n",
            " period 04 : 3.17\n",
            " period 05 : 2.35\n",
            " period 06 : 3.80\n",
            " period 07 : 2.23\n",
            " period 08 : 2.32\n",
            " period 09 : 1.79\n",
            " period 10 : 1.48\n",
            " period 11 : 1.41\n",
            " period 12 : 1.26\n",
            " period 13 : 1.39\n",
            " period 14 : 1.20\n",
            " period 15 : 1.33\n",
            " period 16 : 1.20\n",
            " period 17 : 1.48\n",
            " period 18 : 1.09\n",
            " period 19 : 1.11\n",
            " period 20 : 1.03\n",
            " period 21 : 1.39\n",
            " period 22 : 1.33\n",
            " period 23 : 1.14\n",
            " period 24 : 1.03\n",
            " period 25 : 1.12\n",
            " period 26 : 1.23\n",
            " period 27 : 1.06\n",
            " period 28 : 1.14\n",
            " period 29 : 1.02\n",
            " period 30 : 1.42\n",
            " period 31 : 1.11\n",
            " period 32 : 1.59\n",
            " period 33 : 1.44\n",
            " period 34 : 1.00\n",
            " period 35 : 1.72\n",
            " period 36 : 1.21\n",
            " period 37 : 1.84\n",
            " period 38 : 0.94\n",
            " period 39 : 1.08\n",
            " period 40 : 1.36\n",
            " period 41 : 1.45\n",
            " period 42 : 1.11\n"
          ]
        },
        {
          "output_type": "stream",
          "name": "stderr",
          "text": [
            "WARNING:tensorflow:It seems that global step (tf.train.get_global_step) has not been increased. Current value (could be stable): 21599 vs previous value: 21599. You could increase the global step by passing tf.train.get_global_step() to Optimizer.apply_gradients or Optimizer.minimize.\n"
          ]
        },
        {
          "output_type": "stream",
          "name": "stdout",
          "text": [
            " period 43 : 1.12\n",
            " period 44 : 1.26\n",
            " period 45 : 1.00\n",
            " period 46 : 0.99\n",
            " period 47 : 1.23\n",
            " period 48 : 1.03\n",
            " period 49 : 1.00\n",
            " period 50 : 1.30\n",
            " period 51 : 1.03\n",
            " period 52 : 1.67\n",
            " period 53 : 1.45\n",
            " period 54 : 1.03\n",
            " period 55 : 0.96\n",
            " period 56 : 1.09\n",
            " period 57 : 0.96\n",
            " period 58 : 1.02\n",
            " period 59 : 0.96\n",
            " period 60 : 1.24\n"
          ]
        },
        {
          "output_type": "stream",
          "name": "stderr",
          "text": [
            "WARNING:tensorflow:It seems that global step (tf.train.get_global_step) has not been increased. Current value (could be stable): 30560 vs previous value: 30560. You could increase the global step by passing tf.train.get_global_step() to Optimizer.apply_gradients or Optimizer.minimize.\n"
          ]
        },
        {
          "output_type": "stream",
          "name": "stdout",
          "text": [
            " period 61 : 1.18\n",
            " period 62 : 1.39\n",
            " period 63 : 1.32\n",
            " period 64 : 1.02\n",
            " period 65 : 0.97\n",
            " period 66 : 1.18\n",
            " period 67 : 1.06\n",
            " period 68 : 1.06\n",
            " period 69 : 1.57\n",
            " period 70 : 1.03\n",
            " period 71 : 1.27\n",
            " period 72 : 1.38\n",
            " period 73 : 1.36\n",
            " period 74 : 1.02\n",
            " period 75 : 1.36\n",
            " period 76 : 1.03\n",
            " period 77 : 0.93\n",
            " period 78 : 0.97\n",
            " period 79 : 0.97\n",
            " period 80 : 1.06\n",
            " period 81 : 1.39\n",
            " period 82 : 0.94\n",
            " period 83 : 1.00\n",
            " period 84 : 0.97\n",
            " period 85 : 1.08\n",
            " period 86 : 1.48\n",
            " period 87 : 1.26\n",
            " period 88 : 1.08\n",
            " period 89 : 1.09\n",
            " period 90 : 1.14\n",
            " period 91 : 1.06\n",
            " period 92 : 1.03\n",
            " period 93 : 1.05\n",
            " period 94 : 1.08\n",
            " period 95 : 1.24\n",
            " period 96 : 1.23\n",
            " period 97 : 1.24\n",
            " period 98 : 1.05\n",
            " period 99 : 0.96\n",
            " period 100 : 0.99\n",
            " period 101 : 1.32\n",
            " period 102 : 1.59\n",
            " period 103 : 1.17\n",
            " period 104 : 0.94\n",
            " period 105 : 0.99\n",
            " period 106 : 0.96\n",
            " period 107 : 1.06\n",
            " period 108 : 0.94\n",
            " period 109 : 1.38\n",
            " period 110 : 1.05\n",
            " period 111 : 1.33\n",
            " period 112 : 1.02\n",
            " period 113 : 1.08\n",
            " period 114 : 1.03\n",
            " period 115 : 1.12\n",
            " period 116 : 1.48\n",
            " period 117 : 0.88\n",
            " period 118 : 1.05\n",
            " period 119 : 0.99\n",
            " period 120 : 1.05\n",
            " period 121 : 1.50\n",
            " period 122 : 1.14\n",
            " period 123 : 1.03\n",
            " period 124 : 1.06\n",
            " period 125 : 1.15\n",
            " period 126 : 1.09\n",
            " period 127 : 0.94\n",
            " period 128 : 1.03\n",
            " period 129 : 1.20\n",
            " period 130 : 1.30\n",
            " period 131 : 1.00\n",
            " period 132 : 1.08\n",
            " period 133 : 1.02\n",
            " period 134 : 1.08\n",
            " period 135 : 0.97\n",
            " period 136 : 1.23\n",
            " period 137 : 1.15\n",
            " period 138 : 1.03\n",
            " period 139 : 1.15\n",
            " period 140 : 1.08\n",
            " period 141 : 1.06\n",
            " period 142 : 1.08\n",
            " period 143 : 1.11\n",
            " period 144 : 0.96\n",
            " period 145 : 0.99\n",
            " period 146 : 1.02\n"
          ]
        },
        {
          "output_type": "stream",
          "name": "stderr",
          "text": [
            "WARNING:tensorflow:It seems that global step (tf.train.get_global_step) has not been increased. Current value (could be stable): 73601 vs previous value: 73601. You could increase the global step by passing tf.train.get_global_step() to Optimizer.apply_gradients or Optimizer.minimize.\n"
          ]
        },
        {
          "output_type": "stream",
          "name": "stdout",
          "text": [
            " period 147 : 1.36\n",
            " period 148 : 1.20\n",
            " period 149 : 0.99\n",
            " period 150 : 1.00\n",
            " period 151 : 1.05\n",
            " period 152 : 0.99\n",
            " period 153 : 0.99\n",
            " period 154 : 1.08\n",
            " period 155 : 0.97\n",
            " period 156 : 1.08\n",
            " period 157 : 1.41\n",
            " period 158 : 0.99\n",
            " period 159 : 0.99\n",
            " period 160 : 1.02\n",
            " period 161 : 1.30\n",
            " period 162 : 0.99\n",
            " period 163 : 1.06\n",
            " period 164 : 0.99\n",
            " period 165 : 1.21\n",
            " period 166 : 1.06\n",
            " period 167 : 1.39\n",
            " period 168 : 0.99\n",
            " period 169 : 1.14\n",
            " period 170 : 1.17\n",
            " period 171 : 1.18\n",
            " period 172 : 0.93\n",
            " period 173 : 1.00\n",
            " period 174 : 1.12\n",
            " period 175 : 0.97\n",
            " period 176 : 1.02\n",
            " period 177 : 0.94\n",
            " period 178 : 0.96\n",
            " period 179 : 0.91\n"
          ]
        },
        {
          "output_type": "stream",
          "name": "stderr",
          "text": [
            "WARNING:tensorflow:It seems that global step (tf.train.get_global_step) has not been increased. Current value (could be stable): 90264 vs previous value: 90264. You could increase the global step by passing tf.train.get_global_step() to Optimizer.apply_gradients or Optimizer.minimize.\n"
          ]
        },
        {
          "output_type": "stream",
          "name": "stdout",
          "text": [
            " period 180 : 0.97\n",
            " period 181 : 1.03\n",
            " period 182 : 1.03\n",
            " period 183 : 1.03\n",
            " period 184 : 1.12\n",
            " period 185 : 0.90\n",
            " period 186 : 1.05\n",
            " period 187 : 1.20\n",
            " period 188 : 1.14\n",
            " period 189 : 0.94\n",
            " period 190 : 1.29\n",
            " period 191 : 0.96\n",
            " period 192 : 0.87\n",
            " period 193 : 1.03\n",
            " period 194 : 1.15\n",
            " period 195 : 0.94\n",
            " period 196 : 1.02\n",
            " period 197 : 1.35\n",
            " period 198 : 0.88\n",
            " period 199 : 1.26\n"
          ]
        }
      ]
    },
    {
      "cell_type": "code",
      "source": [
        "final_predictions = model_1.predict(input_fn=pred_fn)\n",
        "final_predictions = np.array([item['class_ids'][0] for item in final_predictions])"
      ],
      "metadata": {
        "id": "w1Tesva_7Hr9"
      },
      "id": "w1Tesva_7Hr9",
      "execution_count": null,
      "outputs": []
    },
    {
      "cell_type": "code",
      "source": [
        "accuracy = metrics.accuracy_score(y_test_n, final_predictions)\n",
        "print(\"Final accuracy (on validation data): %0.2f\" % accuracy)\n",
        "plt.rcParams[\"figure.figsize\"] = (12,10)\n",
        "# Output a graph of loss metrics over periods.\n",
        "plt.ylabel(\"LogLoss\", fontsize = 20)\n",
        "plt.xlabel(\"Periods\", fontsize = 20)\n",
        "plt.title(\"LogLoss vs. Periods (validation)\", fontsize = 20)\n",
        "plt.plot(validation_errors, 'k', linewidth = 2)\n",
        "#plt.legend()\n",
        "plt.show()"
      ],
      "metadata": {
        "colab": {
          "base_uri": "https://localhost:8080/",
          "height": 912
        },
        "id": "zEkwSrfs7EBP",
        "outputId": "c5e8e103-08f7-4a3e-9e91-00a169f5a849"
      },
      "id": "zEkwSrfs7EBP",
      "execution_count": null,
      "outputs": [
        {
          "output_type": "stream",
          "name": "stdout",
          "text": [
            "Final accuracy (on validation data): 0.92\n"
          ]
        },
        {
          "output_type": "display_data",
          "data": {
            "text/plain": [
              "<Figure size 1200x1000 with 1 Axes>"
            ],
            "image/png": "[encoded data removed]"
          },
          "metadata": {}
        }
      ]
    },
    {
      "cell_type": "code",
      "source": [
        "plt.rcParams[\"figure.figsize\"] = (12,10)\n",
        "\n",
        "cm = metrics.confusion_matrix(y_test_n, final_predictions)\n",
        "# Normalize the confusion matrix by row (i.e by the number of samples\n",
        "# in each class).\n",
        "cm_normalized = cm.astype(\"float\") / cm.sum(axis=1)[:, np.newaxis]"
      ],
      "metadata": {
        "id": "Gp4FGPP67ABy"
      },
      "id": "Gp4FGPP67ABy",
      "execution_count": null,
      "outputs": []
    },
    {
      "cell_type": "code",
      "source": [
        "ax = sns.heatmap(cm_normalized, cmap=\"bone_r\")\n",
        "ax.set_aspect(1)\n",
        "plt.title(\"Confusion matrix\", fontsize = 20)\n",
        "plt.ylabel(\"True label\", fontsize = 20)\n",
        "plt.xlabel(\"Predicted label\", fontsize = 20)\n",
        "plt.show()"
      ],
      "metadata": {
        "colab": {
          "base_uri": "https://localhost:8080/",
          "height": 868
        },
        "id": "b4pcmghB67HF",
        "outputId": "e8b45120-6ed2-4c1c-d7e1-0482bd622c21"
      },
      "id": "b4pcmghB67HF",
      "execution_count": null,
      "outputs": [
        {
          "output_type": "display_data",
          "data": {
            "text/plain": [
              "<Figure size 1200x1000 with 2 Axes>"
            ],
            "image/png": "[encoded data removed]"
          },
          "metadata": {}
        }
      ]
    },
    {
      "cell_type": "code",
      "source": [
        "print(\"Classification report for classifier %s:\\n%s\\n\"\n",
        "      % (model_1, metrics.classification_report(y_test_n, final_predictions, labels=[0, 1])))"
      ],
      "metadata": {
        "colab": {
          "base_uri": "https://localhost:8080/"
        },
        "id": "A1xtkxO26y30",
        "outputId": "fd102d92-8e4b-4a49-d9d3-2218c4bbc1ab"
      },
      "id": "A1xtkxO26y30",
      "execution_count": null,
      "outputs": [
        {
          "output_type": "stream",
          "name": "stdout",
          "text": [
            "Classification report for classifier <tensorflow_estimator.python.estimator.canned.dnn.DNNClassifierV2 object at 0x7f76db3a1f00>:\n",
            "              precision    recall  f1-score   support\n",
            "\n",
            "           0       0.87      0.97      0.92       494\n",
            "           1       0.97      0.88      0.92       572\n",
            "\n",
            "    accuracy                           0.92      1066\n",
            "   macro avg       0.92      0.92      0.92      1066\n",
            "weighted avg       0.93      0.92      0.92      1066\n",
            "\n",
            "\n"
          ]
        }
      ]
    },
    {
      "cell_type": "code",
      "source": [
        "accuracy = accuracy_score(y_test_n, final_predictions)\n",
        "DNN_B = accuracy\n",
        "print('Accuracy: {:.2f}%'.format(DNN_B * 100))"
      ],
      "metadata": {
        "colab": {
          "base_uri": "https://localhost:8080/"
        },
        "id": "0KNKzNBj6xK2",
        "outputId": "4fc361ef-cee3-4723-8361-414023abfd97"
      },
      "id": "0KNKzNBj6xK2",
      "execution_count": null,
      "outputs": [
        {
          "output_type": "stream",
          "name": "stdout",
          "text": [
            "Accuracy: 92.12%\n"
          ]
        }
      ]
    },
    {
      "cell_type": "markdown",
      "source": [
        "# DNN\n",
        "## (100, 50 25)"
      ],
      "metadata": {
        "id": "kfW2XJ727zy3"
      },
      "id": "kfW2XJ727zy3"
    },
    {
      "cell_type": "code",
      "source": [
        "model_2 = tf.estimator.LinearClassifier(feature_columns=feat_cols, n_classes=2)\n",
        "\n",
        "model_2 = tf.estimator.DNNClassifier(feature_columns=feat_cols, optimizer = legacy.Adam,\n",
        "                                          hidden_units=[250, 100, 50],\n",
        "                                          #dropout=0.025,\n",
        "                                          #activation_fn = tf.nn.softmax,\n",
        "                                          #optimizer='Adagrad',\n",
        "                                          n_classes=2)\n",
        "\n",
        "print(\"Training model_2...\")\n",
        "print(\"LogLoss error (on validation data):\")\n",
        "validation_errors = []\n",
        "for period in range (0, 200):\n",
        "# Train the model_2, starting from the prior state.\n",
        "    model_2.train(\n",
        "    input_fn=input_func,\n",
        "    steps=500\n",
        "    )\n",
        "    pred_fn = tf.compat.v1.estimator.inputs.pandas_input_fn(x=X_test,batch_size=len(X_test),shuffle=False)\n",
        "    y_fn = tf.compat.v1.estimator.inputs.pandas_input_fn(x=y_test,batch_size=len(y_test),shuffle=False)\n",
        "\n",
        "    validation_predictions = list(model_2.predict(input_fn=pred_fn))\n",
        "    validation_probabilities = np.array([item['probabilities'] for item in validation_predictions])\n",
        "    validation_pred_class_id = np.array([item['class_ids'][0] for item in validation_predictions])\n",
        "    validation_pred_one_hot = tf.keras.utils.to_categorical(validation_pred_class_id,0)\n",
        "    validation_log_loss = metrics.log_loss(y_test_n, validation_pred_one_hot)\n",
        "    print(\" period %02d : %0.2f\" % (period, validation_log_loss))\n",
        "    validation_errors.append(validation_log_loss)"
      ],
      "metadata": {
        "colab": {
          "base_uri": "https://localhost:8080/"
        },
        "id": "h9Rdf0H978cV",
        "outputId": "3a147b1b-5444-4810-ef60-9926986abb5b"
      },
      "id": "h9Rdf0H978cV",
      "execution_count": null,
      "outputs": [
        {
          "output_type": "stream",
          "name": "stderr",
          "text": [
            "WARNING:tensorflow:Using temporary folder as model directory: /tmp/tmpal5nhrnq\n",
            "WARNING:tensorflow:Using temporary folder as model directory: /tmp/tmpdv5445bq\n"
          ]
        },
        {
          "output_type": "stream",
          "name": "stdout",
          "text": [
            "Training model_2...\n",
            "LogLoss error (on validation data):\n",
            " period 00 : 2.56\n",
            " period 01 : 2.65\n",
            " period 02 : 2.87\n",
            " period 03 : 2.63\n",
            " period 04 : 2.71\n",
            " period 05 : 2.69\n",
            " period 06 : 2.23\n",
            " period 07 : 2.11\n",
            " period 08 : 1.93\n",
            " period 09 : 1.78\n",
            " period 10 : 1.75\n",
            " period 11 : 1.59\n",
            " period 12 : 1.53\n",
            " period 13 : 1.78\n",
            " period 14 : 1.38\n",
            " period 15 : 1.39\n",
            " period 16 : 1.05\n",
            " period 17 : 1.30\n",
            " period 18 : 1.03\n",
            " period 19 : 2.20\n",
            " period 20 : 1.06\n",
            " period 21 : 2.26\n",
            " period 22 : 1.09\n",
            " period 23 : 1.53\n",
            " period 24 : 2.30\n",
            " period 25 : 1.39\n",
            " period 26 : 1.14\n",
            " period 27 : 1.14\n",
            " period 28 : 1.24\n",
            " period 29 : 0.91\n",
            " period 30 : 1.12\n",
            " period 31 : 1.17\n",
            " period 32 : 1.03\n",
            " period 33 : 1.14\n",
            " period 34 : 1.06\n",
            " period 35 : 0.91\n",
            " period 36 : 1.00\n",
            " period 37 : 1.32\n",
            " period 38 : 0.96\n",
            " period 39 : 0.96\n",
            " period 40 : 0.94\n",
            " period 41 : 1.09\n",
            " period 42 : 1.18\n",
            " period 43 : 1.18\n",
            " period 44 : 0.93\n",
            " period 45 : 0.99\n",
            " period 46 : 1.06\n",
            " period 47 : 0.97\n",
            " period 48 : 0.90\n",
            " period 49 : 0.97\n",
            " period 50 : 1.09\n",
            " period 51 : 0.93\n",
            " period 52 : 0.97\n",
            " period 53 : 0.93\n",
            " period 54 : 1.00\n",
            " period 55 : 0.99\n",
            " period 56 : 1.14\n",
            " period 57 : 0.94\n",
            " period 58 : 0.94\n",
            " period 59 : 1.20\n",
            " period 60 : 0.81\n",
            " period 61 : 1.09\n",
            " period 62 : 0.99\n",
            " period 63 : 1.02\n",
            " period 64 : 0.97\n",
            " period 65 : 1.29\n",
            " period 66 : 0.91\n",
            " period 67 : 1.17\n",
            " period 68 : 0.93\n",
            " period 69 : 1.05\n",
            " period 70 : 1.94\n",
            " period 71 : 1.09\n",
            " period 72 : 1.42\n",
            " period 73 : 0.87\n",
            " period 74 : 0.91\n",
            " period 75 : 0.82\n",
            " period 76 : 0.88\n",
            " period 77 : 0.79\n",
            " period 78 : 0.94\n",
            " period 79 : 0.96\n",
            " period 80 : 0.90\n",
            " period 81 : 1.00\n",
            " period 82 : 1.15\n",
            " period 83 : 1.00\n",
            " period 84 : 0.79\n",
            " period 85 : 0.87\n",
            " period 86 : 1.27\n",
            " period 87 : 0.93\n",
            " period 88 : 0.94\n",
            " period 89 : 0.96\n",
            " period 90 : 0.99\n",
            " period 91 : 1.42\n",
            " period 92 : 0.94\n",
            " period 93 : 1.03\n",
            " period 94 : 1.32\n",
            " period 95 : 1.24\n",
            " period 96 : 0.90\n",
            " period 97 : 0.93\n",
            " period 98 : 0.91\n",
            " period 99 : 0.94\n",
            " period 100 : 0.93\n",
            " period 101 : 0.96\n",
            " period 102 : 0.97\n",
            " period 103 : 0.96\n",
            " period 104 : 0.91\n",
            " period 105 : 1.20\n",
            " period 106 : 1.02\n",
            " period 107 : 0.82\n",
            " period 108 : 1.00\n",
            " period 109 : 0.97\n",
            " period 110 : 1.03\n",
            " period 111 : 0.99\n",
            " period 112 : 1.12\n",
            " period 113 : 1.00\n",
            " period 114 : 1.03\n",
            " period 115 : 0.97\n",
            " period 116 : 1.12\n",
            " period 117 : 1.12\n",
            " period 118 : 1.02\n",
            " period 119 : 0.90\n",
            " period 120 : 0.87\n",
            " period 121 : 0.88\n",
            " period 122 : 1.17\n",
            " period 123 : 1.05\n",
            " period 124 : 0.96\n",
            " period 125 : 0.90\n",
            " period 126 : 0.91\n",
            " period 127 : 0.94\n",
            " period 128 : 1.00\n",
            " period 129 : 0.97\n",
            " period 130 : 1.00\n",
            " period 131 : 0.99\n",
            " period 132 : 0.88\n",
            " period 133 : 0.97\n",
            " period 134 : 0.94\n",
            " period 135 : 0.94\n",
            " period 136 : 0.99\n",
            " period 137 : 0.93\n",
            " period 138 : 1.12\n",
            " period 139 : 0.91\n",
            " period 140 : 0.99\n",
            " period 141 : 1.11\n",
            " period 142 : 1.00\n",
            " period 143 : 1.00\n",
            " period 144 : 1.27\n",
            " period 145 : 0.99\n",
            " period 146 : 1.35\n",
            " period 147 : 0.94\n",
            " period 148 : 1.03\n",
            " period 149 : 0.97\n",
            " period 150 : 0.85\n",
            " period 151 : 0.93\n",
            " period 152 : 0.91\n",
            " period 153 : 1.00\n",
            " period 154 : 1.03\n",
            " period 155 : 1.42\n",
            " period 156 : 0.87\n",
            " period 157 : 1.08\n",
            " period 158 : 1.03\n",
            " period 159 : 0.91\n",
            " period 160 : 1.05\n",
            " period 161 : 0.96\n",
            " period 162 : 0.99\n",
            " period 163 : 1.02\n",
            " period 164 : 1.06\n",
            " period 165 : 1.15\n",
            " period 166 : 1.05\n",
            " period 167 : 1.00\n",
            " period 168 : 1.18\n",
            " period 169 : 0.84\n",
            " period 170 : 1.14\n",
            " period 171 : 1.02\n",
            " period 172 : 1.08\n",
            " period 173 : 0.96\n",
            " period 174 : 0.91\n",
            " period 175 : 0.99\n",
            " period 176 : 0.97\n",
            " period 177 : 0.93\n",
            " period 178 : 1.02\n",
            " period 179 : 1.39\n",
            " period 180 : 1.00\n",
            " period 181 : 1.06\n",
            " period 182 : 0.81\n",
            " period 183 : 0.90\n",
            " period 184 : 1.17\n",
            " period 185 : 1.30\n",
            " period 186 : 0.85\n",
            " period 187 : 1.32\n",
            " period 188 : 0.96\n",
            " period 189 : 1.23\n",
            " period 190 : 0.91\n",
            " period 191 : 1.06\n",
            " period 192 : 0.99\n",
            " period 193 : 0.94\n",
            " period 194 : 0.93\n",
            " period 195 : 0.85\n",
            " period 196 : 0.96\n",
            " period 197 : 1.03\n",
            " period 198 : 0.96\n",
            " period 199 : 1.00\n"
          ]
        }
      ]
    },
    {
      "cell_type": "code",
      "source": [
        "final_predictions = model_2.predict(input_fn=pred_fn)\n",
        "final_predictions = np.array([item['class_ids'][0] for item in final_predictions])"
      ],
      "metadata": {
        "id": "EuqJWdSU78Pd"
      },
      "id": "EuqJWdSU78Pd",
      "execution_count": null,
      "outputs": []
    },
    {
      "cell_type": "code",
      "source": [
        "accuracy = metrics.accuracy_score(y_test_n, final_predictions)\n",
        "print(\"Final accuracy (on validation data): %0.2f\" % accuracy)\n",
        "plt.rcParams[\"figure.figsize\"] = (12,10)\n",
        "# Output a graph of loss metrics over periods.\n",
        "plt.ylabel(\"LogLoss\", fontsize = 20)\n",
        "plt.xlabel(\"Periods\", fontsize = 20)\n",
        "plt.title(\"LogLoss vs. Periods (validation)\", fontsize = 20)\n",
        "plt.plot(validation_errors, 'k', linewidth = 2)\n",
        "#plt.legend()\n",
        "plt.show()"
      ],
      "metadata": {
        "colab": {
          "base_uri": "https://localhost:8080/",
          "height": 912
        },
        "id": "ipz2hY7378DZ",
        "outputId": "a2b786a0-b762-4283-9b4c-313a2656bf28"
      },
      "id": "ipz2hY7378DZ",
      "execution_count": null,
      "outputs": [
        {
          "output_type": "stream",
          "name": "stdout",
          "text": [
            "Final accuracy (on validation data): 0.94\n"
          ]
        },
        {
          "output_type": "display_data",
          "data": {
            "text/plain": [
              "<Figure size 1200x1000 with 1 Axes>"
            ],
            "image/png": "[encoded data removed]"
          },
          "metadata": {}
        }
      ]
    },
    {
      "cell_type": "code",
      "source": [
        "plt.rcParams[\"figure.figsize\"] = (12,10)\n",
        "\n",
        "cm = metrics.confusion_matrix(y_test_n, final_predictions)\n",
        "# Normalize the confusion matrix by row (i.e by the number of samples\n",
        "# in each class).\n",
        "cm_normalized = cm.astype(\"float\") / cm.sum(axis=1)[:, np.newaxis]"
      ],
      "metadata": {
        "id": "SVZaylb6772X"
      },
      "id": "SVZaylb6772X",
      "execution_count": null,
      "outputs": []
    },
    {
      "cell_type": "code",
      "source": [
        "ax = sns.heatmap(cm_normalized, cmap=\"bone_r\")\n",
        "ax.set_aspect(1)\n",
        "plt.title(\"Confusion matrix\", fontsize = 20)\n",
        "plt.ylabel(\"True label\", fontsize = 20)\n",
        "plt.xlabel(\"Predicted label\", fontsize = 20)\n",
        "plt.show()"
      ],
      "metadata": {
        "colab": {
          "base_uri": "https://localhost:8080/",
          "height": 868
        },
        "id": "ZdZDuB1i74Zj",
        "outputId": "0b428543-998b-41dd-e955-08265cb456c1"
      },
      "id": "ZdZDuB1i74Zj",
      "execution_count": null,
      "outputs": [
        {
          "output_type": "display_data",
          "data": {
            "text/plain": [
              "<Figure size 1200x1000 with 2 Axes>"
            ],
            "image/png": "[encoded data removed]"
          },
          "metadata": {}
        }
      ]
    },
    {
      "cell_type": "code",
      "source": [
        "print(\"Classification report for classifier %s:\\n%s\\n\"\n",
        "      % (model_1, metrics.classification_report(y_test_n, final_predictions, labels=[0, 1])))"
      ],
      "metadata": {
        "colab": {
          "base_uri": "https://localhost:8080/"
        },
        "id": "WVeYYG1k74Ox",
        "outputId": "a02c8211-7a0d-4e12-f8db-effb02c8daa9"
      },
      "id": "WVeYYG1k74Ox",
      "execution_count": null,
      "outputs": [
        {
          "output_type": "stream",
          "name": "stdout",
          "text": [
            "Classification report for classifier <tensorflow_estimator.python.estimator.canned.dnn.DNNClassifierV2 object at 0x7f76db3a1f00>:\n",
            "              precision    recall  f1-score   support\n",
            "\n",
            "           0       0.94      0.92      0.93       494\n",
            "           1       0.93      0.95      0.94       572\n",
            "\n",
            "    accuracy                           0.94      1066\n",
            "   macro avg       0.94      0.94      0.94      1066\n",
            "weighted avg       0.94      0.94      0.94      1066\n",
            "\n",
            "\n"
          ]
        }
      ]
    },
    {
      "cell_type": "code",
      "source": [
        "accuracy = accuracy_score(y_test_n, final_predictions)\n",
        "DNN_C = accuracy\n",
        "print('Accuracy: {:.2f}%'.format(DNN_C * 100))"
      ],
      "metadata": {
        "colab": {
          "base_uri": "https://localhost:8080/"
        },
        "id": "lghGuyhC74De",
        "outputId": "97a3558c-99c1-419c-edd4-08c27156a6da"
      },
      "id": "lghGuyhC74De",
      "execution_count": null,
      "outputs": [
        {
          "output_type": "stream",
          "name": "stdout",
          "text": [
            "Accuracy: 93.71%\n"
          ]
        }
      ]
    },
    {
      "cell_type": "markdown",
      "source": [
        "# DNN\n",
        "## (10, 5, 2)"
      ],
      "metadata": {
        "id": "lovi4VAOssph"
      },
      "id": "lovi4VAOssph"
    },
    {
      "cell_type": "code",
      "source": [
        "model_3 = tf.estimator.LinearClassifier(feature_columns=feat_cols, n_classes=2)\n",
        "\n",
        "model_3 = tf.estimator.DNNClassifier(feature_columns=feat_cols, optimizer = legacy.Adam,\n",
        "                                          hidden_units=[10, 5, 2],\n",
        "                                          #dropout=0.025,\n",
        "                                          #activation_fn = tf.nn.softmax,\n",
        "                                          #optimizer='Adagrad',\n",
        "                                          n_classes=2)\n",
        "\n",
        "print(\"Training model_3...\")\n",
        "print(\"LogLoss error (on validation data):\")\n",
        "validation_errors = []\n",
        "for period in range (0, 200):\n",
        "# Train the model_3, starting from the prior state.\n",
        "    model_3.train(\n",
        "    input_fn=input_func,\n",
        "    steps=500\n",
        "    )\n",
        "    pred_fn = tf.compat.v1.estimator.inputs.pandas_input_fn(x=X_test,batch_size=len(X_test),shuffle=False)\n",
        "    y_fn = tf.compat.v1.estimator.inputs.pandas_input_fn(x=y_test,batch_size=len(y_test),shuffle=False)\n",
        "\n",
        "    validation_predictions = list(model_3.predict(input_fn=pred_fn))\n",
        "    validation_probabilities = np.array([item['probabilities'] for item in validation_predictions])\n",
        "    validation_pred_class_id = np.array([item['class_ids'][0] for item in validation_predictions])\n",
        "    validation_pred_one_hot = tf.keras.utils.to_categorical(validation_pred_class_id,0)\n",
        "    validation_log_loss = metrics.log_loss(y_test_n, validation_pred_one_hot)\n",
        "    print(\" period %02d : %0.2f\" % (period, validation_log_loss))\n",
        "    validation_errors.append(validation_log_loss)\n",
        "\n",
        "final_predictions = model_3.predict(input_fn=pred_fn)\n",
        "final_predictions = np.array([item['class_ids'][0] for item in final_predictions])"
      ],
      "metadata": {
        "id": "jU22HcJ1rWei",
        "colab": {
          "base_uri": "https://localhost:8080/"
        },
        "outputId": "f9c4c343-803c-453d-adf5-d149a24a4f81"
      },
      "id": "jU22HcJ1rWei",
      "execution_count": null,
      "outputs": [
        {
          "output_type": "stream",
          "name": "stderr",
          "text": [
            "WARNING:tensorflow:Using temporary folder as model directory: /tmp/tmp52khbz4n\n",
            "WARNING:tensorflow:Using temporary folder as model directory: /tmp/tmpdtet6hm2\n"
          ]
        },
        {
          "output_type": "stream",
          "name": "stdout",
          "text": [
            "Training model_3...\n",
            "LogLoss error (on validation data):\n",
            " period 00 : 3.56\n",
            " period 01 : 2.48\n",
            " period 02 : 3.13\n",
            " period 03 : 2.59\n",
            " period 04 : 2.68\n",
            " period 05 : 2.54\n",
            " period 06 : 2.45\n",
            " period 07 : 2.51\n",
            " period 08 : 2.41\n",
            " period 09 : 2.48\n",
            " period 10 : 2.41\n",
            " period 11 : 2.30\n",
            " period 12 : 2.24\n",
            " period 13 : 2.21\n",
            " period 14 : 2.18\n",
            " period 15 : 2.09\n",
            " period 16 : 2.06\n",
            " period 17 : 1.91\n",
            " period 18 : 2.05\n",
            " period 19 : 1.82\n",
            " period 20 : 1.57\n",
            " period 21 : 1.48\n",
            " period 22 : 1.44\n",
            " period 23 : 1.57\n",
            " period 24 : 1.36\n",
            " period 25 : 1.33\n",
            " period 26 : 1.65\n",
            " period 27 : 1.33\n",
            " period 28 : 1.09\n",
            " period 29 : 1.39\n",
            " period 30 : 1.27\n",
            " period 31 : 1.66\n",
            " period 32 : 1.42\n",
            " period 33 : 1.18\n",
            " period 34 : 1.75\n",
            " period 35 : 1.00\n",
            " period 36 : 1.27\n",
            " period 37 : 1.23\n",
            " period 38 : 1.66\n",
            " period 39 : 1.24\n",
            " period 40 : 1.23\n",
            " period 41 : 0.97\n",
            " period 42 : 1.02\n",
            " period 43 : 1.23\n",
            " period 44 : 1.24\n",
            " period 45 : 1.20\n",
            " period 46 : 1.08\n",
            " period 47 : 1.18\n",
            " period 48 : 1.00\n",
            " period 49 : 1.99\n",
            " period 50 : 0.88\n",
            " period 51 : 1.42\n",
            " period 52 : 1.21\n",
            " period 53 : 1.30\n",
            " period 54 : 1.06\n",
            " period 55 : 1.78\n",
            " period 56 : 1.32\n",
            " period 57 : 1.05\n",
            " period 58 : 1.17\n",
            " period 59 : 1.21\n",
            " period 60 : 1.65\n",
            " period 61 : 1.03\n",
            " period 62 : 1.03\n",
            " period 63 : 0.91\n",
            " period 64 : 0.96\n",
            " period 65 : 1.17\n",
            " period 66 : 0.91\n",
            " period 67 : 1.20\n",
            " period 68 : 1.39\n",
            " period 69 : 0.91\n",
            " period 70 : 1.02\n",
            " period 71 : 1.17\n",
            " period 72 : 1.76\n",
            " period 73 : 1.02\n",
            " period 74 : 1.30\n",
            " period 75 : 0.99\n",
            " period 76 : 1.39\n",
            " period 77 : 0.94\n",
            " period 78 : 1.06\n",
            " period 79 : 1.14\n",
            " period 80 : 1.14\n",
            " period 81 : 0.94\n",
            " period 82 : 0.91\n",
            " period 83 : 0.90\n",
            " period 84 : 1.00\n",
            " period 85 : 0.91\n",
            " period 86 : 1.06\n",
            " period 87 : 1.14\n",
            " period 88 : 0.85\n",
            " period 89 : 1.60\n",
            " period 90 : 1.08\n",
            " period 91 : 1.00\n",
            " period 92 : 1.02\n",
            " period 93 : 1.03\n",
            " period 94 : 1.00\n",
            " period 95 : 1.20\n",
            " period 96 : 1.06\n",
            " period 97 : 1.11\n",
            " period 98 : 1.15\n",
            " period 99 : 0.97\n",
            " period 100 : 0.90\n",
            " period 101 : 1.03\n",
            " period 102 : 1.00\n",
            " period 103 : 1.00\n",
            " period 104 : 0.94\n",
            " period 105 : 1.23\n",
            " period 106 : 1.38\n",
            " period 107 : 1.05\n",
            " period 108 : 1.14\n",
            " period 109 : 1.03\n",
            " period 110 : 1.15\n",
            " period 111 : 1.03\n",
            " period 112 : 1.02\n",
            " period 113 : 1.05\n",
            " period 114 : 1.06\n",
            " period 115 : 0.99\n",
            " period 116 : 1.39\n",
            " period 117 : 1.02\n",
            " period 118 : 1.44\n",
            " period 119 : 1.03\n",
            " period 120 : 0.97\n",
            " period 121 : 0.93\n",
            " period 122 : 0.99\n",
            " period 123 : 1.33\n",
            " period 124 : 0.85\n",
            " period 125 : 1.17\n",
            " period 126 : 1.11\n",
            " period 127 : 0.99\n",
            " period 128 : 1.12\n",
            " period 129 : 1.24\n",
            " period 130 : 1.06\n",
            " period 131 : 1.03\n",
            " period 132 : 1.35\n",
            " period 133 : 0.91\n",
            " period 134 : 0.91\n",
            " period 135 : 0.88\n",
            " period 136 : 1.05\n",
            " period 137 : 0.93\n",
            " period 138 : 1.15\n",
            " period 139 : 1.30\n",
            " period 140 : 1.05\n",
            " period 141 : 1.05\n",
            " period 142 : 1.18\n",
            " period 143 : 1.18\n",
            " period 144 : 1.18\n",
            " period 145 : 0.91\n",
            " period 146 : 0.91\n",
            " period 147 : 1.02\n",
            " period 148 : 0.99\n",
            " period 149 : 0.87\n",
            " period 150 : 0.91\n",
            " period 151 : 1.11\n",
            " period 152 : 1.08\n",
            " period 153 : 1.02\n",
            " period 154 : 1.29\n",
            " period 155 : 1.26\n",
            " period 156 : 1.32\n",
            " period 157 : 1.02\n",
            " period 158 : 1.03\n",
            " period 159 : 1.02\n",
            " period 160 : 1.02\n",
            " period 161 : 1.00\n",
            " period 162 : 0.90\n",
            " period 163 : 0.96\n",
            " period 164 : 1.02\n",
            " period 165 : 0.93\n",
            " period 166 : 1.08\n",
            " period 167 : 1.59\n",
            " period 168 : 1.29\n",
            " period 169 : 0.99\n",
            " period 170 : 1.03\n",
            " period 171 : 1.05\n",
            " period 172 : 1.02\n",
            " period 173 : 1.24\n",
            " period 174 : 0.93\n",
            " period 175 : 1.12\n",
            " period 176 : 1.02\n",
            " period 177 : 0.99\n",
            " period 178 : 1.53\n",
            " period 179 : 1.24\n",
            " period 180 : 0.99\n",
            " period 181 : 1.03\n",
            " period 182 : 0.90\n",
            " period 183 : 0.99\n",
            " period 184 : 0.94\n",
            " period 185 : 1.00\n",
            " period 186 : 1.11\n",
            " period 187 : 0.94\n",
            " period 188 : 1.21\n",
            " period 189 : 1.18\n",
            " period 190 : 1.00\n",
            " period 191 : 1.05\n",
            " period 192 : 1.23\n",
            " period 193 : 1.08\n",
            " period 194 : 1.02\n",
            " period 195 : 1.06\n",
            " period 196 : 1.02\n",
            " period 197 : 0.96\n",
            " period 198 : 0.94\n",
            " period 199 : 1.00\n"
          ]
        }
      ]
    },
    {
      "cell_type": "code",
      "source": [
        "accuracy = metrics.accuracy_score(y_test_n, final_predictions)\n",
        "print(\"Final accuracy (on validation data): %0.2f\" % accuracy)\n",
        "plt.rcParams[\"figure.figsize\"] = (12,10)\n",
        "# Output a graph of loss metrics over periods.\n",
        "plt.ylabel(\"LogLoss\", fontsize = 20)\n",
        "plt.xlabel(\"Periods\", fontsize = 20)\n",
        "plt.title(\"LogLoss vs. Periods (validation)\", fontsize = 20)\n",
        "plt.plot(validation_errors, 'k', linewidth = 2)\n",
        "#plt.legend()\n",
        "plt.show()"
      ],
      "metadata": {
        "colab": {
          "base_uri": "https://localhost:8080/",
          "height": 912
        },
        "id": "EC4-SHtoqvCF",
        "outputId": "bbd78ffd-0fd7-4902-cd93-d4d15979ccb1"
      },
      "id": "EC4-SHtoqvCF",
      "execution_count": null,
      "outputs": [
        {
          "output_type": "stream",
          "name": "stdout",
          "text": [
            "Final accuracy (on validation data): 0.94\n"
          ]
        },
        {
          "output_type": "display_data",
          "data": {
            "text/plain": [
              "<Figure size 1200x1000 with 1 Axes>"
            ],
            "image/png": "[encoded data removed]"
          },
          "metadata": {}
        }
      ]
    },
    {
      "cell_type": "code",
      "source": [
        "plt.rcParams[\"figure.figsize\"] = (12,10)\n",
        "\n",
        "cm = metrics.confusion_matrix(y_test_n, final_predictions)\n",
        "# Normalize the confusion matrix by row (i.e by the number of samples\n",
        "# in each class).\n",
        "cm_normalized = cm.astype(\"float\") / cm.sum(axis=1)[:, np.newaxis]"
      ],
      "metadata": {
        "id": "eip22b1vqu3S"
      },
      "id": "eip22b1vqu3S",
      "execution_count": null,
      "outputs": []
    },
    {
      "cell_type": "code",
      "source": [
        "ax = sns.heatmap(cm_normalized, cmap=\"bone_r\")\n",
        "ax.set_aspect(1)\n",
        "plt.title(\"Confusion matrix\", fontsize = 20)\n",
        "plt.ylabel(\"True label\", fontsize = 20)\n",
        "plt.xlabel(\"Predicted label\", fontsize = 20)\n",
        "plt.show()"
      ],
      "metadata": {
        "colab": {
          "base_uri": "https://localhost:8080/",
          "height": 868
        },
        "id": "FvBOMAdCq-nH",
        "outputId": "14785eed-ddfe-4784-d929-fc910e240e03"
      },
      "id": "FvBOMAdCq-nH",
      "execution_count": null,
      "outputs": [
        {
          "output_type": "display_data",
          "data": {
            "text/plain": [
              "<Figure size 1200x1000 with 2 Axes>"
            ],
            "image/png": "[encoded data removed]"
          },
          "metadata": {}
        }
      ]
    },
    {
      "cell_type": "code",
      "source": [
        "print(\"Classification report for classifier %s:\\n%s\\n\"\n",
        "      % (model_3, metrics.classification_report(y_test_n, final_predictions, labels=[0, 1])))\n",
        "\n",
        "accuracy = accuracy_score(y_test_n, final_predictions)\n",
        "DNN_D = accuracy\n",
        "print('Accuracy: {:.2f}%'.format(DNN_D * 100))"
      ],
      "metadata": {
        "colab": {
          "base_uri": "https://localhost:8080/"
        },
        "id": "--J9aR7pq-gn",
        "outputId": "4c62bf38-0684-4326-b9b6-2441167bfd44"
      },
      "id": "--J9aR7pq-gn",
      "execution_count": null,
      "outputs": [
        {
          "output_type": "stream",
          "name": "stdout",
          "text": [
            "Classification report for classifier <tensorflow_estimator.python.estimator.canned.dnn.DNNClassifierV2 object at 0x7f76a648ee00>:\n",
            "              precision    recall  f1-score   support\n",
            "\n",
            "           0       0.95      0.92      0.93       494\n",
            "           1       0.93      0.95      0.94       572\n",
            "\n",
            "    accuracy                           0.94      1066\n",
            "   macro avg       0.94      0.94      0.94      1066\n",
            "weighted avg       0.94      0.94      0.94      1066\n",
            "\n",
            "\n",
            "Accuracy: 93.71%\n"
          ]
        }
      ]
    },
    {
      "cell_type": "markdown",
      "metadata": {
        "id": "vuie_PJTGooa"
      },
      "source": [
        "# SVM"
      ],
      "id": "vuie_PJTGooa"
    },
    {
      "cell_type": "markdown",
      "metadata": {
        "id": "PR2qDtEfqDdL"
      },
      "source": [
        "## SVM with bagging"
      ],
      "id": "PR2qDtEfqDdL"
    },
    {
      "cell_type": "code",
      "execution_count": null,
      "metadata": {
        "id": "wRNWGB1Y8moS",
        "colab": {
          "base_uri": "https://localhost:8080/",
          "height": 175
        },
        "outputId": "167ea4a7-8aee-4abf-b4d1-ec0ee142b039"
      },
      "outputs": [
        {
          "output_type": "stream",
          "name": "stderr",
          "text": [
            "/usr/local/lib/python3.10/dist-packages/sklearn/ensemble/_base.py:166: FutureWarning: `base_estimator` was renamed to `estimator` in version 1.2 and will be removed in 1.4.\n",
            "  warnings.warn(\n"
          ]
        },
        {
          "output_type": "execute_result",
          "data": {
            "text/plain": [
              "BaggingClassifier(base_estimator=SVC(), random_state=42)"
            ],
            "text/html": [
              "<style>#sk-container-id-1 {color: black;background-color: white;}#sk-container-id-1 pre{padding: 0;}#sk-container-id-1 div.sk-toggleable {background-color: white;}#sk-container-id-1 label.sk-toggleable__label {cursor: pointer;display: block;width: 100%;margin-bottom: 0;padding: 0.3em;box-sizing: border-box;text-align: center;}#sk-container-id-1 label.sk-toggleable__label-arrow:before {content: \"▸\";float: left;margin-right: 0.25em;color: #696969;}#sk-container-id-1 label.sk-toggleable__label-arrow:hover:before {color: black;}#sk-container-id-1 div.sk-estimator:hover label.sk-toggleable__label-arrow:before {color: black;}#sk-container-id-1 div.sk-toggleable__content {max-height: 0;max-width: 0;overflow: hidden;text-align: left;background-color: #f0f8ff;}#sk-container-id-1 div.sk-toggleable__content pre {margin: 0.2em;color: black;border-radius: 0.25em;background-color: #f0f8ff;}#sk-container-id-1 input.sk-toggleable__control:checked~div.sk-toggleable__content {max-height: 200px;max-width: 100%;overflow: auto;}#sk-container-id-1 input.sk-toggleable__control:checked~label.sk-toggleable__label-arrow:before {content: \"▾\";}#sk-container-id-1 div.sk-estimator input.sk-toggleable__control:checked~label.sk-toggleable__label {background-color: #d4ebff;}#sk-container-id-1 div.sk-label input.sk-toggleable__control:checked~label.sk-toggleable__label {background-color: #d4ebff;}#sk-container-id-1 input.sk-hidden--visually {border: 0;clip: rect(1px 1px 1px 1px);clip: rect(1px, 1px, 1px, 1px);height: 1px;margin: -1px;overflow: hidden;padding: 0;position: absolute;width: 1px;}#sk-container-id-1 div.sk-estimator {font-family: monospace;background-color: #f0f8ff;border: 1px dotted black;border-radius: 0.25em;box-sizing: border-box;margin-bottom: 0.5em;}#sk-container-id-1 div.sk-estimator:hover {background-color: #d4ebff;}#sk-container-id-1 div.sk-parallel-item::after {content: \"\";width: 100%;border-bottom: 1px solid gray;flex-grow: 1;}#sk-container-id-1 div.sk-label:hover label.sk-toggleable__label {background-color: #d4ebff;}#sk-container-id-1 div.sk-serial::before {content: \"\";position: absolute;border-left: 1px solid gray;box-sizing: border-box;top: 0;bottom: 0;left: 50%;z-index: 0;}#sk-container-id-1 div.sk-serial {display: flex;flex-direction: column;align-items: center;background-color: white;padding-right: 0.2em;padding-left: 0.2em;position: relative;}#sk-container-id-1 div.sk-item {position: relative;z-index: 1;}#sk-container-id-1 div.sk-parallel {display: flex;align-items: stretch;justify-content: center;background-color: white;position: relative;}#sk-container-id-1 div.sk-item::before, #sk-container-id-1 div.sk-parallel-item::before {content: \"\";position: absolute;border-left: 1px solid gray;box-sizing: border-box;top: 0;bottom: 0;left: 50%;z-index: -1;}#sk-container-id-1 div.sk-parallel-item {display: flex;flex-direction: column;z-index: 1;position: relative;background-color: white;}#sk-container-id-1 div.sk-parallel-item:first-child::after {align-self: flex-end;width: 50%;}#sk-container-id-1 div.sk-parallel-item:last-child::after {align-self: flex-start;width: 50%;}#sk-container-id-1 div.sk-parallel-item:only-child::after {width: 0;}#sk-container-id-1 div.sk-dashed-wrapped {border: 1px dashed gray;margin: 0 0.4em 0.5em 0.4em;box-sizing: border-box;padding-bottom: 0.4em;background-color: white;}#sk-container-id-1 div.sk-label label {font-family: monospace;font-weight: bold;display: inline-block;line-height: 1.2em;}#sk-container-id-1 div.sk-label-container {text-align: center;}#sk-container-id-1 div.sk-container {/* jupyter's `normalize.less` sets `[hidden] { display: none; }` but bootstrap.min.css set `[hidden] { display: none !important; }` so we also need the `!important` here to be able to override the default hidden behavior on the sphinx rendered scikit-learn.org. See: https://github.com/scikit-learn/scikit-learn/issues/21755 */display: inline-block !important;position: relative;}#sk-container-id-1 div.sk-text-repr-fallback {display: none;}</style><div id=\"sk-container-id-1\" class=\"sk-top-container\"><div class=\"sk-text-repr-fallback\"><pre>BaggingClassifier(base_estimator=SVC(), random_state=42)</pre><b>In a Jupyter environment, please rerun this cell to show the HTML representation or trust the notebook. <br />On GitHub, the HTML representation is unable to render, please try loading this page with nbviewer.org.</b></div><div class=\"sk-container\" hidden><div class=\"sk-item sk-dashed-wrapped\"><div class=\"sk-label-container\"><div class=\"sk-label sk-toggleable\"><input class=\"sk-toggleable__control sk-hidden--visually\" id=\"sk-estimator-id-1\" type=\"checkbox\" ><label for=\"sk-estimator-id-1\" class=\"sk-toggleable__label sk-toggleable__label-arrow\">BaggingClassifier</label><div class=\"sk-toggleable__content\"><pre>BaggingClassifier(base_estimator=SVC(), random_state=42)</pre></div></div></div><div class=\"sk-parallel\"><div class=\"sk-parallel-item\"><div class=\"sk-item\"><div class=\"sk-label-container\"><div class=\"sk-label sk-toggleable\"><input class=\"sk-toggleable__control sk-hidden--visually\" id=\"sk-estimator-id-2\" type=\"checkbox\" ><label for=\"sk-estimator-id-2\" class=\"sk-toggleable__label sk-toggleable__label-arrow\">base_estimator: SVC</label><div class=\"sk-toggleable__content\"><pre>SVC()</pre></div></div></div><div class=\"sk-serial\"><div class=\"sk-item\"><div class=\"sk-estimator sk-toggleable\"><input class=\"sk-toggleable__control sk-hidden--visually\" id=\"sk-estimator-id-3\" type=\"checkbox\" ><label for=\"sk-estimator-id-3\" class=\"sk-toggleable__label sk-toggleable__label-arrow\">SVC</label><div class=\"sk-toggleable__content\"><pre>SVC()</pre></div></div></div></div></div></div></div></div></div></div>"
            ]
          },
          "metadata": {},
          "execution_count": 36
        }
      ],
      "source": [
        "from sklearn.svm import SVC\n",
        "from sklearn.ensemble import BaggingClassifier\n",
        "\n",
        "svm = SVC(kernel='rbf', gamma='scale')\n",
        "bagging_svm = BaggingClassifier(base_estimator=svm, n_estimators=10, random_state=42)\n",
        "bagging_svm.fit(X_train, y_train)"
      ],
      "id": "wRNWGB1Y8moS"
    },
    {
      "cell_type": "code",
      "execution_count": null,
      "metadata": {
        "id": "kwrzApPP80wK",
        "colab": {
          "base_uri": "https://localhost:8080/"
        },
        "outputId": "8e5a87d0-ae08-4751-c7e8-f453c8f81243"
      },
      "outputs": [
        {
          "output_type": "stream",
          "name": "stdout",
          "text": [
            "[[412  82]\n",
            " [ 90 482]]\n"
          ]
        }
      ],
      "source": [
        "y_pred = bagging_svm.predict(X_test)\n",
        "\n",
        "from sklearn.metrics import classification_report, confusion_matrix\n",
        "confusion = print(confusion_matrix(y_test_n, y_pred))\n",
        "confusion"
      ],
      "id": "kwrzApPP80wK"
    },
    {
      "cell_type": "code",
      "execution_count": null,
      "metadata": {
        "id": "idIq_QSloiBb",
        "colab": {
          "base_uri": "https://localhost:8080/"
        },
        "outputId": "c43be989-59ee-4437-9f2e-b424d9c9f925"
      },
      "outputs": [
        {
          "output_type": "stream",
          "name": "stdout",
          "text": [
            "              precision    recall  f1-score   support\n",
            "\n",
            "           0       0.82      0.83      0.83       494\n",
            "           1       0.85      0.84      0.85       572\n",
            "\n",
            "    accuracy                           0.84      1066\n",
            "   macro avg       0.84      0.84      0.84      1066\n",
            "weighted avg       0.84      0.84      0.84      1066\n",
            "\n"
          ]
        }
      ],
      "source": [
        "print(classification_report(y_test_n, y_pred))"
      ],
      "id": "idIq_QSloiBb"
    },
    {
      "cell_type": "code",
      "execution_count": null,
      "metadata": {
        "id": "dP2IUocGEuRT",
        "colab": {
          "base_uri": "https://localhost:8080/"
        },
        "outputId": "b95915a4-9771-433a-fd87-a022172e3b2b"
      },
      "outputs": [
        {
          "output_type": "stream",
          "name": "stdout",
          "text": [
            "Accuracy: 83.86%\n"
          ]
        }
      ],
      "source": [
        "accuracy = accuracy_score(y_test_n, y_pred)\n",
        "SVM_with_Bagging = accuracy\n",
        "print('Accuracy: {:.2f}%'.format(SVM_with_Bagging * 100))"
      ],
      "id": "dP2IUocGEuRT"
    },
    {
      "cell_type": "markdown",
      "metadata": {
        "id": "I-9GK9Pxpug0"
      },
      "source": [
        "## SVM with GridSearchCV"
      ],
      "id": "I-9GK9Pxpug0"
    },
    {
      "cell_type": "code",
      "execution_count": null,
      "metadata": {
        "id": "9t8QQU6-jsYa"
      },
      "outputs": [],
      "source": [
        "from sklearn.model_selection import GridSearchCV\n",
        "from sklearn.feature_selection import SelectKBest, f_classif\n",
        "\n",
        "selector = SelectKBest(score_func=f_classif, k=6)\n",
        "X_train_selected = selector.fit_transform(X_train, y_train)\n",
        "X_test_selected = selector.transform(X_test)\n",
        "\n",
        "params = {\n",
        "    'kernel': ['linear', 'rbf'],\n",
        "    'C': [0.1, 1, 10],\n",
        "    'gamma': ['scale', 'auto']\n",
        "}\n",
        "\n",
        "grid = GridSearchCV(SVC(), params, cv=5)\n",
        "grid.fit(X_train_selected, y_train)\n",
        "\n",
        "sv_classifier = grid.best_estimator_"
      ],
      "id": "9t8QQU6-jsYa"
    },
    {
      "cell_type": "code",
      "execution_count": null,
      "metadata": {
        "id": "avnsReQtnAI6"
      },
      "outputs": [],
      "source": [
        "svm_two = sv_classifier.fit(X_train, y_train)"
      ],
      "id": "avnsReQtnAI6"
    },
    {
      "cell_type": "code",
      "execution_count": null,
      "metadata": {
        "id": "pjn4rjSSnId3",
        "colab": {
          "base_uri": "https://localhost:8080/"
        },
        "outputId": "1fbd7442-1c42-4623-ff3a-9405ee531185"
      },
      "outputs": [
        {
          "output_type": "stream",
          "name": "stdout",
          "text": [
            "[[455  39]\n",
            " [ 38 534]]\n"
          ]
        }
      ],
      "source": [
        "y_pred_svm_two = svm_two.predict(X_test)\n",
        "confusion = confusion_matrix(y_test_n, y_pred_svm_two)\n",
        "print(confusion)"
      ],
      "id": "pjn4rjSSnId3"
    },
    {
      "cell_type": "code",
      "execution_count": null,
      "metadata": {
        "id": "OwHrGMTMqKDt",
        "colab": {
          "base_uri": "https://localhost:8080/",
          "height": 848
        },
        "outputId": "40f94d69-c40a-420f-93b5-b943713770f7"
      },
      "outputs": [
        {
          "output_type": "execute_result",
          "data": {
            "text/plain": [
              "<Axes: >"
            ]
          },
          "metadata": {},
          "execution_count": 43
        },
        {
          "output_type": "display_data",
          "data": {
            "text/plain": [
              "<Figure size 1200x1000 with 2 Axes>"
            ],
            "image/png": "[encoded data removed]"
          },
          "metadata": {}
        }
      ],
      "source": [
        "import seaborn as sns\n",
        "sns.heatmap(confusion, annot=True, cmap = 'Greens')"
      ],
      "id": "OwHrGMTMqKDt"
    },
    {
      "cell_type": "code",
      "execution_count": null,
      "metadata": {
        "id": "4pF6s-N2onTy",
        "colab": {
          "base_uri": "https://localhost:8080/"
        },
        "outputId": "380cb984-1661-4ae9-b340-73c2113555e1"
      },
      "outputs": [
        {
          "output_type": "stream",
          "name": "stdout",
          "text": [
            "              precision    recall  f1-score   support\n",
            "\n",
            "           0       0.92      0.92      0.92       494\n",
            "           1       0.93      0.93      0.93       572\n",
            "\n",
            "    accuracy                           0.93      1066\n",
            "   macro avg       0.93      0.93      0.93      1066\n",
            "weighted avg       0.93      0.93      0.93      1066\n",
            "\n"
          ]
        }
      ],
      "source": [
        "print(classification_report(y_test_n, y_pred_svm_two))"
      ],
      "id": "4pF6s-N2onTy"
    },
    {
      "cell_type": "code",
      "execution_count": null,
      "metadata": {
        "id": "zirloPJ3IazE",
        "colab": {
          "base_uri": "https://localhost:8080/"
        },
        "outputId": "6713aa75-2eb1-4164-be59-8b1625e34cbf"
      },
      "outputs": [
        {
          "output_type": "stream",
          "name": "stdout",
          "text": [
            "Accuracy: 92.78%\n"
          ]
        }
      ],
      "source": [
        "accuracy = accuracy_score(y_test_n, y_pred_svm_two)\n",
        "SVM_with_GridSearch = accuracy\n",
        "print('Accuracy: {:.2f}%'.format(SVM_with_GridSearch * 100))"
      ],
      "id": "zirloPJ3IazE"
    },
    {
      "cell_type": "markdown",
      "metadata": {
        "id": "TqiPJYqoKIb_"
      },
      "source": [
        "# XG Boost"
      ],
      "id": "TqiPJYqoKIb_"
    },
    {
      "cell_type": "code",
      "execution_count": null,
      "metadata": {
        "id": "6yE2O4xnIzRF",
        "colab": {
          "base_uri": "https://localhost:8080/",
          "height": 1000
        },
        "outputId": "91b82476-03e0-4f1e-9f6e-d08289c8beab"
      },
      "outputs": [
        {
          "output_type": "display_data",
          "data": {
            "text/plain": [
              "<Figure size 1200x1000 with 1 Axes>"
            ],
            "image/png": "[encoded data removed]"
          },
          "metadata": {}
        },
        {
          "output_type": "stream",
          "name": "stdout",
          "text": [
            "              precision    recall  f1-score   support\n",
            "\n",
            "           0       0.96      0.96      0.96       494\n",
            "           1       0.96      0.97      0.97       572\n",
            "\n",
            "    accuracy                           0.96      1066\n",
            "   macro avg       0.96      0.96      0.96      1066\n",
            "weighted avg       0.96      0.96      0.96      1066\n",
            "\n"
          ]
        }
      ],
      "source": [
        "import xgboost as xgb\n",
        "\n",
        "xg = xgb.XGBClassifier()\n",
        "xg.fit(X_train, y_train)\n",
        "\n",
        "xgb.plot_importance(xg)\n",
        "plt.show()\n",
        "\n",
        "y_pred = xg.predict(X_test)\n",
        "\n",
        "report = classification_report(y_test, y_pred)\n",
        "\n",
        "print(report)"
      ],
      "id": "6yE2O4xnIzRF"
    },
    {
      "cell_type": "code",
      "execution_count": null,
      "metadata": {
        "id": "26CSHptIIysh",
        "colab": {
          "base_uri": "https://localhost:8080/"
        },
        "outputId": "8226ead1-3889-4c35-a66c-68326c7d231d"
      },
      "outputs": [
        {
          "output_type": "stream",
          "name": "stdout",
          "text": [
            "Accuracy: 96.25%\n"
          ]
        }
      ],
      "source": [
        "accuracy = accuracy_score(y_test, y_pred)\n",
        "XGBoost = accuracy\n",
        "print('Accuracy: {:.2f}%'.format(XGBoost * 100))"
      ],
      "id": "26CSHptIIysh"
    },
    {
      "cell_type": "markdown",
      "metadata": {
        "id": "awgUNYj9dt3h"
      },
      "source": [
        "# Decision Tree"
      ],
      "id": "awgUNYj9dt3h"
    },
    {
      "cell_type": "code",
      "execution_count": null,
      "metadata": {
        "id": "0I46ScGcKy14"
      },
      "outputs": [],
      "source": [
        "from sklearn import tree\n",
        "from sklearn.tree import DecisionTreeClassifier"
      ],
      "id": "0I46ScGcKy14"
    },
    {
      "cell_type": "code",
      "execution_count": null,
      "metadata": {
        "id": "2RPCDiaTdkNr",
        "colab": {
          "base_uri": "https://localhost:8080/"
        },
        "outputId": "f121d495-fcee-4113-92af-b35d5ed0d485"
      },
      "outputs": [
        {
          "output_type": "stream",
          "name": "stdout",
          "text": [
            "              precision    recall  f1-score   support\n",
            "\n",
            "           0       0.93      0.97      0.95       494\n",
            "           1       0.98      0.94      0.96       572\n",
            "\n",
            "    accuracy                           0.96      1066\n",
            "   macro avg       0.96      0.96      0.96      1066\n",
            "weighted avg       0.96      0.96      0.96      1066\n",
            "\n"
          ]
        }
      ],
      "source": [
        "decision = DecisionTreeClassifier(max_depth=3)\n",
        "\n",
        "decision.fit(X_train, y_train)\n",
        "\n",
        "y_pred = decision.predict(X_test)\n",
        "\n",
        "classification_rep = classification_report(y_test, y_pred)\n",
        "print(classification_rep)"
      ],
      "id": "2RPCDiaTdkNr"
    },
    {
      "cell_type": "code",
      "execution_count": null,
      "metadata": {
        "id": "IPYFgHwPJEra",
        "colab": {
          "base_uri": "https://localhost:8080/"
        },
        "outputId": "2adc60c8-d291-4659-bfb2-33578be5976e"
      },
      "outputs": [
        {
          "output_type": "stream",
          "name": "stdout",
          "text": [
            "Accuracy: 95.59%\n"
          ]
        }
      ],
      "source": [
        "accuracy = accuracy_score(y_test, y_pred)\n",
        "Decision_Tree = accuracy\n",
        "print('Accuracy: {:.2f}%'.format(Decision_Tree * 100))"
      ],
      "id": "IPYFgHwPJEra"
    },
    {
      "cell_type": "markdown",
      "metadata": {
        "id": "H2TtJH8vswN1"
      },
      "source": [
        "# Catboost"
      ],
      "id": "H2TtJH8vswN1"
    },
    {
      "cell_type": "code",
      "execution_count": null,
      "metadata": {
        "id": "Te3q15TLtUOc",
        "colab": {
          "base_uri": "https://localhost:8080/"
        },
        "outputId": "ba812e76-954f-4607-91bd-5a7ef432d304"
      },
      "outputs": [
        {
          "output_type": "stream",
          "name": "stdout",
          "text": [
            "Looking in indexes: https://pypi.org/simple, https://us-python.pkg.dev/colab-wheels/public/simple/\n",
            "Collecting catboost\n",
            "  Downloading catboost-1.2-cp310-cp310-manylinux2014_x86_64.whl (98.6 MB)\n",
            "\u001b[2K     \u001b[90m━━━━━━━━━━━━━━━━━━━━━━━━━━━━━━━━━━━━━━━━\u001b[0m \u001b[32m98.6/98.6 MB\u001b[0m \u001b[31m11.3 MB/s\u001b[0m eta \u001b[36m0:00:00\u001b[0m\n",
            "\u001b[?25hRequirement already satisfied: graphviz in /usr/local/lib/python3.10/dist-packages (from catboost) (0.20.1)\n",
            "Requirement already satisfied: matplotlib in /usr/local/lib/python3.10/dist-packages (from catboost) (3.7.1)\n",
            "Requirement already satisfied: numpy>=1.16.0 in /usr/local/lib/python3.10/dist-packages (from catboost) (1.22.4)\n",
            "Requirement already satisfied: pandas>=0.24 in /usr/local/lib/python3.10/dist-packages (from catboost) (1.5.3)\n",
            "Requirement already satisfied: scipy in /usr/local/lib/python3.10/dist-packages (from catboost) (1.10.1)\n",
            "Requirement already satisfied: plotly in /usr/local/lib/python3.10/dist-packages (from catboost) (5.13.1)\n",
            "Requirement already satisfied: six in /usr/local/lib/python3.10/dist-packages (from catboost) (1.16.0)\n",
            "Requirement already satisfied: python-dateutil>=2.8.1 in /usr/local/lib/python3.10/dist-packages (from pandas>=0.24->catboost) (2.8.2)\n",
            "Requirement already satisfied: pytz>=2020.1 in /usr/local/lib/python3.10/dist-packages (from pandas>=0.24->catboost) (2022.7.1)\n",
            "Requirement already satisfied: contourpy>=1.0.1 in /usr/local/lib/python3.10/dist-packages (from matplotlib->catboost) (1.0.7)\n",
            "Requirement already satisfied: cycler>=0.10 in /usr/local/lib/python3.10/dist-packages (from matplotlib->catboost) (0.11.0)\n",
            "Requirement already satisfied: fonttools>=4.22.0 in /usr/local/lib/python3.10/dist-packages (from matplotlib->catboost) (4.39.3)\n",
            "Requirement already satisfied: kiwisolver>=1.0.1 in /usr/local/lib/python3.10/dist-packages (from matplotlib->catboost) (1.4.4)\n",
            "Requirement already satisfied: packaging>=20.0 in /usr/local/lib/python3.10/dist-packages (from matplotlib->catboost) (23.1)\n",
            "Requirement already satisfied: pillow>=6.2.0 in /usr/local/lib/python3.10/dist-packages (from matplotlib->catboost) (8.4.0)\n",
            "Requirement already satisfied: pyparsing>=2.3.1 in /usr/local/lib/python3.10/dist-packages (from matplotlib->catboost) (3.0.9)\n",
            "Requirement already satisfied: tenacity>=6.2.0 in /usr/local/lib/python3.10/dist-packages (from plotly->catboost) (8.2.2)\n",
            "Installing collected packages: catboost\n",
            "Successfully installed catboost-1.2\n"
          ]
        }
      ],
      "source": [
        "pip install catboost"
      ],
      "id": "Te3q15TLtUOc"
    },
    {
      "cell_type": "code",
      "execution_count": null,
      "metadata": {
        "id": "3HHHGZUyszSt",
        "colab": {
          "base_uri": "https://localhost:8080/",
          "height": 1000
        },
        "outputId": "9d4a9dda-daee-42c2-8a9b-291ae0d3c258"
      },
      "outputs": [
        {
          "output_type": "stream",
          "name": "stdout",
          "text": [
            "Learning rate set to 0.015199\n",
            "0:\tlearn: 0.6636516\ttotal: 49.7ms\tremaining: 49.6s\n",
            "1:\tlearn: 0.6370380\ttotal: 52.5ms\tremaining: 26.2s\n",
            "2:\tlearn: 0.6160317\ttotal: 54.6ms\tremaining: 18.1s\n",
            "3:\tlearn: 0.5948349\ttotal: 57.6ms\tremaining: 14.3s\n",
            "4:\tlearn: 0.5723419\ttotal: 59.8ms\tremaining: 11.9s\n",
            "5:\tlearn: 0.5552507\ttotal: 62.1ms\tremaining: 10.3s\n",
            "6:\tlearn: 0.5352486\ttotal: 64.3ms\tremaining: 9.12s\n",
            "7:\tlearn: 0.5140205\ttotal: 66.6ms\tremaining: 8.26s\n",
            "8:\tlearn: 0.4982071\ttotal: 68.8ms\tremaining: 7.58s\n",
            "9:\tlearn: 0.4807157\ttotal: 71.3ms\tremaining: 7.06s\n",
            "10:\tlearn: 0.4629502\ttotal: 73.5ms\tremaining: 6.61s\n",
            "11:\tlearn: 0.4489521\ttotal: 75.8ms\tremaining: 6.24s\n",
            "12:\tlearn: 0.4367171\ttotal: 78.6ms\tremaining: 5.97s\n",
            "13:\tlearn: 0.4256574\ttotal: 81.6ms\tremaining: 5.75s\n",
            "14:\tlearn: 0.4122987\ttotal: 84.5ms\tremaining: 5.54s\n",
            "15:\tlearn: 0.4016026\ttotal: 86.9ms\tremaining: 5.34s\n",
            "16:\tlearn: 0.3880280\ttotal: 98.2ms\tremaining: 5.68s\n",
            "17:\tlearn: 0.3775876\ttotal: 105ms\tremaining: 5.73s\n",
            "18:\tlearn: 0.3653659\ttotal: 115ms\tremaining: 5.95s\n",
            "19:\tlearn: 0.3572825\ttotal: 118ms\tremaining: 5.76s\n",
            "20:\tlearn: 0.3483513\ttotal: 120ms\tremaining: 5.59s\n",
            "21:\tlearn: 0.3365429\ttotal: 122ms\tremaining: 5.44s\n",
            "22:\tlearn: 0.3282835\ttotal: 125ms\tremaining: 5.3s\n",
            "23:\tlearn: 0.3211686\ttotal: 127ms\tremaining: 5.16s\n",
            "24:\tlearn: 0.3127508\ttotal: 129ms\tremaining: 5.04s\n",
            "25:\tlearn: 0.3049060\ttotal: 131ms\tremaining: 4.92s\n",
            "26:\tlearn: 0.2989066\ttotal: 134ms\tremaining: 4.81s\n",
            "27:\tlearn: 0.2914319\ttotal: 136ms\tremaining: 4.71s\n",
            "28:\tlearn: 0.2836626\ttotal: 138ms\tremaining: 4.62s\n",
            "29:\tlearn: 0.2767069\ttotal: 141ms\tremaining: 4.55s\n",
            "30:\tlearn: 0.2715580\ttotal: 143ms\tremaining: 4.46s\n",
            "31:\tlearn: 0.2650945\ttotal: 145ms\tremaining: 4.39s\n",
            "32:\tlearn: 0.2604194\ttotal: 147ms\tremaining: 4.32s\n",
            "33:\tlearn: 0.2554491\ttotal: 150ms\tremaining: 4.25s\n",
            "34:\tlearn: 0.2505777\ttotal: 152ms\tremaining: 4.19s\n",
            "35:\tlearn: 0.2453738\ttotal: 154ms\tremaining: 4.13s\n",
            "36:\tlearn: 0.2415708\ttotal: 156ms\tremaining: 4.07s\n",
            "37:\tlearn: 0.2367530\ttotal: 159ms\tremaining: 4.01s\n",
            "38:\tlearn: 0.2318464\ttotal: 161ms\tremaining: 3.96s\n",
            "39:\tlearn: 0.2281545\ttotal: 163ms\tremaining: 3.92s\n",
            "40:\tlearn: 0.2248882\ttotal: 165ms\tremaining: 3.87s\n",
            "41:\tlearn: 0.2215683\ttotal: 167ms\tremaining: 3.82s\n",
            "42:\tlearn: 0.2178042\ttotal: 169ms\tremaining: 3.77s\n",
            "43:\tlearn: 0.2138006\ttotal: 172ms\tremaining: 3.73s\n",
            "44:\tlearn: 0.2113182\ttotal: 174ms\tremaining: 3.7s\n",
            "45:\tlearn: 0.2076381\ttotal: 177ms\tremaining: 3.66s\n",
            "46:\tlearn: 0.2039888\ttotal: 179ms\tremaining: 3.63s\n",
            "47:\tlearn: 0.2015070\ttotal: 181ms\tremaining: 3.59s\n",
            "48:\tlearn: 0.1979806\ttotal: 183ms\tremaining: 3.55s\n",
            "49:\tlearn: 0.1957134\ttotal: 186ms\tremaining: 3.52s\n",
            "50:\tlearn: 0.1941834\ttotal: 188ms\tremaining: 3.5s\n",
            "51:\tlearn: 0.1920065\ttotal: 190ms\tremaining: 3.47s\n",
            "52:\tlearn: 0.1900341\ttotal: 193ms\tremaining: 3.45s\n",
            "53:\tlearn: 0.1880126\ttotal: 199ms\tremaining: 3.48s\n",
            "54:\tlearn: 0.1863218\ttotal: 201ms\tremaining: 3.46s\n",
            "55:\tlearn: 0.1836701\ttotal: 204ms\tremaining: 3.43s\n",
            "56:\tlearn: 0.1817489\ttotal: 207ms\tremaining: 3.43s\n",
            "57:\tlearn: 0.1801482\ttotal: 212ms\tremaining: 3.44s\n",
            "58:\tlearn: 0.1784182\ttotal: 220ms\tremaining: 3.51s\n",
            "59:\tlearn: 0.1755421\ttotal: 227ms\tremaining: 3.56s\n",
            "60:\tlearn: 0.1731675\ttotal: 232ms\tremaining: 3.57s\n",
            "61:\tlearn: 0.1716908\ttotal: 237ms\tremaining: 3.58s\n",
            "62:\tlearn: 0.1701261\ttotal: 243ms\tremaining: 3.62s\n",
            "63:\tlearn: 0.1679223\ttotal: 250ms\tremaining: 3.65s\n",
            "64:\tlearn: 0.1661254\ttotal: 259ms\tremaining: 3.73s\n",
            "65:\tlearn: 0.1644445\ttotal: 264ms\tremaining: 3.74s\n",
            "66:\tlearn: 0.1630118\ttotal: 269ms\tremaining: 3.75s\n",
            "67:\tlearn: 0.1613628\ttotal: 275ms\tremaining: 3.77s\n",
            "68:\tlearn: 0.1603541\ttotal: 280ms\tremaining: 3.78s\n",
            "69:\tlearn: 0.1586457\ttotal: 285ms\tremaining: 3.78s\n",
            "70:\tlearn: 0.1570045\ttotal: 290ms\tremaining: 3.79s\n",
            "71:\tlearn: 0.1551815\ttotal: 300ms\tremaining: 3.86s\n",
            "72:\tlearn: 0.1537161\ttotal: 303ms\tremaining: 3.85s\n",
            "73:\tlearn: 0.1527368\ttotal: 308ms\tremaining: 3.85s\n",
            "74:\tlearn: 0.1509427\ttotal: 312ms\tremaining: 3.84s\n",
            "75:\tlearn: 0.1499967\ttotal: 317ms\tremaining: 3.85s\n",
            "76:\tlearn: 0.1485483\ttotal: 322ms\tremaining: 3.86s\n",
            "77:\tlearn: 0.1475600\ttotal: 327ms\tremaining: 3.87s\n",
            "78:\tlearn: 0.1465976\ttotal: 335ms\tremaining: 3.9s\n",
            "79:\tlearn: 0.1454489\ttotal: 339ms\tremaining: 3.9s\n",
            "80:\tlearn: 0.1439496\ttotal: 351ms\tremaining: 3.98s\n",
            "81:\tlearn: 0.1431727\ttotal: 361ms\tremaining: 4.04s\n",
            "82:\tlearn: 0.1418953\ttotal: 382ms\tremaining: 4.22s\n",
            "83:\tlearn: 0.1410084\ttotal: 395ms\tremaining: 4.3s\n",
            "84:\tlearn: 0.1403206\ttotal: 399ms\tremaining: 4.3s\n",
            "85:\tlearn: 0.1397077\ttotal: 406ms\tremaining: 4.31s\n",
            "86:\tlearn: 0.1389088\ttotal: 411ms\tremaining: 4.32s\n",
            "87:\tlearn: 0.1376966\ttotal: 417ms\tremaining: 4.32s\n",
            "88:\tlearn: 0.1370194\ttotal: 422ms\tremaining: 4.32s\n",
            "89:\tlearn: 0.1363570\ttotal: 431ms\tremaining: 4.36s\n",
            "90:\tlearn: 0.1354548\ttotal: 437ms\tremaining: 4.37s\n",
            "91:\tlearn: 0.1346399\ttotal: 442ms\tremaining: 4.36s\n",
            "92:\tlearn: 0.1334948\ttotal: 447ms\tremaining: 4.36s\n",
            "93:\tlearn: 0.1327771\ttotal: 453ms\tremaining: 4.36s\n",
            "94:\tlearn: 0.1317454\ttotal: 459ms\tremaining: 4.37s\n",
            "95:\tlearn: 0.1312544\ttotal: 473ms\tremaining: 4.45s\n",
            "96:\tlearn: 0.1303575\ttotal: 478ms\tremaining: 4.45s\n",
            "97:\tlearn: 0.1295481\ttotal: 482ms\tremaining: 4.44s\n",
            "98:\tlearn: 0.1286181\ttotal: 488ms\tremaining: 4.44s\n",
            "99:\tlearn: 0.1279499\ttotal: 493ms\tremaining: 4.44s\n",
            "100:\tlearn: 0.1273652\ttotal: 498ms\tremaining: 4.43s\n",
            "101:\tlearn: 0.1265775\ttotal: 504ms\tremaining: 4.44s\n",
            "102:\tlearn: 0.1259587\ttotal: 511ms\tremaining: 4.45s\n",
            "103:\tlearn: 0.1252482\ttotal: 517ms\tremaining: 4.45s\n",
            "104:\tlearn: 0.1248119\ttotal: 532ms\tremaining: 4.53s\n",
            "105:\tlearn: 0.1246218\ttotal: 535ms\tremaining: 4.51s\n",
            "106:\tlearn: 0.1242893\ttotal: 541ms\tremaining: 4.51s\n",
            "107:\tlearn: 0.1234632\ttotal: 546ms\tremaining: 4.51s\n",
            "108:\tlearn: 0.1225758\ttotal: 552ms\tremaining: 4.51s\n",
            "109:\tlearn: 0.1221111\ttotal: 557ms\tremaining: 4.51s\n",
            "110:\tlearn: 0.1214095\ttotal: 562ms\tremaining: 4.5s\n",
            "111:\tlearn: 0.1208486\ttotal: 571ms\tremaining: 4.53s\n",
            "112:\tlearn: 0.1202578\ttotal: 578ms\tremaining: 4.54s\n",
            "113:\tlearn: 0.1198672\ttotal: 584ms\tremaining: 4.54s\n",
            "114:\tlearn: 0.1194577\ttotal: 591ms\tremaining: 4.55s\n",
            "115:\tlearn: 0.1189672\ttotal: 599ms\tremaining: 4.56s\n",
            "116:\tlearn: 0.1185080\ttotal: 610ms\tremaining: 4.61s\n",
            "117:\tlearn: 0.1180325\ttotal: 618ms\tremaining: 4.62s\n",
            "118:\tlearn: 0.1174296\ttotal: 624ms\tremaining: 4.62s\n",
            "119:\tlearn: 0.1170236\ttotal: 630ms\tremaining: 4.62s\n",
            "120:\tlearn: 0.1163159\ttotal: 634ms\tremaining: 4.61s\n",
            "121:\tlearn: 0.1157703\ttotal: 641ms\tremaining: 4.61s\n",
            "122:\tlearn: 0.1153078\ttotal: 645ms\tremaining: 4.6s\n",
            "123:\tlearn: 0.1149286\ttotal: 649ms\tremaining: 4.59s\n",
            "124:\tlearn: 0.1144208\ttotal: 655ms\tremaining: 4.58s\n",
            "125:\tlearn: 0.1140091\ttotal: 658ms\tremaining: 4.56s\n",
            "126:\tlearn: 0.1136222\ttotal: 661ms\tremaining: 4.54s\n",
            "127:\tlearn: 0.1132914\ttotal: 664ms\tremaining: 4.52s\n",
            "128:\tlearn: 0.1129583\ttotal: 666ms\tremaining: 4.5s\n",
            "129:\tlearn: 0.1127695\ttotal: 668ms\tremaining: 4.47s\n",
            "130:\tlearn: 0.1125933\ttotal: 670ms\tremaining: 4.44s\n",
            "131:\tlearn: 0.1122372\ttotal: 672ms\tremaining: 4.42s\n",
            "132:\tlearn: 0.1119725\ttotal: 674ms\tremaining: 4.39s\n",
            "133:\tlearn: 0.1115349\ttotal: 676ms\tremaining: 4.37s\n",
            "134:\tlearn: 0.1112144\ttotal: 678ms\tremaining: 4.35s\n",
            "135:\tlearn: 0.1107466\ttotal: 681ms\tremaining: 4.32s\n",
            "136:\tlearn: 0.1105574\ttotal: 683ms\tremaining: 4.3s\n",
            "137:\tlearn: 0.1101622\ttotal: 688ms\tremaining: 4.3s\n",
            "138:\tlearn: 0.1098330\ttotal: 692ms\tremaining: 4.29s\n",
            "139:\tlearn: 0.1095913\ttotal: 694ms\tremaining: 4.26s\n",
            "140:\tlearn: 0.1091672\ttotal: 696ms\tremaining: 4.24s\n",
            "141:\tlearn: 0.1087612\ttotal: 698ms\tremaining: 4.22s\n",
            "142:\tlearn: 0.1084076\ttotal: 701ms\tremaining: 4.2s\n",
            "143:\tlearn: 0.1079292\ttotal: 703ms\tremaining: 4.18s\n",
            "144:\tlearn: 0.1076875\ttotal: 705ms\tremaining: 4.16s\n",
            "145:\tlearn: 0.1074201\ttotal: 707ms\tremaining: 4.14s\n",
            "146:\tlearn: 0.1072063\ttotal: 710ms\tremaining: 4.12s\n",
            "147:\tlearn: 0.1068828\ttotal: 712ms\tremaining: 4.1s\n",
            "148:\tlearn: 0.1064688\ttotal: 714ms\tremaining: 4.08s\n",
            "149:\tlearn: 0.1061785\ttotal: 718ms\tremaining: 4.07s\n",
            "150:\tlearn: 0.1059200\ttotal: 720ms\tremaining: 4.05s\n",
            "151:\tlearn: 0.1055869\ttotal: 722ms\tremaining: 4.03s\n",
            "152:\tlearn: 0.1054179\ttotal: 724ms\tremaining: 4.01s\n",
            "153:\tlearn: 0.1050184\ttotal: 729ms\tremaining: 4s\n",
            "154:\tlearn: 0.1048511\ttotal: 731ms\tremaining: 3.98s\n",
            "155:\tlearn: 0.1045372\ttotal: 733ms\tremaining: 3.96s\n",
            "156:\tlearn: 0.1043333\ttotal: 735ms\tremaining: 3.95s\n",
            "157:\tlearn: 0.1040960\ttotal: 738ms\tremaining: 3.93s\n",
            "158:\tlearn: 0.1038791\ttotal: 740ms\tremaining: 3.92s\n",
            "159:\tlearn: 0.1037116\ttotal: 743ms\tremaining: 3.9s\n",
            "160:\tlearn: 0.1033280\ttotal: 745ms\tremaining: 3.88s\n",
            "161:\tlearn: 0.1032101\ttotal: 753ms\tremaining: 3.9s\n",
            "162:\tlearn: 0.1030019\ttotal: 756ms\tremaining: 3.88s\n",
            "163:\tlearn: 0.1028682\ttotal: 758ms\tremaining: 3.86s\n",
            "164:\tlearn: 0.1024852\ttotal: 762ms\tremaining: 3.85s\n",
            "165:\tlearn: 0.1021452\ttotal: 763ms\tremaining: 3.83s\n",
            "166:\tlearn: 0.1020053\ttotal: 765ms\tremaining: 3.82s\n",
            "167:\tlearn: 0.1016581\ttotal: 767ms\tremaining: 3.8s\n",
            "168:\tlearn: 0.1014347\ttotal: 769ms\tremaining: 3.78s\n",
            "169:\tlearn: 0.1012302\ttotal: 772ms\tremaining: 3.77s\n",
            "170:\tlearn: 0.1010074\ttotal: 774ms\tremaining: 3.75s\n",
            "171:\tlearn: 0.1009113\ttotal: 776ms\tremaining: 3.73s\n",
            "172:\tlearn: 0.1005853\ttotal: 778ms\tremaining: 3.72s\n",
            "173:\tlearn: 0.1002050\ttotal: 780ms\tremaining: 3.7s\n",
            "174:\tlearn: 0.1000673\ttotal: 782ms\tremaining: 3.69s\n",
            "175:\tlearn: 0.0998762\ttotal: 785ms\tremaining: 3.67s\n",
            "176:\tlearn: 0.0996657\ttotal: 787ms\tremaining: 3.66s\n",
            "177:\tlearn: 0.0994260\ttotal: 789ms\tremaining: 3.64s\n",
            "178:\tlearn: 0.0990814\ttotal: 791ms\tremaining: 3.63s\n",
            "179:\tlearn: 0.0989037\ttotal: 793ms\tremaining: 3.61s\n",
            "180:\tlearn: 0.0987357\ttotal: 797ms\tremaining: 3.61s\n",
            "181:\tlearn: 0.0985554\ttotal: 799ms\tremaining: 3.59s\n",
            "182:\tlearn: 0.0983873\ttotal: 801ms\tremaining: 3.58s\n",
            "183:\tlearn: 0.0981956\ttotal: 804ms\tremaining: 3.56s\n",
            "184:\tlearn: 0.0979982\ttotal: 806ms\tremaining: 3.55s\n",
            "185:\tlearn: 0.0978643\ttotal: 810ms\tremaining: 3.55s\n",
            "186:\tlearn: 0.0976624\ttotal: 813ms\tremaining: 3.53s\n",
            "187:\tlearn: 0.0974302\ttotal: 815ms\tremaining: 3.52s\n",
            "188:\tlearn: 0.0972137\ttotal: 817ms\tremaining: 3.51s\n",
            "189:\tlearn: 0.0969543\ttotal: 820ms\tremaining: 3.49s\n",
            "190:\tlearn: 0.0968743\ttotal: 822ms\tremaining: 3.48s\n",
            "191:\tlearn: 0.0966905\ttotal: 824ms\tremaining: 3.47s\n",
            "192:\tlearn: 0.0963974\ttotal: 826ms\tremaining: 3.45s\n",
            "193:\tlearn: 0.0962218\ttotal: 829ms\tremaining: 3.45s\n",
            "194:\tlearn: 0.0960671\ttotal: 832ms\tremaining: 3.44s\n",
            "195:\tlearn: 0.0958556\ttotal: 835ms\tremaining: 3.42s\n",
            "196:\tlearn: 0.0957369\ttotal: 837ms\tremaining: 3.41s\n",
            "197:\tlearn: 0.0954645\ttotal: 839ms\tremaining: 3.4s\n",
            "198:\tlearn: 0.0953544\ttotal: 842ms\tremaining: 3.39s\n",
            "199:\tlearn: 0.0952383\ttotal: 844ms\tremaining: 3.38s\n",
            "200:\tlearn: 0.0949687\ttotal: 846ms\tremaining: 3.36s\n",
            "201:\tlearn: 0.0948760\ttotal: 848ms\tremaining: 3.35s\n",
            "202:\tlearn: 0.0947817\ttotal: 850ms\tremaining: 3.34s\n",
            "203:\tlearn: 0.0946418\ttotal: 852ms\tremaining: 3.33s\n",
            "204:\tlearn: 0.0944956\ttotal: 855ms\tremaining: 3.32s\n",
            "205:\tlearn: 0.0944309\ttotal: 858ms\tremaining: 3.31s\n",
            "206:\tlearn: 0.0941158\ttotal: 860ms\tremaining: 3.3s\n",
            "207:\tlearn: 0.0940455\ttotal: 863ms\tremaining: 3.29s\n",
            "208:\tlearn: 0.0939884\ttotal: 867ms\tremaining: 3.28s\n",
            "209:\tlearn: 0.0938808\ttotal: 872ms\tremaining: 3.28s\n",
            "210:\tlearn: 0.0937208\ttotal: 893ms\tremaining: 3.34s\n",
            "211:\tlearn: 0.0934641\ttotal: 896ms\tremaining: 3.33s\n",
            "212:\tlearn: 0.0932334\ttotal: 898ms\tremaining: 3.32s\n",
            "213:\tlearn: 0.0930466\ttotal: 902ms\tremaining: 3.31s\n",
            "214:\tlearn: 0.0927123\ttotal: 905ms\tremaining: 3.3s\n",
            "215:\tlearn: 0.0925600\ttotal: 907ms\tremaining: 3.29s\n",
            "216:\tlearn: 0.0923504\ttotal: 909ms\tremaining: 3.28s\n",
            "217:\tlearn: 0.0921603\ttotal: 913ms\tremaining: 3.28s\n",
            "218:\tlearn: 0.0919747\ttotal: 916ms\tremaining: 3.27s\n",
            "219:\tlearn: 0.0918476\ttotal: 918ms\tremaining: 3.25s\n",
            "220:\tlearn: 0.0916943\ttotal: 921ms\tremaining: 3.25s\n",
            "221:\tlearn: 0.0915252\ttotal: 924ms\tremaining: 3.24s\n",
            "222:\tlearn: 0.0914458\ttotal: 928ms\tremaining: 3.23s\n",
            "223:\tlearn: 0.0912861\ttotal: 931ms\tremaining: 3.22s\n",
            "224:\tlearn: 0.0910613\ttotal: 933ms\tremaining: 3.21s\n",
            "225:\tlearn: 0.0910004\ttotal: 936ms\tremaining: 3.21s\n",
            "226:\tlearn: 0.0907112\ttotal: 939ms\tremaining: 3.2s\n",
            "227:\tlearn: 0.0906098\ttotal: 941ms\tremaining: 3.19s\n",
            "228:\tlearn: 0.0904981\ttotal: 943ms\tremaining: 3.17s\n",
            "229:\tlearn: 0.0903927\ttotal: 946ms\tremaining: 3.17s\n",
            "230:\tlearn: 0.0902861\ttotal: 948ms\tremaining: 3.16s\n",
            "231:\tlearn: 0.0901849\ttotal: 950ms\tremaining: 3.15s\n",
            "232:\tlearn: 0.0900462\ttotal: 953ms\tremaining: 3.14s\n",
            "233:\tlearn: 0.0899475\ttotal: 956ms\tremaining: 3.13s\n",
            "234:\tlearn: 0.0897311\ttotal: 959ms\tremaining: 3.12s\n",
            "235:\tlearn: 0.0895374\ttotal: 961ms\tremaining: 3.11s\n",
            "236:\tlearn: 0.0893996\ttotal: 963ms\tremaining: 3.1s\n",
            "237:\tlearn: 0.0892785\ttotal: 965ms\tremaining: 3.09s\n",
            "238:\tlearn: 0.0891740\ttotal: 967ms\tremaining: 3.08s\n",
            "239:\tlearn: 0.0890629\ttotal: 970ms\tremaining: 3.07s\n",
            "240:\tlearn: 0.0889183\ttotal: 972ms\tremaining: 3.06s\n",
            "241:\tlearn: 0.0888124\ttotal: 975ms\tremaining: 3.05s\n",
            "242:\tlearn: 0.0886941\ttotal: 977ms\tremaining: 3.04s\n",
            "243:\tlearn: 0.0885219\ttotal: 979ms\tremaining: 3.03s\n",
            "244:\tlearn: 0.0883956\ttotal: 981ms\tremaining: 3.02s\n",
            "245:\tlearn: 0.0883300\ttotal: 984ms\tremaining: 3.01s\n",
            "246:\tlearn: 0.0881896\ttotal: 988ms\tremaining: 3.01s\n",
            "247:\tlearn: 0.0880751\ttotal: 991ms\tremaining: 3s\n",
            "248:\tlearn: 0.0879661\ttotal: 992ms\tremaining: 2.99s\n",
            "249:\tlearn: 0.0877790\ttotal: 995ms\tremaining: 2.98s\n",
            "250:\tlearn: 0.0875358\ttotal: 997ms\tremaining: 2.97s\n",
            "251:\tlearn: 0.0874528\ttotal: 1000ms\tremaining: 2.97s\n",
            "252:\tlearn: 0.0872543\ttotal: 1s\tremaining: 2.96s\n",
            "253:\tlearn: 0.0871057\ttotal: 1s\tremaining: 2.95s\n",
            "254:\tlearn: 0.0869507\ttotal: 1.01s\tremaining: 2.94s\n",
            "255:\tlearn: 0.0867210\ttotal: 1.01s\tremaining: 2.94s\n",
            "256:\tlearn: 0.0865750\ttotal: 1.01s\tremaining: 2.94s\n",
            "257:\tlearn: 0.0864199\ttotal: 1.02s\tremaining: 2.93s\n",
            "258:\tlearn: 0.0863147\ttotal: 1.02s\tremaining: 2.93s\n",
            "259:\tlearn: 0.0861444\ttotal: 1.03s\tremaining: 2.93s\n",
            "260:\tlearn: 0.0860048\ttotal: 1.03s\tremaining: 2.92s\n",
            "261:\tlearn: 0.0859118\ttotal: 1.03s\tremaining: 2.92s\n",
            "262:\tlearn: 0.0858663\ttotal: 1.04s\tremaining: 2.91s\n",
            "263:\tlearn: 0.0857801\ttotal: 1.04s\tremaining: 2.9s\n",
            "264:\tlearn: 0.0856613\ttotal: 1.05s\tremaining: 2.9s\n",
            "265:\tlearn: 0.0855460\ttotal: 1.05s\tremaining: 2.9s\n",
            "266:\tlearn: 0.0854336\ttotal: 1.06s\tremaining: 2.91s\n",
            "267:\tlearn: 0.0853231\ttotal: 1.07s\tremaining: 2.91s\n",
            "268:\tlearn: 0.0851182\ttotal: 1.07s\tremaining: 2.91s\n",
            "269:\tlearn: 0.0849896\ttotal: 1.08s\tremaining: 2.93s\n",
            "270:\tlearn: 0.0848956\ttotal: 1.09s\tremaining: 2.93s\n",
            "271:\tlearn: 0.0847488\ttotal: 1.09s\tremaining: 2.93s\n",
            "272:\tlearn: 0.0846240\ttotal: 1.1s\tremaining: 2.93s\n",
            "273:\tlearn: 0.0844206\ttotal: 1.1s\tremaining: 2.92s\n",
            "274:\tlearn: 0.0843649\ttotal: 1.1s\tremaining: 2.91s\n",
            "275:\tlearn: 0.0843041\ttotal: 1.11s\tremaining: 2.91s\n",
            "276:\tlearn: 0.0842019\ttotal: 1.11s\tremaining: 2.9s\n",
            "277:\tlearn: 0.0840874\ttotal: 1.12s\tremaining: 2.9s\n",
            "278:\tlearn: 0.0839171\ttotal: 1.12s\tremaining: 2.9s\n",
            "279:\tlearn: 0.0838237\ttotal: 1.12s\tremaining: 2.89s\n",
            "280:\tlearn: 0.0837649\ttotal: 1.13s\tremaining: 2.88s\n",
            "281:\tlearn: 0.0836267\ttotal: 1.13s\tremaining: 2.88s\n",
            "282:\tlearn: 0.0835493\ttotal: 1.14s\tremaining: 2.89s\n",
            "283:\tlearn: 0.0832889\ttotal: 1.14s\tremaining: 2.88s\n",
            "284:\tlearn: 0.0831552\ttotal: 1.15s\tremaining: 2.88s\n",
            "285:\tlearn: 0.0829535\ttotal: 1.15s\tremaining: 2.87s\n",
            "286:\tlearn: 0.0827394\ttotal: 1.15s\tremaining: 2.87s\n",
            "287:\tlearn: 0.0825778\ttotal: 1.16s\tremaining: 2.86s\n",
            "288:\tlearn: 0.0824721\ttotal: 1.16s\tremaining: 2.85s\n",
            "289:\tlearn: 0.0823975\ttotal: 1.16s\tremaining: 2.84s\n",
            "290:\tlearn: 0.0823055\ttotal: 1.16s\tremaining: 2.84s\n",
            "291:\tlearn: 0.0822113\ttotal: 1.17s\tremaining: 2.83s\n",
            "292:\tlearn: 0.0821130\ttotal: 1.17s\tremaining: 2.83s\n",
            "293:\tlearn: 0.0819859\ttotal: 1.18s\tremaining: 2.82s\n",
            "294:\tlearn: 0.0818748\ttotal: 1.18s\tremaining: 2.82s\n",
            "295:\tlearn: 0.0816407\ttotal: 1.18s\tremaining: 2.81s\n",
            "296:\tlearn: 0.0815609\ttotal: 1.18s\tremaining: 2.8s\n",
            "297:\tlearn: 0.0814192\ttotal: 1.19s\tremaining: 2.79s\n",
            "298:\tlearn: 0.0812108\ttotal: 1.19s\tremaining: 2.8s\n",
            "299:\tlearn: 0.0811872\ttotal: 1.2s\tremaining: 2.79s\n",
            "300:\tlearn: 0.0810607\ttotal: 1.2s\tremaining: 2.78s\n",
            "301:\tlearn: 0.0809510\ttotal: 1.2s\tremaining: 2.78s\n",
            "302:\tlearn: 0.0808458\ttotal: 1.21s\tremaining: 2.77s\n",
            "303:\tlearn: 0.0805871\ttotal: 1.21s\tremaining: 2.77s\n",
            "304:\tlearn: 0.0805223\ttotal: 1.21s\tremaining: 2.77s\n",
            "305:\tlearn: 0.0803431\ttotal: 1.22s\tremaining: 2.76s\n",
            "306:\tlearn: 0.0802025\ttotal: 1.22s\tremaining: 2.76s\n",
            "307:\tlearn: 0.0800882\ttotal: 1.23s\tremaining: 2.75s\n",
            "308:\tlearn: 0.0800251\ttotal: 1.23s\tremaining: 2.75s\n",
            "309:\tlearn: 0.0797699\ttotal: 1.24s\tremaining: 2.75s\n",
            "310:\tlearn: 0.0796838\ttotal: 1.24s\tremaining: 2.75s\n",
            "311:\tlearn: 0.0796397\ttotal: 1.25s\tremaining: 2.75s\n",
            "312:\tlearn: 0.0795870\ttotal: 1.25s\tremaining: 2.74s\n",
            "313:\tlearn: 0.0795152\ttotal: 1.25s\tremaining: 2.74s\n",
            "314:\tlearn: 0.0793087\ttotal: 1.25s\tremaining: 2.73s\n",
            "315:\tlearn: 0.0791894\ttotal: 1.26s\tremaining: 2.72s\n",
            "316:\tlearn: 0.0790516\ttotal: 1.26s\tremaining: 2.73s\n",
            "317:\tlearn: 0.0789258\ttotal: 1.27s\tremaining: 2.73s\n",
            "318:\tlearn: 0.0788581\ttotal: 1.27s\tremaining: 2.72s\n",
            "319:\tlearn: 0.0788015\ttotal: 1.28s\tremaining: 2.72s\n",
            "320:\tlearn: 0.0786797\ttotal: 1.28s\tremaining: 2.71s\n",
            "321:\tlearn: 0.0785772\ttotal: 1.28s\tremaining: 2.7s\n",
            "322:\tlearn: 0.0784612\ttotal: 1.29s\tremaining: 2.71s\n",
            "323:\tlearn: 0.0784168\ttotal: 1.29s\tremaining: 2.7s\n",
            "324:\tlearn: 0.0783194\ttotal: 1.3s\tremaining: 2.7s\n",
            "325:\tlearn: 0.0781903\ttotal: 1.3s\tremaining: 2.69s\n",
            "326:\tlearn: 0.0780463\ttotal: 1.3s\tremaining: 2.68s\n",
            "327:\tlearn: 0.0779865\ttotal: 1.31s\tremaining: 2.68s\n",
            "328:\tlearn: 0.0778060\ttotal: 1.31s\tremaining: 2.68s\n",
            "329:\tlearn: 0.0777141\ttotal: 1.32s\tremaining: 2.68s\n",
            "330:\tlearn: 0.0776814\ttotal: 1.33s\tremaining: 2.68s\n",
            "331:\tlearn: 0.0774711\ttotal: 1.33s\tremaining: 2.68s\n",
            "332:\tlearn: 0.0773693\ttotal: 1.33s\tremaining: 2.67s\n",
            "333:\tlearn: 0.0772944\ttotal: 1.34s\tremaining: 2.67s\n",
            "334:\tlearn: 0.0772152\ttotal: 1.34s\tremaining: 2.66s\n",
            "335:\tlearn: 0.0771706\ttotal: 1.34s\tremaining: 2.65s\n",
            "336:\tlearn: 0.0770526\ttotal: 1.34s\tremaining: 2.64s\n",
            "337:\tlearn: 0.0769608\ttotal: 1.35s\tremaining: 2.64s\n",
            "338:\tlearn: 0.0768038\ttotal: 1.35s\tremaining: 2.63s\n",
            "339:\tlearn: 0.0767236\ttotal: 1.36s\tremaining: 2.65s\n",
            "340:\tlearn: 0.0766428\ttotal: 1.37s\tremaining: 2.65s\n",
            "341:\tlearn: 0.0766100\ttotal: 1.38s\tremaining: 2.65s\n",
            "342:\tlearn: 0.0765598\ttotal: 1.38s\tremaining: 2.65s\n",
            "343:\tlearn: 0.0764732\ttotal: 1.38s\tremaining: 2.64s\n",
            "344:\tlearn: 0.0763605\ttotal: 1.39s\tremaining: 2.63s\n",
            "345:\tlearn: 0.0762989\ttotal: 1.4s\tremaining: 2.64s\n",
            "346:\tlearn: 0.0761301\ttotal: 1.4s\tremaining: 2.64s\n",
            "347:\tlearn: 0.0760331\ttotal: 1.41s\tremaining: 2.63s\n",
            "348:\tlearn: 0.0758859\ttotal: 1.41s\tremaining: 2.63s\n",
            "349:\tlearn: 0.0758015\ttotal: 1.42s\tremaining: 2.63s\n",
            "350:\tlearn: 0.0756781\ttotal: 1.42s\tremaining: 2.63s\n",
            "351:\tlearn: 0.0755832\ttotal: 1.42s\tremaining: 2.62s\n",
            "352:\tlearn: 0.0755027\ttotal: 1.43s\tremaining: 2.61s\n",
            "353:\tlearn: 0.0753849\ttotal: 1.43s\tremaining: 2.62s\n",
            "354:\tlearn: 0.0753037\ttotal: 1.44s\tremaining: 2.61s\n",
            "355:\tlearn: 0.0752422\ttotal: 1.44s\tremaining: 2.61s\n",
            "356:\tlearn: 0.0751198\ttotal: 1.44s\tremaining: 2.6s\n",
            "357:\tlearn: 0.0750126\ttotal: 1.45s\tremaining: 2.6s\n",
            "358:\tlearn: 0.0749137\ttotal: 1.45s\tremaining: 2.6s\n",
            "359:\tlearn: 0.0747980\ttotal: 1.46s\tremaining: 2.59s\n",
            "360:\tlearn: 0.0746953\ttotal: 1.46s\tremaining: 2.59s\n",
            "361:\tlearn: 0.0745390\ttotal: 1.46s\tremaining: 2.58s\n",
            "362:\tlearn: 0.0744010\ttotal: 1.47s\tremaining: 2.58s\n",
            "363:\tlearn: 0.0743364\ttotal: 1.47s\tremaining: 2.58s\n",
            "364:\tlearn: 0.0742437\ttotal: 1.48s\tremaining: 2.58s\n",
            "365:\tlearn: 0.0741216\ttotal: 1.49s\tremaining: 2.58s\n",
            "366:\tlearn: 0.0740946\ttotal: 1.5s\tremaining: 2.58s\n",
            "367:\tlearn: 0.0740454\ttotal: 1.5s\tremaining: 2.58s\n",
            "368:\tlearn: 0.0739664\ttotal: 1.52s\tremaining: 2.59s\n",
            "369:\tlearn: 0.0738475\ttotal: 1.53s\tremaining: 2.6s\n",
            "370:\tlearn: 0.0737844\ttotal: 1.54s\tremaining: 2.61s\n",
            "371:\tlearn: 0.0737066\ttotal: 1.54s\tremaining: 2.61s\n",
            "372:\tlearn: 0.0735528\ttotal: 1.56s\tremaining: 2.62s\n",
            "373:\tlearn: 0.0734366\ttotal: 1.56s\tremaining: 2.62s\n",
            "374:\tlearn: 0.0733326\ttotal: 1.57s\tremaining: 2.62s\n",
            "375:\tlearn: 0.0732374\ttotal: 1.58s\tremaining: 2.62s\n",
            "376:\tlearn: 0.0731408\ttotal: 1.59s\tremaining: 2.62s\n",
            "377:\tlearn: 0.0729820\ttotal: 1.61s\tremaining: 2.64s\n",
            "378:\tlearn: 0.0729110\ttotal: 1.63s\tremaining: 2.67s\n",
            "379:\tlearn: 0.0728621\ttotal: 1.64s\tremaining: 2.68s\n",
            "380:\tlearn: 0.0727761\ttotal: 1.66s\tremaining: 2.7s\n",
            "381:\tlearn: 0.0727439\ttotal: 1.68s\tremaining: 2.72s\n",
            "382:\tlearn: 0.0726874\ttotal: 1.7s\tremaining: 2.74s\n",
            "383:\tlearn: 0.0725863\ttotal: 1.73s\tremaining: 2.78s\n",
            "384:\tlearn: 0.0724993\ttotal: 1.75s\tremaining: 2.8s\n",
            "385:\tlearn: 0.0724135\ttotal: 1.77s\tremaining: 2.82s\n",
            "386:\tlearn: 0.0723561\ttotal: 1.79s\tremaining: 2.83s\n",
            "387:\tlearn: 0.0722749\ttotal: 1.8s\tremaining: 2.85s\n",
            "388:\tlearn: 0.0721970\ttotal: 1.84s\tremaining: 2.89s\n",
            "389:\tlearn: 0.0721554\ttotal: 1.86s\tremaining: 2.91s\n",
            "390:\tlearn: 0.0720411\ttotal: 1.86s\tremaining: 2.9s\n",
            "391:\tlearn: 0.0719284\ttotal: 1.87s\tremaining: 2.91s\n",
            "392:\tlearn: 0.0718422\ttotal: 1.89s\tremaining: 2.91s\n",
            "393:\tlearn: 0.0717437\ttotal: 1.89s\tremaining: 2.91s\n",
            "394:\tlearn: 0.0716654\ttotal: 1.91s\tremaining: 2.93s\n",
            "395:\tlearn: 0.0715793\ttotal: 1.92s\tremaining: 2.93s\n",
            "396:\tlearn: 0.0714484\ttotal: 1.93s\tremaining: 2.93s\n",
            "397:\tlearn: 0.0713407\ttotal: 1.94s\tremaining: 2.93s\n",
            "398:\tlearn: 0.0712542\ttotal: 1.95s\tremaining: 2.93s\n",
            "399:\tlearn: 0.0712028\ttotal: 1.96s\tremaining: 2.93s\n",
            "400:\tlearn: 0.0711452\ttotal: 1.97s\tremaining: 2.94s\n",
            "401:\tlearn: 0.0710820\ttotal: 1.97s\tremaining: 2.94s\n",
            "402:\tlearn: 0.0710089\ttotal: 1.98s\tremaining: 2.93s\n",
            "403:\tlearn: 0.0708602\ttotal: 1.98s\tremaining: 2.92s\n",
            "404:\tlearn: 0.0707262\ttotal: 1.98s\tremaining: 2.91s\n",
            "405:\tlearn: 0.0705705\ttotal: 1.99s\tremaining: 2.9s\n",
            "406:\tlearn: 0.0704884\ttotal: 1.99s\tremaining: 2.9s\n",
            "407:\tlearn: 0.0704430\ttotal: 1.99s\tremaining: 2.89s\n",
            "408:\tlearn: 0.0703300\ttotal: 2s\tremaining: 2.88s\n",
            "409:\tlearn: 0.0702804\ttotal: 2s\tremaining: 2.88s\n",
            "410:\tlearn: 0.0701802\ttotal: 2s\tremaining: 2.87s\n",
            "411:\tlearn: 0.0700733\ttotal: 2.01s\tremaining: 2.86s\n",
            "412:\tlearn: 0.0699702\ttotal: 2.01s\tremaining: 2.86s\n",
            "413:\tlearn: 0.0698749\ttotal: 2.02s\tremaining: 2.85s\n",
            "414:\tlearn: 0.0698481\ttotal: 2.02s\tremaining: 2.85s\n",
            "415:\tlearn: 0.0697404\ttotal: 2.03s\tremaining: 2.85s\n",
            "416:\tlearn: 0.0696546\ttotal: 2.03s\tremaining: 2.84s\n",
            "417:\tlearn: 0.0695665\ttotal: 2.04s\tremaining: 2.84s\n",
            "418:\tlearn: 0.0694623\ttotal: 2.04s\tremaining: 2.83s\n",
            "419:\tlearn: 0.0693781\ttotal: 2.05s\tremaining: 2.83s\n",
            "420:\tlearn: 0.0693048\ttotal: 2.05s\tremaining: 2.82s\n",
            "421:\tlearn: 0.0692448\ttotal: 2.05s\tremaining: 2.81s\n",
            "422:\tlearn: 0.0691627\ttotal: 2.06s\tremaining: 2.81s\n",
            "423:\tlearn: 0.0690654\ttotal: 2.06s\tremaining: 2.81s\n",
            "424:\tlearn: 0.0689948\ttotal: 2.07s\tremaining: 2.8s\n",
            "425:\tlearn: 0.0689093\ttotal: 2.08s\tremaining: 2.8s\n",
            "426:\tlearn: 0.0687544\ttotal: 2.08s\tremaining: 2.79s\n",
            "427:\tlearn: 0.0686812\ttotal: 2.09s\tremaining: 2.79s\n",
            "428:\tlearn: 0.0686045\ttotal: 2.09s\tremaining: 2.78s\n",
            "429:\tlearn: 0.0684551\ttotal: 2.1s\tremaining: 2.78s\n",
            "430:\tlearn: 0.0683858\ttotal: 2.1s\tremaining: 2.77s\n",
            "431:\tlearn: 0.0683041\ttotal: 2.1s\tremaining: 2.77s\n",
            "432:\tlearn: 0.0681828\ttotal: 2.11s\tremaining: 2.76s\n",
            "433:\tlearn: 0.0681030\ttotal: 2.12s\tremaining: 2.76s\n",
            "434:\tlearn: 0.0680254\ttotal: 2.12s\tremaining: 2.75s\n",
            "435:\tlearn: 0.0679568\ttotal: 2.12s\tremaining: 2.75s\n",
            "436:\tlearn: 0.0678920\ttotal: 2.13s\tremaining: 2.74s\n",
            "437:\tlearn: 0.0678284\ttotal: 2.13s\tremaining: 2.74s\n",
            "438:\tlearn: 0.0676896\ttotal: 2.14s\tremaining: 2.73s\n",
            "439:\tlearn: 0.0676409\ttotal: 2.14s\tremaining: 2.73s\n",
            "440:\tlearn: 0.0676198\ttotal: 2.14s\tremaining: 2.72s\n",
            "441:\tlearn: 0.0675042\ttotal: 2.15s\tremaining: 2.71s\n",
            "442:\tlearn: 0.0674214\ttotal: 2.15s\tremaining: 2.7s\n",
            "443:\tlearn: 0.0673626\ttotal: 2.15s\tremaining: 2.69s\n",
            "444:\tlearn: 0.0672717\ttotal: 2.16s\tremaining: 2.7s\n",
            "445:\tlearn: 0.0672084\ttotal: 2.17s\tremaining: 2.69s\n",
            "446:\tlearn: 0.0671174\ttotal: 2.17s\tremaining: 2.69s\n",
            "447:\tlearn: 0.0671037\ttotal: 2.17s\tremaining: 2.68s\n",
            "448:\tlearn: 0.0670696\ttotal: 2.18s\tremaining: 2.67s\n",
            "449:\tlearn: 0.0669556\ttotal: 2.18s\tremaining: 2.66s\n",
            "450:\tlearn: 0.0668577\ttotal: 2.18s\tremaining: 2.66s\n",
            "451:\tlearn: 0.0667546\ttotal: 2.18s\tremaining: 2.65s\n",
            "452:\tlearn: 0.0666345\ttotal: 2.19s\tremaining: 2.65s\n",
            "453:\tlearn: 0.0665680\ttotal: 2.2s\tremaining: 2.64s\n",
            "454:\tlearn: 0.0664756\ttotal: 2.2s\tremaining: 2.63s\n",
            "455:\tlearn: 0.0664449\ttotal: 2.2s\tremaining: 2.63s\n",
            "456:\tlearn: 0.0663439\ttotal: 2.21s\tremaining: 2.62s\n",
            "457:\tlearn: 0.0662511\ttotal: 2.21s\tremaining: 2.61s\n",
            "458:\tlearn: 0.0661671\ttotal: 2.21s\tremaining: 2.6s\n",
            "459:\tlearn: 0.0661098\ttotal: 2.21s\tremaining: 2.6s\n",
            "460:\tlearn: 0.0659988\ttotal: 2.21s\tremaining: 2.59s\n",
            "461:\tlearn: 0.0659143\ttotal: 2.21s\tremaining: 2.58s\n",
            "462:\tlearn: 0.0658757\ttotal: 2.22s\tremaining: 2.57s\n",
            "463:\tlearn: 0.0658411\ttotal: 2.22s\tremaining: 2.56s\n",
            "464:\tlearn: 0.0656884\ttotal: 2.22s\tremaining: 2.56s\n",
            "465:\tlearn: 0.0655802\ttotal: 2.22s\tremaining: 2.55s\n",
            "466:\tlearn: 0.0654682\ttotal: 2.23s\tremaining: 2.54s\n",
            "467:\tlearn: 0.0653786\ttotal: 2.23s\tremaining: 2.53s\n",
            "468:\tlearn: 0.0652366\ttotal: 2.23s\tremaining: 2.52s\n",
            "469:\tlearn: 0.0651712\ttotal: 2.23s\tremaining: 2.52s\n",
            "470:\tlearn: 0.0650865\ttotal: 2.23s\tremaining: 2.51s\n",
            "471:\tlearn: 0.0650085\ttotal: 2.24s\tremaining: 2.5s\n",
            "472:\tlearn: 0.0649374\ttotal: 2.24s\tremaining: 2.49s\n",
            "473:\tlearn: 0.0648615\ttotal: 2.24s\tremaining: 2.49s\n",
            "474:\tlearn: 0.0647735\ttotal: 2.24s\tremaining: 2.48s\n",
            "475:\tlearn: 0.0646994\ttotal: 2.25s\tremaining: 2.47s\n",
            "476:\tlearn: 0.0646257\ttotal: 2.25s\tremaining: 2.46s\n",
            "477:\tlearn: 0.0645960\ttotal: 2.25s\tremaining: 2.46s\n",
            "478:\tlearn: 0.0645750\ttotal: 2.25s\tremaining: 2.45s\n",
            "479:\tlearn: 0.0645106\ttotal: 2.25s\tremaining: 2.44s\n",
            "480:\tlearn: 0.0643985\ttotal: 2.26s\tremaining: 2.44s\n",
            "481:\tlearn: 0.0643408\ttotal: 2.26s\tremaining: 2.43s\n",
            "482:\tlearn: 0.0643000\ttotal: 2.26s\tremaining: 2.42s\n",
            "483:\tlearn: 0.0642360\ttotal: 2.27s\tremaining: 2.42s\n",
            "484:\tlearn: 0.0641768\ttotal: 2.27s\tremaining: 2.41s\n",
            "485:\tlearn: 0.0641529\ttotal: 2.27s\tremaining: 2.4s\n",
            "486:\tlearn: 0.0641126\ttotal: 2.27s\tremaining: 2.39s\n",
            "487:\tlearn: 0.0640242\ttotal: 2.27s\tremaining: 2.39s\n",
            "488:\tlearn: 0.0638904\ttotal: 2.28s\tremaining: 2.38s\n",
            "489:\tlearn: 0.0638092\ttotal: 2.28s\tremaining: 2.37s\n",
            "490:\tlearn: 0.0636919\ttotal: 2.28s\tremaining: 2.36s\n",
            "491:\tlearn: 0.0635819\ttotal: 2.28s\tremaining: 2.36s\n",
            "492:\tlearn: 0.0635386\ttotal: 2.29s\tremaining: 2.35s\n",
            "493:\tlearn: 0.0635237\ttotal: 2.3s\tremaining: 2.36s\n",
            "494:\tlearn: 0.0634570\ttotal: 2.31s\tremaining: 2.35s\n",
            "495:\tlearn: 0.0634061\ttotal: 2.31s\tremaining: 2.35s\n",
            "496:\tlearn: 0.0632927\ttotal: 2.32s\tremaining: 2.35s\n",
            "497:\tlearn: 0.0631938\ttotal: 2.32s\tremaining: 2.34s\n",
            "498:\tlearn: 0.0631839\ttotal: 2.32s\tremaining: 2.33s\n",
            "499:\tlearn: 0.0631249\ttotal: 2.32s\tremaining: 2.32s\n",
            "500:\tlearn: 0.0630361\ttotal: 2.33s\tremaining: 2.32s\n",
            "501:\tlearn: 0.0629906\ttotal: 2.33s\tremaining: 2.31s\n",
            "502:\tlearn: 0.0628878\ttotal: 2.33s\tremaining: 2.3s\n",
            "503:\tlearn: 0.0628052\ttotal: 2.33s\tremaining: 2.29s\n",
            "504:\tlearn: 0.0627361\ttotal: 2.33s\tremaining: 2.29s\n",
            "505:\tlearn: 0.0626524\ttotal: 2.34s\tremaining: 2.29s\n",
            "506:\tlearn: 0.0625679\ttotal: 2.34s\tremaining: 2.28s\n",
            "507:\tlearn: 0.0624946\ttotal: 2.35s\tremaining: 2.27s\n",
            "508:\tlearn: 0.0624081\ttotal: 2.35s\tremaining: 2.27s\n",
            "509:\tlearn: 0.0623666\ttotal: 2.35s\tremaining: 2.26s\n",
            "510:\tlearn: 0.0623493\ttotal: 2.35s\tremaining: 2.25s\n",
            "511:\tlearn: 0.0622439\ttotal: 2.36s\tremaining: 2.25s\n",
            "512:\tlearn: 0.0621255\ttotal: 2.36s\tremaining: 2.24s\n",
            "513:\tlearn: 0.0620425\ttotal: 2.36s\tremaining: 2.23s\n",
            "514:\tlearn: 0.0619528\ttotal: 2.37s\tremaining: 2.23s\n",
            "515:\tlearn: 0.0618871\ttotal: 2.37s\tremaining: 2.22s\n",
            "516:\tlearn: 0.0618078\ttotal: 2.37s\tremaining: 2.21s\n",
            "517:\tlearn: 0.0617115\ttotal: 2.37s\tremaining: 2.21s\n",
            "518:\tlearn: 0.0616361\ttotal: 2.38s\tremaining: 2.2s\n",
            "519:\tlearn: 0.0615452\ttotal: 2.38s\tremaining: 2.19s\n",
            "520:\tlearn: 0.0614246\ttotal: 2.38s\tremaining: 2.19s\n",
            "521:\tlearn: 0.0613263\ttotal: 2.38s\tremaining: 2.18s\n",
            "522:\tlearn: 0.0613095\ttotal: 2.38s\tremaining: 2.17s\n",
            "523:\tlearn: 0.0612653\ttotal: 2.38s\tremaining: 2.17s\n",
            "524:\tlearn: 0.0612344\ttotal: 2.39s\tremaining: 2.16s\n",
            "525:\tlearn: 0.0611884\ttotal: 2.39s\tremaining: 2.15s\n",
            "526:\tlearn: 0.0611185\ttotal: 2.39s\tremaining: 2.15s\n",
            "527:\tlearn: 0.0610874\ttotal: 2.39s\tremaining: 2.14s\n",
            "528:\tlearn: 0.0610002\ttotal: 2.4s\tremaining: 2.13s\n",
            "529:\tlearn: 0.0609815\ttotal: 2.4s\tremaining: 2.13s\n",
            "530:\tlearn: 0.0608622\ttotal: 2.4s\tremaining: 2.12s\n",
            "531:\tlearn: 0.0607771\ttotal: 2.4s\tremaining: 2.12s\n",
            "532:\tlearn: 0.0607362\ttotal: 2.41s\tremaining: 2.11s\n",
            "533:\tlearn: 0.0607044\ttotal: 2.41s\tremaining: 2.1s\n",
            "534:\tlearn: 0.0606864\ttotal: 2.41s\tremaining: 2.1s\n",
            "535:\tlearn: 0.0606122\ttotal: 2.42s\tremaining: 2.09s\n",
            "536:\tlearn: 0.0605573\ttotal: 2.42s\tremaining: 2.08s\n",
            "537:\tlearn: 0.0605442\ttotal: 2.42s\tremaining: 2.08s\n",
            "538:\tlearn: 0.0605385\ttotal: 2.42s\tremaining: 2.07s\n",
            "539:\tlearn: 0.0605024\ttotal: 2.42s\tremaining: 2.06s\n",
            "540:\tlearn: 0.0604123\ttotal: 2.42s\tremaining: 2.06s\n",
            "541:\tlearn: 0.0603745\ttotal: 2.43s\tremaining: 2.05s\n",
            "542:\tlearn: 0.0603486\ttotal: 2.43s\tremaining: 2.04s\n",
            "543:\tlearn: 0.0602855\ttotal: 2.43s\tremaining: 2.04s\n",
            "544:\tlearn: 0.0601284\ttotal: 2.43s\tremaining: 2.03s\n",
            "545:\tlearn: 0.0600781\ttotal: 2.44s\tremaining: 2.03s\n",
            "546:\tlearn: 0.0599745\ttotal: 2.44s\tremaining: 2.02s\n",
            "547:\tlearn: 0.0599504\ttotal: 2.45s\tremaining: 2.02s\n",
            "548:\tlearn: 0.0598380\ttotal: 2.45s\tremaining: 2.01s\n",
            "549:\tlearn: 0.0597635\ttotal: 2.45s\tremaining: 2s\n",
            "550:\tlearn: 0.0597228\ttotal: 2.45s\tremaining: 2s\n",
            "551:\tlearn: 0.0596538\ttotal: 2.45s\tremaining: 1.99s\n",
            "552:\tlearn: 0.0596298\ttotal: 2.46s\tremaining: 1.99s\n",
            "553:\tlearn: 0.0596218\ttotal: 2.46s\tremaining: 1.98s\n",
            "554:\tlearn: 0.0595673\ttotal: 2.46s\tremaining: 1.97s\n",
            "555:\tlearn: 0.0594539\ttotal: 2.46s\tremaining: 1.97s\n",
            "556:\tlearn: 0.0593926\ttotal: 2.47s\tremaining: 1.96s\n",
            "557:\tlearn: 0.0593137\ttotal: 2.47s\tremaining: 1.96s\n",
            "558:\tlearn: 0.0592179\ttotal: 2.48s\tremaining: 1.95s\n",
            "559:\tlearn: 0.0591237\ttotal: 2.48s\tremaining: 1.95s\n",
            "560:\tlearn: 0.0590747\ttotal: 2.48s\tremaining: 1.94s\n",
            "561:\tlearn: 0.0590637\ttotal: 2.48s\tremaining: 1.94s\n",
            "562:\tlearn: 0.0589804\ttotal: 2.48s\tremaining: 1.93s\n",
            "563:\tlearn: 0.0588449\ttotal: 2.49s\tremaining: 1.92s\n",
            "564:\tlearn: 0.0587795\ttotal: 2.49s\tremaining: 1.92s\n",
            "565:\tlearn: 0.0586995\ttotal: 2.49s\tremaining: 1.91s\n",
            "566:\tlearn: 0.0586302\ttotal: 2.49s\tremaining: 1.9s\n",
            "567:\tlearn: 0.0585383\ttotal: 2.5s\tremaining: 1.9s\n",
            "568:\tlearn: 0.0584682\ttotal: 2.5s\tremaining: 1.89s\n",
            "569:\tlearn: 0.0583679\ttotal: 2.5s\tremaining: 1.89s\n",
            "570:\tlearn: 0.0583124\ttotal: 2.5s\tremaining: 1.88s\n",
            "571:\tlearn: 0.0582554\ttotal: 2.5s\tremaining: 1.87s\n",
            "572:\tlearn: 0.0581820\ttotal: 2.51s\tremaining: 1.87s\n",
            "573:\tlearn: 0.0580980\ttotal: 2.51s\tremaining: 1.86s\n",
            "574:\tlearn: 0.0580529\ttotal: 2.51s\tremaining: 1.86s\n",
            "575:\tlearn: 0.0580384\ttotal: 2.51s\tremaining: 1.85s\n",
            "576:\tlearn: 0.0579438\ttotal: 2.52s\tremaining: 1.84s\n",
            "577:\tlearn: 0.0578802\ttotal: 2.52s\tremaining: 1.84s\n",
            "578:\tlearn: 0.0577962\ttotal: 2.52s\tremaining: 1.83s\n",
            "579:\tlearn: 0.0577560\ttotal: 2.52s\tremaining: 1.83s\n",
            "580:\tlearn: 0.0576595\ttotal: 2.52s\tremaining: 1.82s\n",
            "581:\tlearn: 0.0576419\ttotal: 2.53s\tremaining: 1.81s\n",
            "582:\tlearn: 0.0576181\ttotal: 2.53s\tremaining: 1.81s\n",
            "583:\tlearn: 0.0575223\ttotal: 2.53s\tremaining: 1.8s\n",
            "584:\tlearn: 0.0575064\ttotal: 2.54s\tremaining: 1.8s\n",
            "585:\tlearn: 0.0574961\ttotal: 2.54s\tremaining: 1.79s\n",
            "586:\tlearn: 0.0574869\ttotal: 2.54s\tremaining: 1.79s\n",
            "587:\tlearn: 0.0574792\ttotal: 2.54s\tremaining: 1.78s\n",
            "588:\tlearn: 0.0574080\ttotal: 2.54s\tremaining: 1.77s\n",
            "589:\tlearn: 0.0573653\ttotal: 2.55s\tremaining: 1.77s\n",
            "590:\tlearn: 0.0572838\ttotal: 2.55s\tremaining: 1.76s\n",
            "591:\tlearn: 0.0571624\ttotal: 2.55s\tremaining: 1.76s\n",
            "592:\tlearn: 0.0571248\ttotal: 2.55s\tremaining: 1.75s\n",
            "593:\tlearn: 0.0569773\ttotal: 2.56s\tremaining: 1.75s\n",
            "594:\tlearn: 0.0568913\ttotal: 2.56s\tremaining: 1.74s\n",
            "595:\tlearn: 0.0568752\ttotal: 2.56s\tremaining: 1.74s\n",
            "596:\tlearn: 0.0567898\ttotal: 2.56s\tremaining: 1.73s\n",
            "597:\tlearn: 0.0567179\ttotal: 2.56s\tremaining: 1.72s\n",
            "598:\tlearn: 0.0566512\ttotal: 2.57s\tremaining: 1.72s\n",
            "599:\tlearn: 0.0566399\ttotal: 2.57s\tremaining: 1.71s\n",
            "600:\tlearn: 0.0565490\ttotal: 2.57s\tremaining: 1.71s\n",
            "601:\tlearn: 0.0564399\ttotal: 2.57s\tremaining: 1.7s\n",
            "602:\tlearn: 0.0563672\ttotal: 2.58s\tremaining: 1.7s\n",
            "603:\tlearn: 0.0563231\ttotal: 2.58s\tremaining: 1.69s\n",
            "604:\tlearn: 0.0562775\ttotal: 2.58s\tremaining: 1.68s\n",
            "605:\tlearn: 0.0562223\ttotal: 2.58s\tremaining: 1.68s\n",
            "606:\tlearn: 0.0561824\ttotal: 2.58s\tremaining: 1.67s\n",
            "607:\tlearn: 0.0561330\ttotal: 2.59s\tremaining: 1.67s\n",
            "608:\tlearn: 0.0560754\ttotal: 2.59s\tremaining: 1.66s\n",
            "609:\tlearn: 0.0559333\ttotal: 2.59s\tremaining: 1.66s\n",
            "610:\tlearn: 0.0558196\ttotal: 2.59s\tremaining: 1.65s\n",
            "611:\tlearn: 0.0558049\ttotal: 2.6s\tremaining: 1.65s\n",
            "612:\tlearn: 0.0557408\ttotal: 2.6s\tremaining: 1.64s\n",
            "613:\tlearn: 0.0556324\ttotal: 2.6s\tremaining: 1.64s\n",
            "614:\tlearn: 0.0556203\ttotal: 2.6s\tremaining: 1.63s\n",
            "615:\tlearn: 0.0555669\ttotal: 2.61s\tremaining: 1.62s\n",
            "616:\tlearn: 0.0555604\ttotal: 2.61s\tremaining: 1.62s\n",
            "617:\tlearn: 0.0555100\ttotal: 2.61s\tremaining: 1.61s\n",
            "618:\tlearn: 0.0555007\ttotal: 2.61s\tremaining: 1.61s\n",
            "619:\tlearn: 0.0554893\ttotal: 2.62s\tremaining: 1.6s\n",
            "620:\tlearn: 0.0554279\ttotal: 2.62s\tremaining: 1.6s\n",
            "621:\tlearn: 0.0554164\ttotal: 2.62s\tremaining: 1.59s\n",
            "622:\tlearn: 0.0552989\ttotal: 2.62s\tremaining: 1.59s\n",
            "623:\tlearn: 0.0552898\ttotal: 2.62s\tremaining: 1.58s\n",
            "624:\tlearn: 0.0552259\ttotal: 2.63s\tremaining: 1.58s\n",
            "625:\tlearn: 0.0552046\ttotal: 2.63s\tremaining: 1.57s\n",
            "626:\tlearn: 0.0551989\ttotal: 2.63s\tremaining: 1.56s\n",
            "627:\tlearn: 0.0551664\ttotal: 2.63s\tremaining: 1.56s\n",
            "628:\tlearn: 0.0550890\ttotal: 2.63s\tremaining: 1.55s\n",
            "629:\tlearn: 0.0550695\ttotal: 2.64s\tremaining: 1.55s\n",
            "630:\tlearn: 0.0549813\ttotal: 2.64s\tremaining: 1.54s\n",
            "631:\tlearn: 0.0549353\ttotal: 2.64s\tremaining: 1.54s\n",
            "632:\tlearn: 0.0548976\ttotal: 2.65s\tremaining: 1.53s\n",
            "633:\tlearn: 0.0548481\ttotal: 2.65s\tremaining: 1.53s\n",
            "634:\tlearn: 0.0547579\ttotal: 2.66s\tremaining: 1.53s\n",
            "635:\tlearn: 0.0547481\ttotal: 2.66s\tremaining: 1.52s\n",
            "636:\tlearn: 0.0547135\ttotal: 2.66s\tremaining: 1.52s\n",
            "637:\tlearn: 0.0546574\ttotal: 2.67s\tremaining: 1.51s\n",
            "638:\tlearn: 0.0546071\ttotal: 2.67s\tremaining: 1.51s\n",
            "639:\tlearn: 0.0545984\ttotal: 2.68s\tremaining: 1.51s\n",
            "640:\tlearn: 0.0545943\ttotal: 2.68s\tremaining: 1.5s\n",
            "641:\tlearn: 0.0544928\ttotal: 2.69s\tremaining: 1.5s\n",
            "642:\tlearn: 0.0544452\ttotal: 2.69s\tremaining: 1.5s\n",
            "643:\tlearn: 0.0543677\ttotal: 2.7s\tremaining: 1.49s\n",
            "644:\tlearn: 0.0543045\ttotal: 2.71s\tremaining: 1.49s\n",
            "645:\tlearn: 0.0542658\ttotal: 2.71s\tremaining: 1.49s\n",
            "646:\tlearn: 0.0542249\ttotal: 2.72s\tremaining: 1.48s\n",
            "647:\tlearn: 0.0541496\ttotal: 2.72s\tremaining: 1.48s\n",
            "648:\tlearn: 0.0540606\ttotal: 2.72s\tremaining: 1.47s\n",
            "649:\tlearn: 0.0540367\ttotal: 2.73s\tremaining: 1.47s\n",
            "650:\tlearn: 0.0539379\ttotal: 2.73s\tremaining: 1.46s\n",
            "651:\tlearn: 0.0539207\ttotal: 2.73s\tremaining: 1.46s\n",
            "652:\tlearn: 0.0538824\ttotal: 2.73s\tremaining: 1.45s\n",
            "653:\tlearn: 0.0538735\ttotal: 2.73s\tremaining: 1.45s\n",
            "654:\tlearn: 0.0538143\ttotal: 2.73s\tremaining: 1.44s\n",
            "655:\tlearn: 0.0537423\ttotal: 2.74s\tremaining: 1.44s\n",
            "656:\tlearn: 0.0537063\ttotal: 2.74s\tremaining: 1.43s\n",
            "657:\tlearn: 0.0536892\ttotal: 2.74s\tremaining: 1.43s\n",
            "658:\tlearn: 0.0536503\ttotal: 2.74s\tremaining: 1.42s\n",
            "659:\tlearn: 0.0536029\ttotal: 2.75s\tremaining: 1.41s\n",
            "660:\tlearn: 0.0535075\ttotal: 2.75s\tremaining: 1.41s\n",
            "661:\tlearn: 0.0534473\ttotal: 2.75s\tremaining: 1.4s\n",
            "662:\tlearn: 0.0533544\ttotal: 2.75s\tremaining: 1.4s\n",
            "663:\tlearn: 0.0532903\ttotal: 2.76s\tremaining: 1.4s\n",
            "664:\tlearn: 0.0531772\ttotal: 2.76s\tremaining: 1.39s\n",
            "665:\tlearn: 0.0531695\ttotal: 2.77s\tremaining: 1.39s\n",
            "666:\tlearn: 0.0531605\ttotal: 2.77s\tremaining: 1.39s\n",
            "667:\tlearn: 0.0531002\ttotal: 2.78s\tremaining: 1.38s\n",
            "668:\tlearn: 0.0530646\ttotal: 2.78s\tremaining: 1.38s\n",
            "669:\tlearn: 0.0529472\ttotal: 2.79s\tremaining: 1.37s\n",
            "670:\tlearn: 0.0528884\ttotal: 2.79s\tremaining: 1.37s\n",
            "671:\tlearn: 0.0528758\ttotal: 2.8s\tremaining: 1.37s\n",
            "672:\tlearn: 0.0528490\ttotal: 2.8s\tremaining: 1.36s\n",
            "673:\tlearn: 0.0527955\ttotal: 2.81s\tremaining: 1.36s\n",
            "674:\tlearn: 0.0527294\ttotal: 2.81s\tremaining: 1.35s\n",
            "675:\tlearn: 0.0526105\ttotal: 2.81s\tremaining: 1.35s\n",
            "676:\tlearn: 0.0525666\ttotal: 2.82s\tremaining: 1.34s\n",
            "677:\tlearn: 0.0524697\ttotal: 2.82s\tremaining: 1.34s\n",
            "678:\tlearn: 0.0524078\ttotal: 2.83s\tremaining: 1.34s\n",
            "679:\tlearn: 0.0523304\ttotal: 2.83s\tremaining: 1.33s\n",
            "680:\tlearn: 0.0523193\ttotal: 2.84s\tremaining: 1.33s\n",
            "681:\tlearn: 0.0522679\ttotal: 2.84s\tremaining: 1.32s\n",
            "682:\tlearn: 0.0522399\ttotal: 2.85s\tremaining: 1.32s\n",
            "683:\tlearn: 0.0522069\ttotal: 2.85s\tremaining: 1.32s\n",
            "684:\tlearn: 0.0521966\ttotal: 2.86s\tremaining: 1.31s\n",
            "685:\tlearn: 0.0521299\ttotal: 2.86s\tremaining: 1.31s\n",
            "686:\tlearn: 0.0520532\ttotal: 2.87s\tremaining: 1.31s\n",
            "687:\tlearn: 0.0520040\ttotal: 2.87s\tremaining: 1.3s\n",
            "688:\tlearn: 0.0519278\ttotal: 2.88s\tremaining: 1.3s\n",
            "689:\tlearn: 0.0518883\ttotal: 2.88s\tremaining: 1.29s\n",
            "690:\tlearn: 0.0518778\ttotal: 2.89s\tremaining: 1.29s\n",
            "691:\tlearn: 0.0517923\ttotal: 2.9s\tremaining: 1.29s\n",
            "692:\tlearn: 0.0517558\ttotal: 2.9s\tremaining: 1.28s\n",
            "693:\tlearn: 0.0517090\ttotal: 2.91s\tremaining: 1.28s\n",
            "694:\tlearn: 0.0516063\ttotal: 2.91s\tremaining: 1.28s\n",
            "695:\tlearn: 0.0515477\ttotal: 2.92s\tremaining: 1.27s\n",
            "696:\tlearn: 0.0515390\ttotal: 2.93s\tremaining: 1.27s\n",
            "697:\tlearn: 0.0515112\ttotal: 2.94s\tremaining: 1.27s\n",
            "698:\tlearn: 0.0514810\ttotal: 2.94s\tremaining: 1.27s\n",
            "699:\tlearn: 0.0514659\ttotal: 2.94s\tremaining: 1.26s\n",
            "700:\tlearn: 0.0514105\ttotal: 2.95s\tremaining: 1.26s\n",
            "701:\tlearn: 0.0514058\ttotal: 2.96s\tremaining: 1.25s\n",
            "702:\tlearn: 0.0513963\ttotal: 2.96s\tremaining: 1.25s\n",
            "703:\tlearn: 0.0513064\ttotal: 2.97s\tremaining: 1.25s\n",
            "704:\tlearn: 0.0512266\ttotal: 2.97s\tremaining: 1.24s\n",
            "705:\tlearn: 0.0512068\ttotal: 2.98s\tremaining: 1.24s\n",
            "706:\tlearn: 0.0511725\ttotal: 2.98s\tremaining: 1.24s\n",
            "707:\tlearn: 0.0511501\ttotal: 2.99s\tremaining: 1.23s\n",
            "708:\tlearn: 0.0511112\ttotal: 2.99s\tremaining: 1.23s\n",
            "709:\tlearn: 0.0511021\ttotal: 3s\tremaining: 1.22s\n",
            "710:\tlearn: 0.0510641\ttotal: 3s\tremaining: 1.22s\n",
            "711:\tlearn: 0.0510471\ttotal: 3.01s\tremaining: 1.22s\n",
            "712:\tlearn: 0.0509201\ttotal: 3.01s\tremaining: 1.21s\n",
            "713:\tlearn: 0.0509153\ttotal: 3.02s\tremaining: 1.21s\n",
            "714:\tlearn: 0.0509117\ttotal: 3.02s\tremaining: 1.2s\n",
            "715:\tlearn: 0.0508927\ttotal: 3.03s\tremaining: 1.2s\n",
            "716:\tlearn: 0.0508107\ttotal: 3.03s\tremaining: 1.2s\n",
            "717:\tlearn: 0.0507577\ttotal: 3.03s\tremaining: 1.19s\n",
            "718:\tlearn: 0.0507268\ttotal: 3.04s\tremaining: 1.19s\n",
            "719:\tlearn: 0.0506893\ttotal: 3.04s\tremaining: 1.18s\n",
            "720:\tlearn: 0.0506315\ttotal: 3.05s\tremaining: 1.18s\n",
            "721:\tlearn: 0.0505948\ttotal: 3.05s\tremaining: 1.18s\n",
            "722:\tlearn: 0.0505014\ttotal: 3.06s\tremaining: 1.17s\n",
            "723:\tlearn: 0.0504540\ttotal: 3.06s\tremaining: 1.17s\n",
            "724:\tlearn: 0.0504184\ttotal: 3.07s\tremaining: 1.16s\n",
            "725:\tlearn: 0.0503475\ttotal: 3.07s\tremaining: 1.16s\n",
            "726:\tlearn: 0.0503196\ttotal: 3.08s\tremaining: 1.16s\n",
            "727:\tlearn: 0.0502216\ttotal: 3.09s\tremaining: 1.16s\n",
            "728:\tlearn: 0.0501615\ttotal: 3.1s\tremaining: 1.15s\n",
            "729:\tlearn: 0.0501132\ttotal: 3.12s\tremaining: 1.15s\n",
            "730:\tlearn: 0.0500469\ttotal: 3.12s\tremaining: 1.15s\n",
            "731:\tlearn: 0.0500386\ttotal: 3.13s\tremaining: 1.15s\n",
            "732:\tlearn: 0.0499645\ttotal: 3.13s\tremaining: 1.14s\n",
            "733:\tlearn: 0.0499230\ttotal: 3.14s\tremaining: 1.14s\n",
            "734:\tlearn: 0.0498633\ttotal: 3.15s\tremaining: 1.13s\n",
            "735:\tlearn: 0.0498281\ttotal: 3.15s\tremaining: 1.13s\n",
            "736:\tlearn: 0.0498095\ttotal: 3.16s\tremaining: 1.13s\n",
            "737:\tlearn: 0.0498055\ttotal: 3.17s\tremaining: 1.12s\n",
            "738:\tlearn: 0.0497130\ttotal: 3.17s\tremaining: 1.12s\n",
            "739:\tlearn: 0.0496513\ttotal: 3.18s\tremaining: 1.12s\n",
            "740:\tlearn: 0.0496244\ttotal: 3.18s\tremaining: 1.11s\n",
            "741:\tlearn: 0.0496061\ttotal: 3.19s\tremaining: 1.11s\n",
            "742:\tlearn: 0.0495481\ttotal: 3.19s\tremaining: 1.1s\n",
            "743:\tlearn: 0.0494761\ttotal: 3.2s\tremaining: 1.1s\n",
            "744:\tlearn: 0.0494116\ttotal: 3.2s\tremaining: 1.1s\n",
            "745:\tlearn: 0.0493579\ttotal: 3.21s\tremaining: 1.09s\n",
            "746:\tlearn: 0.0492839\ttotal: 3.21s\tremaining: 1.09s\n",
            "747:\tlearn: 0.0492741\ttotal: 3.21s\tremaining: 1.08s\n",
            "748:\tlearn: 0.0491933\ttotal: 3.21s\tremaining: 1.08s\n",
            "749:\tlearn: 0.0491846\ttotal: 3.22s\tremaining: 1.07s\n",
            "750:\tlearn: 0.0491662\ttotal: 3.22s\tremaining: 1.07s\n",
            "751:\tlearn: 0.0491552\ttotal: 3.22s\tremaining: 1.06s\n",
            "752:\tlearn: 0.0490918\ttotal: 3.22s\tremaining: 1.06s\n",
            "753:\tlearn: 0.0490820\ttotal: 3.23s\tremaining: 1.05s\n",
            "754:\tlearn: 0.0490591\ttotal: 3.23s\tremaining: 1.05s\n",
            "755:\tlearn: 0.0490287\ttotal: 3.23s\tremaining: 1.04s\n",
            "756:\tlearn: 0.0489906\ttotal: 3.24s\tremaining: 1.04s\n",
            "757:\tlearn: 0.0489571\ttotal: 3.25s\tremaining: 1.04s\n",
            "758:\tlearn: 0.0488747\ttotal: 3.26s\tremaining: 1.03s\n",
            "759:\tlearn: 0.0488664\ttotal: 3.26s\tremaining: 1.03s\n",
            "760:\tlearn: 0.0488392\ttotal: 3.27s\tremaining: 1.03s\n",
            "761:\tlearn: 0.0487742\ttotal: 3.27s\tremaining: 1.02s\n",
            "762:\tlearn: 0.0487381\ttotal: 3.27s\tremaining: 1.02s\n",
            "763:\tlearn: 0.0487288\ttotal: 3.28s\tremaining: 1.01s\n",
            "764:\tlearn: 0.0486775\ttotal: 3.28s\tremaining: 1.01s\n",
            "765:\tlearn: 0.0486211\ttotal: 3.28s\tremaining: 1s\n",
            "766:\tlearn: 0.0485601\ttotal: 3.28s\tremaining: 998ms\n",
            "767:\tlearn: 0.0484974\ttotal: 3.29s\tremaining: 993ms\n",
            "768:\tlearn: 0.0484885\ttotal: 3.29s\tremaining: 988ms\n",
            "769:\tlearn: 0.0484140\ttotal: 3.29s\tremaining: 983ms\n",
            "770:\tlearn: 0.0483587\ttotal: 3.29s\tremaining: 978ms\n",
            "771:\tlearn: 0.0482828\ttotal: 3.3s\tremaining: 974ms\n",
            "772:\tlearn: 0.0482220\ttotal: 3.3s\tremaining: 969ms\n",
            "773:\tlearn: 0.0481223\ttotal: 3.3s\tremaining: 965ms\n",
            "774:\tlearn: 0.0481129\ttotal: 3.31s\tremaining: 961ms\n",
            "775:\tlearn: 0.0480654\ttotal: 3.31s\tremaining: 957ms\n",
            "776:\tlearn: 0.0480598\ttotal: 3.32s\tremaining: 953ms\n",
            "777:\tlearn: 0.0479984\ttotal: 3.33s\tremaining: 949ms\n",
            "778:\tlearn: 0.0479323\ttotal: 3.33s\tremaining: 945ms\n",
            "779:\tlearn: 0.0478881\ttotal: 3.34s\tremaining: 941ms\n",
            "780:\tlearn: 0.0478737\ttotal: 3.34s\tremaining: 937ms\n",
            "781:\tlearn: 0.0478063\ttotal: 3.36s\tremaining: 936ms\n",
            "782:\tlearn: 0.0477973\ttotal: 3.37s\tremaining: 935ms\n",
            "783:\tlearn: 0.0477896\ttotal: 3.38s\tremaining: 931ms\n",
            "784:\tlearn: 0.0477364\ttotal: 3.38s\tremaining: 927ms\n",
            "785:\tlearn: 0.0477160\ttotal: 3.39s\tremaining: 923ms\n",
            "786:\tlearn: 0.0476824\ttotal: 3.4s\tremaining: 919ms\n",
            "787:\tlearn: 0.0476572\ttotal: 3.4s\tremaining: 915ms\n",
            "788:\tlearn: 0.0476381\ttotal: 3.41s\tremaining: 912ms\n",
            "789:\tlearn: 0.0476143\ttotal: 3.42s\tremaining: 908ms\n",
            "790:\tlearn: 0.0475700\ttotal: 3.42s\tremaining: 904ms\n",
            "791:\tlearn: 0.0475138\ttotal: 3.42s\tremaining: 900ms\n",
            "792:\tlearn: 0.0474145\ttotal: 3.43s\tremaining: 896ms\n",
            "793:\tlearn: 0.0473589\ttotal: 3.44s\tremaining: 892ms\n",
            "794:\tlearn: 0.0473467\ttotal: 3.44s\tremaining: 887ms\n",
            "795:\tlearn: 0.0472861\ttotal: 3.44s\tremaining: 882ms\n",
            "796:\tlearn: 0.0472273\ttotal: 3.44s\tremaining: 877ms\n",
            "797:\tlearn: 0.0471493\ttotal: 3.44s\tremaining: 872ms\n",
            "798:\tlearn: 0.0471306\ttotal: 3.45s\tremaining: 868ms\n",
            "799:\tlearn: 0.0470549\ttotal: 3.46s\tremaining: 865ms\n",
            "800:\tlearn: 0.0469854\ttotal: 3.46s\tremaining: 861ms\n",
            "801:\tlearn: 0.0469654\ttotal: 3.47s\tremaining: 856ms\n",
            "802:\tlearn: 0.0469288\ttotal: 3.47s\tremaining: 851ms\n",
            "803:\tlearn: 0.0468687\ttotal: 3.47s\tremaining: 846ms\n",
            "804:\tlearn: 0.0468587\ttotal: 3.48s\tremaining: 842ms\n",
            "805:\tlearn: 0.0467493\ttotal: 3.48s\tremaining: 838ms\n",
            "806:\tlearn: 0.0467319\ttotal: 3.48s\tremaining: 833ms\n",
            "807:\tlearn: 0.0467163\ttotal: 3.49s\tremaining: 829ms\n",
            "808:\tlearn: 0.0466833\ttotal: 3.49s\tremaining: 825ms\n",
            "809:\tlearn: 0.0466637\ttotal: 3.5s\tremaining: 820ms\n",
            "810:\tlearn: 0.0466467\ttotal: 3.5s\tremaining: 816ms\n",
            "811:\tlearn: 0.0466437\ttotal: 3.51s\tremaining: 812ms\n",
            "812:\tlearn: 0.0466369\ttotal: 3.51s\tremaining: 808ms\n",
            "813:\tlearn: 0.0466062\ttotal: 3.52s\tremaining: 804ms\n",
            "814:\tlearn: 0.0465597\ttotal: 3.52s\tremaining: 800ms\n",
            "815:\tlearn: 0.0464751\ttotal: 3.53s\tremaining: 796ms\n",
            "816:\tlearn: 0.0464492\ttotal: 3.54s\tremaining: 792ms\n",
            "817:\tlearn: 0.0463979\ttotal: 3.55s\tremaining: 790ms\n",
            "818:\tlearn: 0.0463252\ttotal: 3.55s\tremaining: 786ms\n",
            "819:\tlearn: 0.0462723\ttotal: 3.56s\tremaining: 782ms\n",
            "820:\tlearn: 0.0462159\ttotal: 3.56s\tremaining: 777ms\n",
            "821:\tlearn: 0.0461737\ttotal: 3.57s\tremaining: 773ms\n",
            "822:\tlearn: 0.0460870\ttotal: 3.57s\tremaining: 769ms\n",
            "823:\tlearn: 0.0460171\ttotal: 3.58s\tremaining: 765ms\n",
            "824:\tlearn: 0.0459576\ttotal: 3.58s\tremaining: 761ms\n",
            "825:\tlearn: 0.0459155\ttotal: 3.59s\tremaining: 756ms\n",
            "826:\tlearn: 0.0458713\ttotal: 3.59s\tremaining: 751ms\n",
            "827:\tlearn: 0.0458585\ttotal: 3.59s\tremaining: 746ms\n",
            "828:\tlearn: 0.0457711\ttotal: 3.6s\tremaining: 742ms\n",
            "829:\tlearn: 0.0457080\ttotal: 3.6s\tremaining: 737ms\n",
            "830:\tlearn: 0.0456681\ttotal: 3.6s\tremaining: 732ms\n",
            "831:\tlearn: 0.0456633\ttotal: 3.6s\tremaining: 727ms\n",
            "832:\tlearn: 0.0456402\ttotal: 3.6s\tremaining: 722ms\n",
            "833:\tlearn: 0.0455977\ttotal: 3.6s\tremaining: 718ms\n",
            "834:\tlearn: 0.0455897\ttotal: 3.61s\tremaining: 713ms\n",
            "835:\tlearn: 0.0455689\ttotal: 3.61s\tremaining: 708ms\n",
            "836:\tlearn: 0.0455468\ttotal: 3.61s\tremaining: 704ms\n",
            "837:\tlearn: 0.0455421\ttotal: 3.61s\tremaining: 699ms\n",
            "838:\tlearn: 0.0455271\ttotal: 3.62s\tremaining: 694ms\n",
            "839:\tlearn: 0.0455218\ttotal: 3.62s\tremaining: 689ms\n",
            "840:\tlearn: 0.0454689\ttotal: 3.62s\tremaining: 684ms\n",
            "841:\tlearn: 0.0454518\ttotal: 3.62s\tremaining: 680ms\n",
            "842:\tlearn: 0.0454464\ttotal: 3.62s\tremaining: 675ms\n",
            "843:\tlearn: 0.0454304\ttotal: 3.63s\tremaining: 670ms\n",
            "844:\tlearn: 0.0453600\ttotal: 3.63s\tremaining: 666ms\n",
            "845:\tlearn: 0.0453417\ttotal: 3.63s\tremaining: 661ms\n",
            "846:\tlearn: 0.0452733\ttotal: 3.63s\tremaining: 656ms\n",
            "847:\tlearn: 0.0452356\ttotal: 3.64s\tremaining: 652ms\n",
            "848:\tlearn: 0.0452221\ttotal: 3.66s\tremaining: 650ms\n",
            "849:\tlearn: 0.0452153\ttotal: 3.66s\tremaining: 646ms\n",
            "850:\tlearn: 0.0451980\ttotal: 3.67s\tremaining: 642ms\n",
            "851:\tlearn: 0.0451321\ttotal: 3.67s\tremaining: 638ms\n",
            "852:\tlearn: 0.0450469\ttotal: 3.68s\tremaining: 634ms\n",
            "853:\tlearn: 0.0450323\ttotal: 3.68s\tremaining: 629ms\n",
            "854:\tlearn: 0.0450116\ttotal: 3.69s\tremaining: 625ms\n",
            "855:\tlearn: 0.0450037\ttotal: 3.69s\tremaining: 621ms\n",
            "856:\tlearn: 0.0449412\ttotal: 3.69s\tremaining: 617ms\n",
            "857:\tlearn: 0.0449081\ttotal: 3.7s\tremaining: 612ms\n",
            "858:\tlearn: 0.0448999\ttotal: 3.71s\tremaining: 608ms\n",
            "859:\tlearn: 0.0448581\ttotal: 3.71s\tremaining: 604ms\n",
            "860:\tlearn: 0.0448004\ttotal: 3.71s\tremaining: 599ms\n",
            "861:\tlearn: 0.0447358\ttotal: 3.71s\tremaining: 595ms\n",
            "862:\tlearn: 0.0447291\ttotal: 3.72s\tremaining: 590ms\n",
            "863:\tlearn: 0.0446847\ttotal: 3.72s\tremaining: 585ms\n",
            "864:\tlearn: 0.0446502\ttotal: 3.72s\tremaining: 581ms\n",
            "865:\tlearn: 0.0446252\ttotal: 3.72s\tremaining: 576ms\n",
            "866:\tlearn: 0.0446188\ttotal: 3.73s\tremaining: 572ms\n",
            "867:\tlearn: 0.0445871\ttotal: 3.73s\tremaining: 567ms\n",
            "868:\tlearn: 0.0445410\ttotal: 3.73s\tremaining: 562ms\n",
            "869:\tlearn: 0.0444927\ttotal: 3.73s\tremaining: 558ms\n",
            "870:\tlearn: 0.0444413\ttotal: 3.73s\tremaining: 553ms\n",
            "871:\tlearn: 0.0444254\ttotal: 3.74s\tremaining: 549ms\n",
            "872:\tlearn: 0.0444181\ttotal: 3.74s\tremaining: 544ms\n",
            "873:\tlearn: 0.0443657\ttotal: 3.74s\tremaining: 540ms\n",
            "874:\tlearn: 0.0443381\ttotal: 3.75s\tremaining: 535ms\n",
            "875:\tlearn: 0.0443304\ttotal: 3.75s\tremaining: 531ms\n",
            "876:\tlearn: 0.0443225\ttotal: 3.75s\tremaining: 526ms\n",
            "877:\tlearn: 0.0443202\ttotal: 3.75s\tremaining: 522ms\n",
            "878:\tlearn: 0.0442676\ttotal: 3.76s\tremaining: 517ms\n",
            "879:\tlearn: 0.0442303\ttotal: 3.76s\tremaining: 513ms\n",
            "880:\tlearn: 0.0441697\ttotal: 3.76s\tremaining: 508ms\n",
            "881:\tlearn: 0.0441165\ttotal: 3.77s\tremaining: 504ms\n",
            "882:\tlearn: 0.0440594\ttotal: 3.77s\tremaining: 499ms\n",
            "883:\tlearn: 0.0440211\ttotal: 3.77s\tremaining: 495ms\n",
            "884:\tlearn: 0.0440040\ttotal: 3.77s\tremaining: 490ms\n",
            "885:\tlearn: 0.0439786\ttotal: 3.77s\tremaining: 486ms\n",
            "886:\tlearn: 0.0439745\ttotal: 3.78s\tremaining: 481ms\n",
            "887:\tlearn: 0.0439452\ttotal: 3.78s\tremaining: 477ms\n",
            "888:\tlearn: 0.0439289\ttotal: 3.78s\tremaining: 472ms\n",
            "889:\tlearn: 0.0438804\ttotal: 3.78s\tremaining: 467ms\n",
            "890:\tlearn: 0.0438377\ttotal: 3.78s\tremaining: 463ms\n",
            "891:\tlearn: 0.0437569\ttotal: 3.79s\tremaining: 459ms\n",
            "892:\tlearn: 0.0437004\ttotal: 3.79s\tremaining: 454ms\n",
            "893:\tlearn: 0.0436929\ttotal: 3.79s\tremaining: 449ms\n",
            "894:\tlearn: 0.0436503\ttotal: 3.79s\tremaining: 445ms\n",
            "895:\tlearn: 0.0436063\ttotal: 3.79s\tremaining: 441ms\n",
            "896:\tlearn: 0.0435871\ttotal: 3.8s\tremaining: 436ms\n",
            "897:\tlearn: 0.0435577\ttotal: 3.8s\tremaining: 432ms\n",
            "898:\tlearn: 0.0435089\ttotal: 3.8s\tremaining: 427ms\n",
            "899:\tlearn: 0.0434585\ttotal: 3.8s\tremaining: 423ms\n",
            "900:\tlearn: 0.0434514\ttotal: 3.81s\tremaining: 418ms\n",
            "901:\tlearn: 0.0434486\ttotal: 3.81s\tremaining: 414ms\n",
            "902:\tlearn: 0.0434156\ttotal: 3.81s\tremaining: 409ms\n",
            "903:\tlearn: 0.0433737\ttotal: 3.81s\tremaining: 405ms\n",
            "904:\tlearn: 0.0433654\ttotal: 3.81s\tremaining: 401ms\n",
            "905:\tlearn: 0.0433231\ttotal: 3.82s\tremaining: 396ms\n",
            "906:\tlearn: 0.0433162\ttotal: 3.82s\tremaining: 392ms\n",
            "907:\tlearn: 0.0433004\ttotal: 3.82s\tremaining: 387ms\n",
            "908:\tlearn: 0.0432938\ttotal: 3.82s\tremaining: 383ms\n",
            "909:\tlearn: 0.0432415\ttotal: 3.83s\tremaining: 378ms\n",
            "910:\tlearn: 0.0432341\ttotal: 3.83s\tremaining: 374ms\n",
            "911:\tlearn: 0.0432021\ttotal: 3.83s\tremaining: 370ms\n",
            "912:\tlearn: 0.0431729\ttotal: 3.83s\tremaining: 365ms\n",
            "913:\tlearn: 0.0430994\ttotal: 3.83s\tremaining: 361ms\n",
            "914:\tlearn: 0.0430954\ttotal: 3.83s\tremaining: 356ms\n",
            "915:\tlearn: 0.0430820\ttotal: 3.84s\tremaining: 352ms\n",
            "916:\tlearn: 0.0430251\ttotal: 3.84s\tremaining: 348ms\n",
            "917:\tlearn: 0.0430186\ttotal: 3.84s\tremaining: 343ms\n",
            "918:\tlearn: 0.0429876\ttotal: 3.84s\tremaining: 339ms\n",
            "919:\tlearn: 0.0429577\ttotal: 3.85s\tremaining: 334ms\n",
            "920:\tlearn: 0.0429054\ttotal: 3.85s\tremaining: 330ms\n",
            "921:\tlearn: 0.0428795\ttotal: 3.85s\tremaining: 326ms\n",
            "922:\tlearn: 0.0428055\ttotal: 3.85s\tremaining: 321ms\n",
            "923:\tlearn: 0.0427525\ttotal: 3.85s\tremaining: 317ms\n",
            "924:\tlearn: 0.0427293\ttotal: 3.86s\tremaining: 313ms\n",
            "925:\tlearn: 0.0427100\ttotal: 3.86s\tremaining: 308ms\n",
            "926:\tlearn: 0.0427029\ttotal: 3.86s\tremaining: 304ms\n",
            "927:\tlearn: 0.0426868\ttotal: 3.86s\tremaining: 300ms\n",
            "928:\tlearn: 0.0426616\ttotal: 3.87s\tremaining: 295ms\n",
            "929:\tlearn: 0.0426070\ttotal: 3.87s\tremaining: 291ms\n",
            "930:\tlearn: 0.0425765\ttotal: 3.87s\tremaining: 287ms\n",
            "931:\tlearn: 0.0425575\ttotal: 3.87s\tremaining: 283ms\n",
            "932:\tlearn: 0.0424981\ttotal: 3.88s\tremaining: 278ms\n",
            "933:\tlearn: 0.0424702\ttotal: 3.88s\tremaining: 274ms\n",
            "934:\tlearn: 0.0424359\ttotal: 3.88s\tremaining: 270ms\n",
            "935:\tlearn: 0.0423592\ttotal: 3.9s\tremaining: 267ms\n",
            "936:\tlearn: 0.0423023\ttotal: 3.9s\tremaining: 263ms\n",
            "937:\tlearn: 0.0422848\ttotal: 3.92s\tremaining: 259ms\n",
            "938:\tlearn: 0.0422784\ttotal: 3.93s\tremaining: 255ms\n",
            "939:\tlearn: 0.0422728\ttotal: 3.93s\tremaining: 251ms\n",
            "940:\tlearn: 0.0422667\ttotal: 3.93s\tremaining: 247ms\n",
            "941:\tlearn: 0.0422076\ttotal: 3.94s\tremaining: 242ms\n",
            "942:\tlearn: 0.0421232\ttotal: 3.94s\tremaining: 238ms\n",
            "943:\tlearn: 0.0420503\ttotal: 3.94s\tremaining: 234ms\n",
            "944:\tlearn: 0.0420426\ttotal: 3.94s\tremaining: 229ms\n",
            "945:\tlearn: 0.0419853\ttotal: 3.94s\tremaining: 225ms\n",
            "946:\tlearn: 0.0419341\ttotal: 3.94s\tremaining: 221ms\n",
            "947:\tlearn: 0.0419036\ttotal: 3.95s\tremaining: 217ms\n",
            "948:\tlearn: 0.0418562\ttotal: 3.95s\tremaining: 212ms\n",
            "949:\tlearn: 0.0418447\ttotal: 3.96s\tremaining: 208ms\n",
            "950:\tlearn: 0.0418161\ttotal: 3.97s\tremaining: 204ms\n",
            "951:\tlearn: 0.0417527\ttotal: 3.97s\tremaining: 200ms\n",
            "952:\tlearn: 0.0417314\ttotal: 3.98s\tremaining: 196ms\n",
            "953:\tlearn: 0.0416804\ttotal: 3.98s\tremaining: 192ms\n",
            "954:\tlearn: 0.0416481\ttotal: 3.98s\tremaining: 188ms\n",
            "955:\tlearn: 0.0416085\ttotal: 3.98s\tremaining: 183ms\n",
            "956:\tlearn: 0.0416023\ttotal: 3.99s\tremaining: 179ms\n",
            "957:\tlearn: 0.0415561\ttotal: 3.99s\tremaining: 175ms\n",
            "958:\tlearn: 0.0415168\ttotal: 3.99s\tremaining: 171ms\n",
            "959:\tlearn: 0.0415128\ttotal: 3.99s\tremaining: 166ms\n",
            "960:\tlearn: 0.0414705\ttotal: 4s\tremaining: 162ms\n",
            "961:\tlearn: 0.0414444\ttotal: 4s\tremaining: 158ms\n",
            "962:\tlearn: 0.0414432\ttotal: 4s\tremaining: 154ms\n",
            "963:\tlearn: 0.0414130\ttotal: 4.01s\tremaining: 150ms\n",
            "964:\tlearn: 0.0413714\ttotal: 4.02s\tremaining: 146ms\n",
            "965:\tlearn: 0.0413198\ttotal: 4.02s\tremaining: 141ms\n",
            "966:\tlearn: 0.0413130\ttotal: 4.02s\tremaining: 137ms\n",
            "967:\tlearn: 0.0412697\ttotal: 4.02s\tremaining: 133ms\n",
            "968:\tlearn: 0.0412674\ttotal: 4.03s\tremaining: 129ms\n",
            "969:\tlearn: 0.0412215\ttotal: 4.03s\tremaining: 125ms\n",
            "970:\tlearn: 0.0411902\ttotal: 4.03s\tremaining: 120ms\n",
            "971:\tlearn: 0.0411323\ttotal: 4.03s\tremaining: 116ms\n",
            "972:\tlearn: 0.0410956\ttotal: 4.03s\tremaining: 112ms\n",
            "973:\tlearn: 0.0410785\ttotal: 4.04s\tremaining: 108ms\n",
            "974:\tlearn: 0.0410482\ttotal: 4.04s\tremaining: 104ms\n",
            "975:\tlearn: 0.0410191\ttotal: 4.05s\tremaining: 99.6ms\n",
            "976:\tlearn: 0.0409521\ttotal: 4.05s\tremaining: 95.5ms\n",
            "977:\tlearn: 0.0409355\ttotal: 4.06s\tremaining: 91.3ms\n",
            "978:\tlearn: 0.0408822\ttotal: 4.06s\tremaining: 87.1ms\n",
            "979:\tlearn: 0.0408543\ttotal: 4.06s\tremaining: 82.9ms\n",
            "980:\tlearn: 0.0408086\ttotal: 4.06s\tremaining: 78.7ms\n",
            "981:\tlearn: 0.0407696\ttotal: 4.07s\tremaining: 74.5ms\n",
            "982:\tlearn: 0.0407021\ttotal: 4.07s\tremaining: 70.4ms\n",
            "983:\tlearn: 0.0406308\ttotal: 4.07s\tremaining: 66.2ms\n",
            "984:\tlearn: 0.0405892\ttotal: 4.07s\tremaining: 62ms\n",
            "985:\tlearn: 0.0405857\ttotal: 4.07s\tremaining: 57.8ms\n",
            "986:\tlearn: 0.0405466\ttotal: 4.08s\tremaining: 53.7ms\n",
            "987:\tlearn: 0.0405139\ttotal: 4.08s\tremaining: 49.5ms\n",
            "988:\tlearn: 0.0404784\ttotal: 4.08s\tremaining: 45.4ms\n",
            "989:\tlearn: 0.0404288\ttotal: 4.08s\tremaining: 41.2ms\n",
            "990:\tlearn: 0.0403838\ttotal: 4.08s\tremaining: 37.1ms\n",
            "991:\tlearn: 0.0403624\ttotal: 4.09s\tremaining: 33ms\n",
            "992:\tlearn: 0.0403565\ttotal: 4.09s\tremaining: 28.8ms\n",
            "993:\tlearn: 0.0403509\ttotal: 4.09s\tremaining: 24.7ms\n",
            "994:\tlearn: 0.0403448\ttotal: 4.09s\tremaining: 20.6ms\n",
            "995:\tlearn: 0.0403394\ttotal: 4.1s\tremaining: 16.5ms\n",
            "996:\tlearn: 0.0402840\ttotal: 4.1s\tremaining: 12.3ms\n",
            "997:\tlearn: 0.0402326\ttotal: 4.1s\tremaining: 8.22ms\n",
            "998:\tlearn: 0.0402118\ttotal: 4.11s\tremaining: 4.11ms\n",
            "999:\tlearn: 0.0401645\ttotal: 4.11s\tremaining: 0us\n"
          ]
        },
        {
          "output_type": "execute_result",
          "data": {
            "text/plain": [
              "<Axes: >"
            ]
          },
          "metadata": {},
          "execution_count": 52
        },
        {
          "output_type": "display_data",
          "data": {
            "text/plain": [
              "<Figure size 1200x1000 with 2 Axes>"
            ],
            "image/png": "[encoded data removed]"
          },
          "metadata": {}
        }
      ],
      "source": [
        "import catboost\n",
        "from catboost import CatBoostClassifier\n",
        "\n",
        "catboost_classifier = CatBoostClassifier()\n",
        "\n",
        "catboost_classifier.fit(X_train, y_train)\n",
        "\n",
        "y_pred_cat = catboost_classifier.predict(X_test)\n",
        "cat_heat = confusion_matrix(y_test, y_pred_cat)\n",
        "sns.heatmap(cat_heat, annot = True, cmap = 'Greens')"
      ],
      "id": "3HHHGZUyszSt"
    },
    {
      "cell_type": "code",
      "execution_count": null,
      "metadata": {
        "id": "Hi1m_LegtJYc",
        "colab": {
          "base_uri": "https://localhost:8080/"
        },
        "outputId": "479baccf-509b-462b-b3a1-795d11212020"
      },
      "outputs": [
        {
          "output_type": "stream",
          "name": "stdout",
          "text": [
            "              precision    recall  f1-score   support\n",
            "\n",
            "           0       0.96      0.97      0.96       494\n",
            "           1       0.97      0.97      0.97       572\n",
            "\n",
            "    accuracy                           0.97      1066\n",
            "   macro avg       0.97      0.97      0.97      1066\n",
            "weighted avg       0.97      0.97      0.97      1066\n",
            "\n"
          ]
        }
      ],
      "source": [
        "print(classification_report(y_test, y_pred_cat))"
      ],
      "id": "Hi1m_LegtJYc"
    },
    {
      "cell_type": "code",
      "execution_count": null,
      "metadata": {
        "id": "drXcBjLTCTNd",
        "colab": {
          "base_uri": "https://localhost:8080/"
        },
        "outputId": "ee43189d-8dc8-47b4-c0d8-096c85d49a06"
      },
      "outputs": [
        {
          "output_type": "stream",
          "name": "stdout",
          "text": [
            "Accuracy: 96.62%\n"
          ]
        }
      ],
      "source": [
        "accuracy = accuracy_score(y_test, y_pred_cat)\n",
        "CatBoost = accuracy\n",
        "print('Accuracy: {:.2f}%'.format(CatBoost * 100))"
      ],
      "id": "drXcBjLTCTNd"
    },
    {
      "cell_type": "markdown",
      "metadata": {
        "id": "0UGqW-hw5UsA"
      },
      "source": [
        "# Comparison table and plot for different models\n",
        "\n",
        "\n",
        "\n",
        "\n"
      ],
      "id": "0UGqW-hw5UsA"
    },
    {
      "cell_type": "code",
      "execution_count": null,
      "metadata": {
        "id": "08K__kbAB-Fm",
        "colab": {
          "base_uri": "https://localhost:8080/",
          "height": 331
        },
        "outputId": "8f2a60e6-59f2-4583-daa7-94891fcb60a3"
      },
      "outputs": [
        {
          "output_type": "execute_result",
          "data": {
            "text/plain": [
              "                  Models  Accuracies\n",
              "0       SVM_with_Bagging   83.864916\n",
              "1   DNN_(200 X 100 X 50)   92.120075\n",
              "2    SVM_with_GridSearch   92.776735\n",
              "3  DNN_(500 X 250 X 100)   92.870544\n",
              "4      DNN_(100, 50, 25)   93.714822\n",
              "5       DNN_(10 X 5 X 2)   93.714822\n",
              "6          Decision_Tree   95.590994\n",
              "7                XGBoost   96.247655\n",
              "8               CatBoost   96.622889"
            ],
            "text/html": [
              "\n",
              "  <div id=\"df-af492e4e-cb49-42fd-9699-ea49d4b08e77\">\n",
              "    <div class=\"colab-df-container\">\n",
              "      <div>\n",
              "<style scoped>\n",
              "    .dataframe tbody tr th:only-of-type {\n",
              "        vertical-align: middle;\n",
              "    }\n",
              "\n",
              "    .dataframe tbody tr th {\n",
              "        vertical-align: top;\n",
              "    }\n",
              "\n",
              "    .dataframe thead th {\n",
              "        text-align: right;\n",
              "    }\n",
              "</style>\n",
              "<table border=\"1\" class=\"dataframe\">\n",
              "  <thead>\n",
              "    <tr style=\"text-align: right;\">\n",
              "      <th></th>\n",
              "      <th>Models</th>\n",
              "      <th>Accuracies</th>\n",
              "    </tr>\n",
              "  </thead>\n",
              "  <tbody>\n",
              "    <tr>\n",
              "      <th>0</th>\n",
              "      <td>SVM_with_Bagging</td>\n",
              "      <td>83.864916</td>\n",
              "    </tr>\n",
              "    <tr>\n",
              "      <th>1</th>\n",
              "      <td>DNN_(200 X 100 X 50)</td>\n",
              "      <td>92.120075</td>\n",
              "    </tr>\n",
              "    <tr>\n",
              "      <th>2</th>\n",
              "      <td>SVM_with_GridSearch</td>\n",
              "      <td>92.776735</td>\n",
              "    </tr>\n",
              "    <tr>\n",
              "      <th>3</th>\n",
              "      <td>DNN_(500 X 250 X 100)</td>\n",
              "      <td>92.870544</td>\n",
              "    </tr>\n",
              "    <tr>\n",
              "      <th>4</th>\n",
              "      <td>DNN_(100, 50, 25)</td>\n",
              "      <td>93.714822</td>\n",
              "    </tr>\n",
              "    <tr>\n",
              "      <th>5</th>\n",
              "      <td>DNN_(10 X 5 X 2)</td>\n",
              "      <td>93.714822</td>\n",
              "    </tr>\n",
              "    <tr>\n",
              "      <th>6</th>\n",
              "      <td>Decision_Tree</td>\n",
              "      <td>95.590994</td>\n",
              "    </tr>\n",
              "    <tr>\n",
              "      <th>7</th>\n",
              "      <td>XGBoost</td>\n",
              "      <td>96.247655</td>\n",
              "    </tr>\n",
              "    <tr>\n",
              "      <th>8</th>\n",
              "      <td>CatBoost</td>\n",
              "      <td>96.622889</td>\n",
              "    </tr>\n",
              "  </tbody>\n",
              "</table>\n",
              "</div>\n",
              "      <button class=\"colab-df-convert\" onclick=\"convertToInteractive('df-af492e4e-cb49-42fd-9699-ea49d4b08e77')\"\n",
              "              title=\"Convert this dataframe to an interactive table.\"\n",
              "              style=\"display:none;\">\n",
              "        \n",
              "  <svg xmlns=\"http://www.w3.org/2000/svg\" height=\"24px\"viewBox=\"0 0 24 24\"\n",
              "       width=\"24px\">\n",
              "    <path d=\"M0 0h24v24H0V0z\" fill=\"none\"/>\n",
              "    <path d=\"M18.56 5.44l.94 2.06.94-2.06 2.06-.94-2.06-.94-.94-2.06-.94 2.06-2.06.94zm-11 1L8.5 8.5l.94-2.06 2.06-.94-2.06-.94L8.5 2.5l-.94 2.06-2.06.94zm10 10l.94 2.06.94-2.06 2.06-.94-2.06-.94-.94-2.06-.94 2.06-2.06.94z\"/><path d=\"M17.41 7.96l-1.37-1.37c-.4-.4-.92-.59-1.43-.59-.52 0-1.04.2-1.43.59L10.3 9.45l-7.72 7.72c-.78.78-.78 2.05 0 2.83L4 21.41c.39.39.9.59 1.41.59.51 0 1.02-.2 1.41-.59l7.78-7.78 2.81-2.81c.8-.78.8-2.07 0-2.86zM5.41 20L4 18.59l7.72-7.72 1.47 1.35L5.41 20z\"/>\n",
              "  </svg>\n",
              "      </button>\n",
              "      \n",
              "  <style>\n",
              "    .colab-df-container {\n",
              "      display:flex;\n",
              "      flex-wrap:wrap;\n",
              "      gap: 12px;\n",
              "    }\n",
              "\n",
              "    .colab-df-convert {\n",
              "      background-color: #E8F0FE;\n",
              "      border: none;\n",
              "      border-radius: 50%;\n",
              "      cursor: pointer;\n",
              "      display: none;\n",
              "      fill: #1967D2;\n",
              "      height: 32px;\n",
              "      padding: 0 0 0 0;\n",
              "      width: 32px;\n",
              "    }\n",
              "\n",
              "    .colab-df-convert:hover {\n",
              "      background-color: #E2EBFA;\n",
              "      box-shadow: 0px 1px 2px rgba(60, 64, 67, 0.3), 0px 1px 3px 1px rgba(60, 64, 67, 0.15);\n",
              "      fill: #174EA6;\n",
              "    }\n",
              "\n",
              "    [theme=dark] .colab-df-convert {\n",
              "      background-color: #3B4455;\n",
              "      fill: #D2E3FC;\n",
              "    }\n",
              "\n",
              "    [theme=dark] .colab-df-convert:hover {\n",
              "      background-color: #434B5C;\n",
              "      box-shadow: 0px 1px 3px 1px rgba(0, 0, 0, 0.15);\n",
              "      filter: drop-shadow(0px 1px 2px rgba(0, 0, 0, 0.3));\n",
              "      fill: #FFFFFF;\n",
              "    }\n",
              "  </style>\n",
              "\n",
              "      <script>\n",
              "        const buttonEl =\n",
              "          document.querySelector('#df-af492e4e-cb49-42fd-9699-ea49d4b08e77 button.colab-df-convert');\n",
              "        buttonEl.style.display =\n",
              "          google.colab.kernel.accessAllowed ? 'block' : 'none';\n",
              "\n",
              "        async function convertToInteractive(key) {\n",
              "          const element = document.querySelector('#df-af492e4e-cb49-42fd-9699-ea49d4b08e77');\n",
              "          const dataTable =\n",
              "            await google.colab.kernel.invokeFunction('convertToInteractive',\n",
              "                                                     [key], {});\n",
              "          if (!dataTable) return;\n",
              "\n",
              "          const docLinkHtml = 'Like what you see? Visit the ' +\n",
              "            '<a target=\"_blank\" href=https://colab.research.google.com/notebooks/data_table.ipynb>data table notebook</a>'\n",
              "            + ' to learn more about interactive tables.';\n",
              "          element.innerHTML = '';\n",
              "          dataTable['output_type'] = 'display_data';\n",
              "          await google.colab.output.renderOutput(dataTable, element);\n",
              "          const docLink = document.createElement('div');\n",
              "          docLink.innerHTML = docLinkHtml;\n",
              "          element.appendChild(docLink);\n",
              "        }\n",
              "      </script>\n",
              "    </div>\n",
              "  </div>\n",
              "  "
            ]
          },
          "metadata": {},
          "execution_count": 62
        }
      ],
      "source": [
        "accuracies = {'Models' : ['DNN_(500 X 250 X 100)', 'DNN_(200 X 100 X 50)', 'DNN_(100, 50, 25)', 'DNN_(10 X 5 X 2)', 'SVM_with_Bagging', 'SVM_with_GridSearch', 'XGBoost', 'Decision_Tree', 'CatBoost'],\n",
        "              'Accuracies' : [DNN_A*100,DNN_B*100, DNN_C*100, DNN_D*100, SVM_with_Bagging*100, SVM_with_GridSearch*100, XGBoost*100, Decision_Tree*100, CatBoost*100]}\n",
        "all_accuracies = pd.DataFrame(accuracies)\n",
        "\n",
        "sorted_accuracies = all_accuracies.sort_values('Accuracies').reset_index().drop(columns = 'index', axis = 0)\n",
        "sorted_accuracies"
      ],
      "id": "08K__kbAB-Fm"
    },
    {
      "cell_type": "code",
      "execution_count": null,
      "metadata": {
        "id": "JtEoAuKaXLQ-",
        "colab": {
          "base_uri": "https://localhost:8080/",
          "height": 731
        },
        "outputId": "7d4dc50b-8b76-4339-a606-762f5d961f80"
      },
      "outputs": [
        {
          "output_type": "display_data",
          "data": {
            "text/plain": [
              "<Figure size 800x600 with 1 Axes>"
            ],
            "image/png": "[encoded data removed]"
          },
          "metadata": {}
        }
      ],
      "source": [
        "sns.set_style(\"whitegrid\")\n",
        "sns.set(rc={'figure.figsize':(8,6)})\n",
        "sns.lineplot(x=sorted_accuracies.index, y='Accuracies', data=sorted_accuracies, marker='o', color='blue', linewidth=2.5)\n",
        "\n",
        "plt.title('Model Accuracies')\n",
        "plt.xlabel('Models')\n",
        "plt.ylabel('Accuracy (%)')\n",
        "plt.xticks(range(0, 9), sorted_accuracies['Models'], rotation = 68)\n",
        "\n",
        "plt.show()"
      ],
      "id": "JtEoAuKaXLQ-"
    },
    {
      "cell_type": "markdown",
      "source": [
        "Hyperparaments employed:-\n",
        "\n",
        "1. DNN: In case of DNN's, we used a few different hyperaparameters:\n",
        "  \n",
        "  1.1. Feature columns: It is somewhat of a standard hyperparameter which specifies the feature columnn used. We used 6 different feature columns.\n",
        "  \n",
        "  1.2. Optimizer: For our purpose of studies we used, 'adam' optimizer. It is the most widely used optimizer used for updating the model's parameters during training.\n",
        "\n",
        "  1.3. Hidden unit: For defining the architecutre of the deep neural network, we have used a set of three hidden layers including - (500, 250, 100), (200, 100, 50), (100, 50, 25) and (10, 5, 2).\n",
        "\n",
        "  1.4. n_classes: These represent the classes that we want to classify. For our case, we are classifying 'clot_size' into '0' and '1'.\n",
        "\n",
        "\n",
        " 2. Support Vector Machine:\n",
        "\n",
        "  2.1. With Bagging: For kernel - 'rbf' and gamma = 'scale', we performed SVM for classification of out target with bagging. And the for bagging, the hyperparameters used are: 'n_estimators' to define the base estimators used which in out case were 10.\n",
        "\n",
        "  2.2. With GridSearchCV: In this case, although it is a manner of exhaustive search which finds the best pyperparameters itself, gridsearchCV it self has parameters including:      \n",
        "\n",
        "      2.2.1. SelectKBest: It selects top k feature with the highest scores based on the 'f_classif' function and computes ANOVA F-value between each feature and the target variable. For our purpose, we specified 'K = 6', meaning top 6 feature with highest scores will be selected.\\\n",
        "\n",
        "      2.2.2. GridSearchCV: It hold the values to the hyperparameters being tuned kernel, C, and gamma.\n",
        "\n",
        "      2.2.3. cv: It specifies number of folds for cross-validaion, it is set to 5, indicating a 5 - fold cross-validation strategy.  \n",
        "\n",
        "3. Decision Tree:\n",
        "  \n",
        "  3.1 max_depth: It is the hyperparamter in the DecisionTreeClassifier that is set to depth = 3 which restricts the maximum depth of the decision tree to 3 levels.\n",
        "\n",
        "4. XGBoost: For our XGBoost based classification, not much of hyperparameter  \n",
        "  tuning was invovled. XGBClassifier() was simply fit to training dataset with it's in-built setting.\n",
        "\n",
        "5. CatBoost: Again, it is also a gradient boosting algorithm which was used for\n",
        "  categorical data analysis of our target data. CatBoostClassifier() was simply fit to the training data with it's in-built settings.   "
      ],
      "metadata": {
        "id": "ox79jBm74Q6w"
      },
      "id": "ox79jBm74Q6w"
    },
    {
      "cell_type": "markdown",
      "source": [
        "# Results\n",
        "\n",
        "We got the results for classification of the clot sizes using different methods for classsification tasks which included Deep Neural Networks (DNN's), Support Vector Machine (SVM) with bagging and gridsearchCV, Decision Tree, XGBoost and CatBoost. The classification is based as such that '0' means normal reponse to wound/injury which would result in clotting and '1' suggests that there is thrombosis in patients.\n",
        "\n",
        "Whilst using DNN with different hidden nodes architechtures which were (500, 250, 100), (200, 100, 50), (100, 50, 25) and (10, 5, 2). All these architectures gave good results which had accuracies above 90% suggesting good classification between normal response versus thrombosis in patients.\n",
        "\n",
        "Support Vector Machine was also employed for our binary classification task for our target feature as well. SVM combined with an ensemble method of bagging gave a result which was only ~83% in accuracy, however, SVM with GridSearchCV allowed for a broader search of hyperparameters which allowed the accuracy to be increased to more then 90%. Also, to be noted that SVM without bagging and gridsearch was also performed but gave the same result as the SVM with bagging, hence was removed.\n",
        "\n",
        "Decision Tree gave a good accuracy for the classification as well having an accruacy above 90% for the depth of the decision tree set to 3 levels.\n",
        "\n",
        "Higher level gradient boosting algorithms were also employed which included XGBoost and CatBoost for classification between patients for response types. Both algorithms showed good classification with accuracies above 95%. Not special hyperparameter were tuned for this, both the algorithms were used with default parameters.\n",
        "\n",
        "Seeing the confustion matrix of most of all the machine learning classification that we used, all of them had high True Negative and True Positives and and minor Type- I and Type - II errors suggesting that the calssification for the normal clotting and thrombotic patients was quite accurate."
      ],
      "metadata": {
        "id": "eUlHwuvdXql8"
      },
      "id": "eUlHwuvdXql8"
    }
  ],
  "metadata": {
    "colab": {
      "provenance": []
    },
    "gpuClass": "standard",
    "kernelspec": {
      "display_name": "Python 3 (ipykernel)",
      "language": "python",
      "name": "python3"
    },
    "language_info": {
      "codemirror_mode": {
        "name": "ipython",
        "version": 3
      },
      "file_extension": ".py",
      "mimetype": "text/x-python",
      "name": "python",
      "nbconvert_exporter": "python",
      "pygments_lexer": "ipython3",
      "version": "3.10.9"
    }
  },
  "nbformat": 4,
  "nbformat_minor": 5
}
